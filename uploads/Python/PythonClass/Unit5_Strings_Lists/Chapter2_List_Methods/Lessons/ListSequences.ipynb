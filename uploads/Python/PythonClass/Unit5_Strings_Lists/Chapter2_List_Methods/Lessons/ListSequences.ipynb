{
 "cells": [
  {
   "cell_type": "markdown",
   "source": "# Section 2.1\n## List Sequences\n- **List Creation**\n- **List Access**\n\n----- \n\n### Student will be able to\n- **Create lists**\n- **Access items in a list**\n- use a method you learned previously to add comments to the top of the assignment to include your name, date, assignment name and something you learned while completing the assignment",
   "metadata": {
    "cell_id": "c0bbafcc-fb9f-43fc-81ae-b9050cb8f7ed",
    "deepnote_cell_type": "markdown"
   }
  },
  {
   "cell_type": "markdown",
   "source": "## Concept: Creating Lists\n[![view video](https://iajupyterprodblobs.blob.core.windows.net/imagecontainer/common/play_video.png)]( http://edxinteractivepage.blob.core.windows.net/edxpages/f7cff1a7-5601-48a1-95a6-fd1fdfabd20e.html?details=[{\"src\":\"http://jupyternootbookwams.streaming.mediaservices.windows.net/933c4e57-93ae-4660-8725-6eff3987dd1c/Unit2_Section2.1a-Creating_Lists.ism/manifest\",\"type\":\"application/vnd.ms-sstr+xml\"}],[{\"src\":\"http://jupyternootbookwams.streaming.mediaservices.windows.net/933c4e57-93ae-4660-8725-6eff3987dd1c/Unit2_Section2.1a-Creating_Lists.vtt\",\"srclang\":\"en\",\"kind\":\"subtitles\",\"label\":\"english\"}])\nA simple lists contains **comma separated** objects enclosed in **square brackets**.\n```python\nempty_list = [ ]\nsample_list = [1, 1, 2, 3, 3, 3, 3, 4, 5, 5, 5, 5, 5]\n```\n\nList object types are not restricted so a mix of object types can be in single list\n```python\nmixed_list = [1, 1, \"one\", \"two\", 2.0, sample_list, \"Hello World\"]\n```",
   "metadata": {
    "cell_id": "00001-89a0d8e3-0e30-4316-a6fe-15f785a19ab2",
    "deepnote_cell_type": "markdown"
   }
  },
  {
   "cell_type": "markdown",
   "source": "### Examples",
   "metadata": {
    "cell_id": "00002-714414be-fc49-48a3-8f9c-de71fc94ba02",
    "deepnote_cell_type": "markdown"
   }
  },
  {
   "cell_type": "code",
   "metadata": {
    "collapsed": false,
    "cell_id": "00003-4e601caf-7398-4e3f-9000-d3790264cc1c",
    "deepnote_cell_type": "code"
   },
   "source": "# [ ] review and run example\n# define list of strings\nft_bones = [\"calcaneus\", \"talus\", \"cuboid\", \"navicular\", \"lateral cuneiform\", \"intermediate cuneiform\", \"medial cuneiform\"]\n\n# display type information\nprint(\"ft_bones: \", type(ft_bones))\n\n# print the list\nprint(ft_bones)",
   "execution_count": null,
   "outputs": []
  },
  {
   "cell_type": "code",
   "metadata": {
    "collapsed": false,
    "cell_id": "00004-e618c415-08b6-4427-8611-bec538bea003",
    "deepnote_cell_type": "code"
   },
   "source": "# [ ] review and run example\n# define list of integers\nage_survey = [12, 14, 12, 29, 12, 14, 12, 12, 13, 12, 14, 13, 13, 46, 13, 12, 12, 13, 13, 12, 12]\n\n# display type information\nprint(\"age_survey: \", type(age_survey))\n\n# print the list\nprint(age_survey)",
   "execution_count": null,
   "outputs": []
  },
  {
   "cell_type": "code",
   "metadata": {
    "collapsed": false,
    "cell_id": "00005-b9b35d4b-045c-4721-9741-b5bc048a422c",
    "deepnote_cell_type": "code"
   },
   "source": "# [ ] review and run example\n# define list of mixed data type\nmixed_list = [1, 34, 0.999, \"dog\", \"cat\", ft_bones, age_survey]\n\n# display type information\nprint(\"mixed_list: \", type(mixed_list))\n\n# print the list\nprint(mixed_list)",
   "execution_count": null,
   "outputs": []
  },
  {
   "cell_type": "markdown",
   "source": "## Task 1: Create Lists",
   "metadata": {
    "collapsed": true,
    "cell_id": "00006-a4313c37-3254-4591-ac90-96e8bac23527",
    "deepnote_cell_type": "markdown"
   }
  },
  {
   "cell_type": "code",
   "metadata": {
    "collapsed": false,
    "cell_id": "00007-c3a830f1-fc2e-44cc-a273-9a9d075a8d59",
    "deepnote_cell_type": "code"
   },
   "source": "# [ ] create a list team_names and populate with 3-5 team name strings\n\n# [ ] print the list\n\n",
   "execution_count": null,
   "outputs": []
  },
  {
   "cell_type": "code",
   "metadata": {
    "collapsed": false,
    "cell_id": "00008-282c61f9-c9d7-49ca-bbc2-b58a1f39061c",
    "deepnote_cell_type": "code"
   },
   "source": "# [ ] Create a list mix_list with numbers and strings with 4-6 items\n\n# [ ] print the list\n\n",
   "execution_count": null,
   "outputs": []
  },
  {
   "cell_type": "markdown",
   "source": "## Concept: List Access \n[![view video](https://iajupyterprodblobs.blob.core.windows.net/imagecontainer/common/play_video.png)]( http://edxinteractivepage.blob.core.windows.net/edxpages/f7cff1a7-5601-48a1-95a6-fd1fdfabd20e.html?details=[{\"src\":\"http://jupyternootbookwams.streaming.mediaservices.windows.net/efc23682-3b15-4c73-afe0-77067fac2769/Unit2_Section2.1b-Accessing_Lists.ism/manifest\",\"type\":\"application/vnd.ms-sstr+xml\"}],[{\"src\":\"http://jupyternootbookwams.streaming.mediaservices.windows.net/efc23682-3b15-4c73-afe0-77067fac2769/Unit2_Section2.1b-Accessing_Lists.vtt\",\"srclang\":\"en\",\"kind\":\"subtitles\",\"label\":\"english\"}])\n### Counting like a computer\n#### To access a list we need to count like a computer, and that means starting with zero (0)\nLists give an **index** number to each list item.\n\n- first element in a list is index 0\n- second element in a list is index 1\n\nTo access the first item in a list use the list name, followed by square brackets containing the index number.\n```python\nage_survey[0]\n```\n",
   "metadata": {
    "cell_id": "00009-52521746-6bb0-4f16-b90a-2fb07d7b58e1",
    "deepnote_cell_type": "markdown"
   }
  },
  {
   "cell_type": "markdown",
   "source": "### Examples\n\n|run previous examples before running the examples below|\n|-----------------------------------------------------------|\n",
   "metadata": {
    "cell_id": "00010-e2efbc2a-5c26-4ffa-9fd4-6af96fc962b2",
    "deepnote_cell_type": "markdown"
   }
  },
  {
   "cell_type": "code",
   "metadata": {
    "collapsed": false,
    "cell_id": "00011-2a81588a-f3f6-45e9-9f17-410285a26bbc",
    "deepnote_cell_type": "code"
   },
   "source": "# [ ] review and run example\nprint(ft_bones[0], \"is the 1st bone on the list\")\nprint(ft_bones[2], \"is the 3rd bone on the list\")\nprint(ft_bones[-1], \"is the last bone on the list\")",
   "execution_count": null,
   "outputs": []
  },
  {
   "cell_type": "code",
   "metadata": {
    "collapsed": false,
    "cell_id": "00012-bdb1b798-2470-4a0d-8803-552add40c3b5",
    "deepnote_cell_type": "code"
   },
   "source": "# [ ] review and run example\nprint(ft_bones[1], \"is connected to the\",ft_bones[3])",
   "execution_count": null,
   "outputs": []
  },
  {
   "cell_type": "code",
   "metadata": {
    "collapsed": false,
    "cell_id": "00013-877d2a6d-d7ae-4dcc-a0f0-d50b6c944a81",
    "deepnote_cell_type": "code"
   },
   "source": "# [ ] review and run example\nthree_ages_sum = age_survey[0] + age_survey[1] + age_survey[2]\nprint(\"The first three ages total\", three_ages_sum)",
   "execution_count": null,
   "outputs": []
  },
  {
   "cell_type": "markdown",
   "source": "## Task 2",
   "metadata": {
    "collapsed": true,
    "cell_id": "00014-f3c63b14-0f4d-46d1-8df9-1d5f911da3ea",
    "deepnote_cell_type": "markdown"
   }
  },
  {
   "cell_type": "code",
   "metadata": {
    "collapsed": false,
    "cell_id": "00015-6a778eb9-946b-4cde-8178-3615e1423844",
    "deepnote_cell_type": "code"
   },
   "source": "# [ ] Create a list, streets, that lists the name of 5 street name strings\n\n# [ ] print a message that there is \"No Parking\" on index 0 or index 4 streets from the list streets.\n\n",
   "execution_count": null,
   "outputs": []
  },
  {
   "cell_type": "code",
   "metadata": {
    "collapsed": false,
    "cell_id": "00016-d0f90f47-8469-4918-9f66-c17f85840d2e",
    "deepnote_cell_type": "code"
   },
   "source": "# [ ] Create a list, num_2_add, made of 5 different numbers between 0 - 25\n\n# [ ] print the sum of the numbers\n\n",
   "execution_count": null,
   "outputs": []
  },
  {
   "cell_type": "markdown",
   "source": "## Task 3: Fix the errors",
   "metadata": {
    "collapsed": true,
    "cell_id": "00017-e22bbfb8-7058-4178-83f3-d78d0716ab9f",
    "deepnote_cell_type": "markdown"
   }
  },
  {
   "cell_type": "code",
   "metadata": {
    "collapsed": false,
    "cell_id": "00018-18131926-b7e3-439b-b7af-3b8c07fb5096",
    "deepnote_cell_type": "code"
   },
   "source": "# [ ] Review & Run, but ***Do Not Edit*** this code cell\n# [ ] Fix the error by only editing and running the block below\n\nprint(\" Total of checks 3 & 4 = $\", pay_checks[2] + pay_checks[3])\n",
   "execution_count": null,
   "outputs": []
  },
  {
   "cell_type": "code",
   "metadata": {
    "collapsed": false,
    "cell_id": "00019-da98bb2e-ab50-4ac4-bb75-6fbc83a0bd41",
    "deepnote_cell_type": "code"
   },
   "source": "# [ ] Fix the error above by creating and running code in this cell\n\n",
   "execution_count": null,
   "outputs": []
  },
  {
   "cell_type": "markdown",
   "source": "[Terms of use](http://go.microsoft.com/fwlink/?LinkID=206977) &nbsp; [Privacy & cookies](https://go.microsoft.com/fwlink/?LinkId=521839) &nbsp; © 2017 Microsoft",
   "metadata": {
    "cell_id": "00020-2344d38b-feaf-481e-952b-b446944ee7ed",
    "deepnote_cell_type": "markdown"
   }
  },
  {
   "cell_type": "markdown",
   "source": "<a style='text-decoration:none;line-height:16px;display:flex;color:#5B5B62;padding:10px;justify-content:end;' href='https://deepnote.com?utm_source=created-in-deepnote-cell&projectId=5ca052dc-70bd-47eb-82e9-a5192427a624' target=\"_blank\">\n<img alt='Created in deepnote.com' style='display:inline;max-height:16px;margin:0px;margin-right:7.5px;' src='data:image/svg+xml;base64,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' > </img>\nCreated in <span style='font-weight:600;margin-left:4px;'>Deepnote</span></a>",
   "metadata": {
    "tags": [],
    "created_in_deepnote_cell": true,
    "deepnote_cell_type": "markdown"
   }
  }
 ],
 "nbformat": 4,
 "nbformat_minor": 1,
 "metadata": {
  "anaconda-cloud": {},
  "kernelspec": {
   "display_name": "Python 3",
   "language": "python",
   "name": "python3"
  },
  "language_info": {
   "codemirror_mode": {
    "name": "ipython",
    "version": 3
   },
   "file_extension": ".py",
   "mimetype": "text/x-python",
   "name": "python",
   "nbconvert_exporter": "python",
   "pygments_lexer": "ipython3",
   "version": "3.5.1"
  },
  "deepnote_notebook_id": "e944ec1a-f2d5-4923-9f93-953c6d0e6590",
  "deepnote": {},
  "deepnote_execution_queue": []
 }
}