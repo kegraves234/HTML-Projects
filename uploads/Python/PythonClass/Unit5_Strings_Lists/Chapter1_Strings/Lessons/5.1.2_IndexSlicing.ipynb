{
  "cells": [
    {
      "cell_type": "markdown",
      "metadata": {
        "id": "4S5QEoiHGa8Z"
      },
      "source": [
        "# Section 1.2\n",
        "## Index Slicing\n",
        "- Accessing string characters with index\n",
        "- **Accessing substrings with index slicing**\n",
        "- Iterating through characters of a string\n",
        "- More string methods\n",
        "\n",
        "----- \n",
        "\n",
        "### Student will be able to\n",
        "- Work with string characters\n",
        "- **Slice strings into substrings**\n",
        "- Iterate through string characters\n",
        "- Use string methods"
      ]
    },
    {
      "cell_type": "markdown",
      "metadata": {
        "id": "BAaza6_nGa8c"
      },
      "source": [
        "## Concept: Accessing Substrings \n",
        "[![view video](https://iajupyterprodblobs.blob.core.windows.net/imagecontainer/common/play_video.png)]( http://edxinteractivepage.blob.core.windows.net/edxpages/f7cff1a7-5601-48a1-95a6-fd1fdfabd20e.html?details=[{\"src\":\"http://jupyternootbookwams.streaming.mediaservices.windows.net/251ad8c1-588b-47de-8638-a5bcd0f29800/Unit2_Section1.2a-Index_Slicing-Substrings.ism/manifest\",\"type\":\"application/vnd.ms-sstr+xml\"}],[{\"src\":\"http://jupyternootbookwams.streaming.mediaservices.windows.net/251ad8c1-588b-47de-8638-a5bcd0f29800/Unit2_Section1.2a-Index_Slicing-Substrings.vtt\",\"srclang\":\"en\",\"kind\":\"subtitles\",\"label\":\"english\"}])\n",
        "### Index Slicing [start:stop]\n",
        "String slicing returns a string section by addressing the start and stop indexes\n",
        "\n",
        "```python\n",
        "# assign string to student_name\n",
        "student_name = \"Colette\"\n",
        "# addressing the 3rd, 4th and 5th characters\n",
        "student_name[2:5]\n",
        "```\n",
        "The slice starts at index 2 and ends at index 5 (but does not include index 5)"
      ]
    },
    {
      "cell_type": "markdown",
      "metadata": {
        "id": "IlZ7AIPSGa8d"
      },
      "source": [
        "### Examples"
      ]
    },
    {
      "cell_type": "code",
      "execution_count": 40,
      "metadata": {
        "id": "B79_qzH3Ga8d"
      },
      "outputs": [
        {
          "name": "stdout",
          "output_type": "stream",
          "text": [
            "slice student_name[2:5]: let\n"
          ]
        }
      ],
      "source": [
        "# [ ] review and run example\n",
        "# assign string to student_name\n",
        "student_name = \"Colette\"\n",
        "\n",
        "# addressing the 3rd, 4th and 5th characters using a slice\n",
        "print(\"slice student_name[2:5]:\",student_name[2:5])"
      ]
    },
    {
      "cell_type": "code",
      "execution_count": 62,
      "metadata": {
        "id": "wkMgUJckGa8e"
      },
      "outputs": [
        {
          "name": "stdout",
          "output_type": "stream",
          "text": [
            "index 2, 3 & 4 of student_name: let\n"
          ]
        }
      ],
      "source": [
        "# [ ] review and run example\n",
        "# assign string to student_name\n",
        "student_name = \"Colette\"\n",
        "\n",
        "# addressing the 3rd, 4th and 5th characters individually\n",
        "print(\"index 2, 3 & 4 of student_name:\", student_name[2] + student_name[3] + student_name[4])"
      ]
    },
    {
      "cell_type": "code",
      "execution_count": 42,
      "metadata": {
        "id": "H77_V3s2Ga8e"
      },
      "outputs": [
        {
          "name": "stdout",
          "output_type": "stream",
          "text": [
            "knowledge\n",
            "knowledge is the 3rd char through the 11th char\n",
            "knowledge is the index 2, \"k\", through index 10, \"e\"\n"
          ]
        }
      ],
      "source": [
        "# [ ] review and run example\n",
        "long_word = 'Acknowledgement'\n",
        "print(long_word[2:11])\n",
        "print(long_word[2:11], \"is the 3rd char through the 11th char\")\n",
        "print(long_word[2:11], \"is the index 2, \\\"\" + long_word[2] + \"\\\",\", \"through index 10, \\\"\" + long_word[10] + \"\\\"\")"
      ]
    },
    {
      "cell_type": "markdown",
      "metadata": {
        "collapsed": true,
        "id": "1UWrSJbnGa8f"
      },
      "source": [
        "## Task 1: Slice a string\n",
        "### Start & stop index"
      ]
    },
    {
      "cell_type": "code",
      "execution_count": 66,
      "metadata": {
        "id": "hWcAWE1xGa8f"
      },
      "outputs": [
        {
          "name": "stdout",
          "output_type": "stream",
          "text": [
            "act\n",
            "tic\n"
          ]
        }
      ],
      "source": [
        "# [ ] slice long_word to print \"act\" and to print \"tic\"\n",
        "long_word = \"characteristics\"\n",
        "print(long_word[4:7])\n",
        "print(long_word[11:14])"
      ]
    },
    {
      "cell_type": "code",
      "execution_count": null,
      "metadata": {
        "id": "3mEpqO5ZGa8f"
      },
      "outputs": [],
      "source": [
        "# [ ] slice long_word to print \"sequence\"\n",
        "long_word = \"Consequences\"\n",
        "\n"
      ]
    },
    {
      "cell_type": "markdown",
      "metadata": {
        "id": "LIPrqpDKGa8g"
      },
      "source": [
        "## Concept: Accessing Substring Beginnings \n",
        "[![view video](https://iajupyterprodblobs.blob.core.windows.net/imagecontainer/common/play_video.png)]( http://edxinteractivepage.blob.core.windows.net/edxpages/f7cff1a7-5601-48a1-95a6-fd1fdfabd20e.html?details=[{\"src\":\"http://jupyternootbookwams.streaming.mediaservices.windows.net/368b352f-6061-488c-80a4-d75e455f4416/Unit2_Section1.2b-Index_Slicing_Beginnings.ism/manifest\",\"type\":\"application/vnd.ms-sstr+xml\"}],[{\"src\":\"http://jupyternootbookwams.streaming.mediaservices.windows.net/368b352f-6061-488c-80a4-d75e455f4416/Unit2_Section1.2b-Index_Slicing_Beginnings.vtt\",\"srclang\":\"en\",\"kind\":\"subtitles\",\"label\":\"english\"}])\n",
        "### Index Slicing [:stop]\n",
        "String slicing returns a string section from index 0 by addressing only the stop index\n",
        "\n",
        "```python\n",
        "student_name = \"Colette\"\n",
        "# addressing the 1st, 2nd & 3rd characters\n",
        "student_name[:3]\n",
        "```\n",
        "**default start for a slice is index 0**"
      ]
    },
    {
      "cell_type": "markdown",
      "metadata": {
        "id": "Svkup_JmGa8g"
      },
      "source": [
        "### Example"
      ]
    },
    {
      "cell_type": "code",
      "execution_count": 45,
      "metadata": {
        "id": "TdD9KQ24Ga8h"
      },
      "outputs": [
        {
          "name": "stdout",
          "output_type": "stream",
          "text": [
            "Col\n"
          ]
        }
      ],
      "source": [
        "# [ ] review and run example\n",
        "student_name = \"Colette\"\n",
        "# addressing the 1st, 2nd & 3rd characters\n",
        "print(student_name[:3])"
      ]
    },
    {
      "cell_type": "markdown",
      "metadata": {
        "collapsed": true,
        "id": "NTQyz5SoGa8h"
      },
      "source": [
        "## Task 2"
      ]
    },
    {
      "cell_type": "code",
      "execution_count": 68,
      "metadata": {
        "id": "rWs-VgAEGa8i"
      },
      "outputs": [
        {
          "name": "stdout",
          "output_type": "stream",
          "text": [
            "Conseq\n"
          ]
        }
      ],
      "source": [
        "# [ ] print the first half of the long_word\n",
        "long_word = \"Consequences\"\n",
        "print(long_word[:6])\n",
        "\n",
        "\n"
      ]
    },
    {
      "cell_type": "markdown",
      "metadata": {
        "id": "SYhdgZ2-Ga8i"
      },
      "source": [
        "## Concept: Accessing Substring Endings \n",
        "[![view video](https://iajupyterprodblobs.blob.core.windows.net/imagecontainer/common/play_video.png)]( http://edxinteractivepage.blob.core.windows.net/edxpages/f7cff1a7-5601-48a1-95a6-fd1fdfabd20e.html?details=[{\"src\":\"http://jupyternootbookwams.streaming.mediaservices.windows.net/29beb75a-aee7-43df-9569-e9ad22cffac4/Unit2_Section1.2c-Index_Slicing_Endings.ism/manifest\",\"type\":\"application/vnd.ms-sstr+xml\"}],[{\"src\":\"http://jupyternootbookwams.streaming.mediaservices.windows.net/29beb75a-aee7-43df-9569-e9ad22cffac4/Unit2_Section1.2c-Index_Slicing_Endings.vtt\",\"srclang\":\"en\",\"kind\":\"subtitles\",\"label\":\"english\"}])\n",
        "### Index Slicing [start:]\n",
        "String slicing returns a string section including by addressing only the start index\n",
        "\n",
        "```python\n",
        "student_name = \"Colette\"\n",
        "# addressing the 4th, 5th and 6th characters\n",
        "student_name[3:]\n",
        "```\n",
        "**default end index returns up to and including the last string character**"
      ]
    },
    {
      "cell_type": "markdown",
      "metadata": {
        "id": "3txQCgCNGa8i"
      },
      "source": [
        "### Example"
      ]
    },
    {
      "cell_type": "code",
      "execution_count": 69,
      "metadata": {
        "id": "yeqHQ6KmGa8i"
      },
      "outputs": [
        {
          "data": {
            "text/plain": [
              "'ette'"
            ]
          },
          "execution_count": 69,
          "metadata": {},
          "output_type": "execute_result"
        }
      ],
      "source": [
        "# [ ] review and run example\n",
        "student_name = \"Colette\"\n",
        "#  4th, 5th, 6th and 7th characters\n",
        "student_name[3:]"
      ]
    },
    {
      "cell_type": "markdown",
      "metadata": {
        "collapsed": true,
        "id": "AXgSQ6w1Ga8i"
      },
      "source": [
        "## Task 3"
      ]
    },
    {
      "cell_type": "code",
      "execution_count": null,
      "metadata": {
        "id": "WwazJ8K2Ga8i"
      },
      "outputs": [],
      "source": [
        "# [ ] print the second half of the long_word\n",
        "long_word = \"Consequences\"\n",
        "\n",
        "# [ ] print a message that there is \"No Parking\" on index 0 or index 4 streets\n",
        "\n"
      ]
    },
    {
      "cell_type": "markdown",
      "metadata": {
        "id": "WGzImY1fGa8i"
      },
      "source": [
        "## Concept: Accessing Substrings by Step Size\n",
        "[![view video](https://iajupyterprodblobs.blob.core.windows.net/imagecontainer/common/play_video.png)]( http://edxinteractivepage.blob.core.windows.net/edxpages/f7cff1a7-5601-48a1-95a6-fd1fdfabd20e.html?details=[{\"src\":\"http://jupyternootbookwams.streaming.mediaservices.windows.net/62c65917-4979-4d26-9a05-09e1ed02cc51/Unit2_Section1.2d-Index_Slicing-Step_Sizes.ism/manifest\",\"type\":\"application/vnd.ms-sstr+xml\"}],[{\"src\":\"http://jupyternootbookwams.streaming.mediaservices.windows.net/62c65917-4979-4d26-9a05-09e1ed02cc51/Unit2_Section1.2d-Index_Slicing-Step_Sizes.vtt\",\"srclang\":\"en\",\"kind\":\"subtitles\",\"label\":\"english\"}])\n",
        "### Index Slicing [:], [::2]\n",
        "- **[:]** returns the entire string\n",
        "- **[::2]** returns the first char and then steps to every other char in the string\n",
        "- **[1::3]** returns the second char and then steps to every third char in the string  \n",
        "\n",
        "the number **2**, in the print statement below, represents the **step** \n",
        "\n",
        "```python\n",
        "print(long_word[::2])\n",
        "```"
      ]
    },
    {
      "cell_type": "markdown",
      "metadata": {
        "id": "R6kERtxNGa8j"
      },
      "source": [
        "### Examples"
      ]
    },
    {
      "cell_type": "code",
      "execution_count": 72,
      "metadata": {
        "id": "HKbbqI3pGa8j"
      },
      "outputs": [
        {
          "name": "stdout",
          "output_type": "stream",
          "text": [
            "Colette\n"
          ]
        }
      ],
      "source": [
        "# [ ] review and run example\n",
        "student_name = \"Colette\"\n",
        "# return all\n",
        "print(student_name[::1])"
      ]
    },
    {
      "cell_type": "code",
      "execution_count": 78,
      "metadata": {
        "id": "oSAhIVHjGa8j"
      },
      "outputs": [
        {
          "name": "stdout",
          "output_type": "stream",
          "text": [
            "Clt\n"
          ]
        }
      ],
      "source": [
        "# [ ] review and run example\n",
        "student_name = \"Colette\"\n",
        "# return every other\n",
        "print(student_name[0:-1:2])"
      ]
    },
    {
      "cell_type": "code",
      "execution_count": 79,
      "metadata": {
        "id": "NU9vNDbSGa8j"
      },
      "outputs": [
        {
          "name": "stdout",
          "output_type": "stream",
          "text": [
            "oet\n"
          ]
        }
      ],
      "source": [
        "# [ ] review and run example\n",
        "student_name = \"Colette\"\n",
        "# return every third, starting at 2nd character\n",
        "print(student_name[1::2])"
      ]
    },
    {
      "cell_type": "code",
      "execution_count": 80,
      "metadata": {
        "id": "YzlrEVmQGa8j"
      },
      "outputs": [
        {
          "name": "stdout",
          "output_type": "stream",
          "text": [
            "osqe\n"
          ]
        }
      ],
      "source": [
        "# [ ] review and run example\n",
        "long_word = \"Consequences\"\n",
        "# starting at 2nd char (index 1) to 9th character, return every other character\n",
        "print(long_word[1:9:2])"
      ]
    },
    {
      "cell_type": "markdown",
      "metadata": {
        "collapsed": true,
        "id": "BCSRJbtaGa8j"
      },
      "source": [
        "## Task 4"
      ]
    },
    {
      "cell_type": "code",
      "execution_count": 81,
      "metadata": {
        "id": "Jv_3Q_LiGa8j"
      },
      "outputs": [
        {
          "name": "stdout",
          "output_type": "stream",
          "text": [
            "Anlge\n"
          ]
        }
      ],
      "source": [
        "# [ ] print the 1st and every 3rd letter of long_word\n",
        "long_word = \"Acknowledgement\"\n",
        "print(long_word[::3])\n"
      ]
    },
    {
      "cell_type": "code",
      "execution_count": null,
      "metadata": {
        "id": "x1KFPQV-Ga8j"
      },
      "outputs": [],
      "source": [
        "# [ ] print every other character of long_word starting at the 3rd character\n",
        "long_word = \"Acknowledgement\"\n",
        "print(long_word[2::2])"
      ]
    },
    {
      "cell_type": "markdown",
      "metadata": {
        "id": "6Qn75kaFGa8k"
      },
      "source": [
        "## Concept: Accessing Substrings Continued  \n",
        "[![view video](https://iajupyterprodblobs.blob.core.windows.net/imagecontainer/common/play_video.png)]( http://edxinteractivepage.blob.core.windows.net/edxpages/f7cff1a7-5601-48a1-95a6-fd1fdfabd20e.html?details=[{\"src\":\"http://jupyternootbookwams.streaming.mediaservices.windows.net/2e59f526-fadb-434e-822e-afe3732f75df/Unit2_Section1.2e-Index_Slicing-Reverse.ism/manifest\",\"type\":\"application/vnd.ms-sstr+xml\"}],[{\"src\":\"http://jupyternootbookwams.streaming.mediaservices.windows.net/2e59f526-fadb-434e-822e-afe3732f75df/Unit2_Section1.2e-Index_Slicing-Reverse.vtt\",\"srclang\":\"en\",\"kind\":\"subtitles\",\"label\":\"english\"}])\n",
        "### Stepping backwards \n",
        "\n",
        "```python\n",
        "print(long_word[::-1])\n",
        "```  \n",
        "\n",
        "Use **[::-1]** to reverse a string."
      ]
    },
    {
      "cell_type": "markdown",
      "metadata": {
        "id": "X7eqnQvjGa8k"
      },
      "source": [
        "### Example"
      ]
    },
    {
      "cell_type": "code",
      "execution_count": 83,
      "metadata": {
        "id": "9NK9Jw4xGa8k",
        "scrolled": true
      },
      "outputs": [
        {
          "name": "stdout",
          "output_type": "stream",
          "text": [
            "scitsiretcarahc\n"
          ]
        }
      ],
      "source": [
        "# [ ] review and run example of stepping backwards using [::-1]\n",
        "long_word = \"characteristics\"\n",
        "# make the step increment -1 to step backwards\n",
        "print(long_word[::-1])"
      ]
    },
    {
      "cell_type": "code",
      "execution_count": 60,
      "metadata": {
        "id": "SHqjO6WLGa8k"
      },
      "outputs": [
        {
          "name": "stdout",
          "output_type": "stream",
          "text": [
            "tcarahc\n"
          ]
        }
      ],
      "source": [
        "# [ ] review and run example of stepping backwards using [6::-1]\n",
        "long_word = \"characteristics\"\n",
        "# start at the 7th letter backwards to start\n",
        "print(long_word[6::-1])"
      ]
    },
    {
      "cell_type": "markdown",
      "metadata": {
        "collapsed": true,
        "id": "QPttBfokGa8k"
      },
      "source": [
        "## Task 5: Use slicing"
      ]
    },
    {
      "cell_type": "code",
      "execution_count": 61,
      "metadata": {
        "id": "9KdD_OWHGa8k"
      },
      "outputs": [
        {
          "name": "stdout",
          "output_type": "stream",
          "text": [
            "desserts\n"
          ]
        }
      ],
      "source": [
        "# [ ] reverse long_word\n",
        "long_word = \"stressed\"\n",
        "\n",
        "print(long_word[::-1])"
      ]
    },
    {
      "cell_type": "code",
      "execution_count": 85,
      "metadata": {
        "id": "OXzDPZEWGa8k"
      },
      "outputs": [
        {
          "name": "stdout",
          "output_type": "stream",
          "text": [
            "arahc\n"
          ]
        }
      ],
      "source": [
        "# [ ] print the first 5 letters of long_word in reverse\n",
        "long_word = \"characteristics\"\n",
        "\n",
        "print(long_word[4::-1])"
      ]
    },
    {
      "cell_type": "markdown",
      "metadata": {
        "collapsed": true,
        "id": "foa6DKODGa8k"
      },
      "source": [
        "## Task 6: Use slicing"
      ]
    },
    {
      "cell_type": "code",
      "execution_count": null,
      "metadata": {
        "id": "X-7C9JhVGa8k"
      },
      "outputs": [],
      "source": [
        "# [ ] print the first 4 letters of long_word\n",
        "# [ ] print the first 4 letters of long_word in reverse\n",
        "# [ ] print the last 4 letters of long_word in reverse\n",
        "# [ ] print the letters spanning indexes 3 to 6 of long_word in Reverse\n",
        "# - note all 4 of these requirements will have 4 characters displayed\n",
        "long_word = \"timeline\"\n",
        "long_word[7:3:-1]\n"
      ]
    },
    {
      "cell_type": "markdown",
      "metadata": {
        "id": "WuZeaHBmGa8k"
      },
      "source": [
        "[Terms of use](http://go.microsoft.com/fwlink/?LinkID=206977) &nbsp; [Privacy & cookies](https://go.microsoft.com/fwlink/?LinkId=521839) &nbsp; © 2017 Microsoft"
      ]
    }
  ],
  "metadata": {
    "anaconda-cloud": {},
    "colab": {
      "name": "40461_Mod01_1.2.ipynb",
      "provenance": []
    },
    "kernelspec": {
      "display_name": "Python 3",
      "language": "python",
      "name": "python3"
    },
    "language_info": {
      "codemirror_mode": {
        "name": "ipython",
        "version": 3
      },
      "file_extension": ".py",
      "mimetype": "text/x-python",
      "name": "python",
      "nbconvert_exporter": "python",
      "pygments_lexer": "ipython3",
      "version": "3.11.8"
    }
  },
  "nbformat": 4,
  "nbformat_minor": 0
}
