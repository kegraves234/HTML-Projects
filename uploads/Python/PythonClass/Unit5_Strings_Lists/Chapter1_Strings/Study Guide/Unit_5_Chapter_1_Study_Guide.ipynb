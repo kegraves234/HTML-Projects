{
 "cells": [
  {
   "cell_type": "markdown",
   "metadata": {},
   "source": [
    "# Python Strings Study Guide\n",
    "## Topics Covered\n",
    "\n",
    "1. **String Sequences**  \n",
    "2. **Indexing and Slicing**  \n",
    "3. **Iterating Through Strings**  \n",
    "4. **Common String Methods**  \n"
   ]
  },
  {
   "cell_type": "markdown",
   "metadata": {},
   "source": [
    "## String Sequences\n",
    "\n",
    "### Explanation\n",
    "Strings in Python are sequences of characters. They are immutable, meaning their content cannot be changed after creation.\n",
    "\n",
    "### Examples\n",
    "```python\n",
    "# Example 1: Creating a string\n",
    "my_string = \"Hello, World!\"\n",
    "print(my_string)\n",
    "\n",
    "# Example 2: Accessing characters in a string\n",
    "first_char = my_string[0]\n",
    "print(first_char)  # Output: H\n"
   ]
  },
  {
   "cell_type": "markdown",
   "metadata": {},
   "source": [
    "## Common Pitfalls\n",
    "- Accessing an index out of range will result in an IndexError.\n",
    "- Strings are 0-indexed, so the first character is at index 0.\n",
    "\n",
    "### Practice Problem\n",
    "Write a program that creates a string with your name and prints the third character."
   ]
  },
  {
   "cell_type": "code",
   "execution_count": null,
   "metadata": {},
   "outputs": [],
   "source": [
    "# create your code here:"
   ]
  },
  {
   "cell_type": "markdown",
   "metadata": {},
   "source": [
    "\n",
    "---\n",
    "## Indexing and Slicing\n",
    "\n",
    "### Explanation\n",
    "Indexing allows you to access individual characters in a string, while slicing lets you access a range of characters.\n",
    "\n",
    "### Examples\n",
    "```python\n",
    "# Example 1: Indexing\n",
    "text = \"Python\"\n",
    "print(text[1])  # Output: y\n",
    "\n",
    "# Example 2: Slicing\n",
    "print(text[0:3])  # Output: Pyt\n"
   ]
  },
  {
   "cell_type": "markdown",
   "metadata": {},
   "source": [
    "### Common Pitfalls\n",
    "- Negative indexing starts from the end of the string.\n",
    "- Slice ranges are exclusive of the end index.\n",
    "### Practice Problem\n",
    "Given a string s = \"Programming\", write a program to print the substring \"gram\"."
   ]
  },
  {
   "cell_type": "code",
   "execution_count": null,
   "metadata": {},
   "outputs": [],
   "source": [
    "#your code here\n"
   ]
  },
  {
   "cell_type": "markdown",
   "metadata": {},
   "source": [
    "\n",
    "---\n",
    "## Iterating Through Strings\n",
    "\n",
    "### Explanation\n",
    "You can use loops to iterate through each character in a string.\n",
    "\n",
    "### Examples\n",
    "```python\n",
    "# Example 1: For loop\n",
    "for char in \"Python\":\n",
    "    print(char)\n",
    "\n",
    "# Example 2: While loop with indexing\n",
    "text = \"Code\"\n",
    "index = 0\n",
    "while index < len(text):\n",
    "    print(text[index])\n",
    "    index += 1\n"
   ]
  },
  {
   "cell_type": "markdown",
   "metadata": {},
   "source": [
    "### Common Pitfalls\n",
    "- Modifying the loop variable inside a for loop can lead to unexpected behavior.\n",
    "### Practice Problem\n",
    "Write a program that counts the number of vowels in the string \"education\"."
   ]
  },
  {
   "cell_type": "code",
   "execution_count": null,
   "metadata": {},
   "outputs": [],
   "source": [
    "#your code here"
   ]
  },
  {
   "cell_type": "markdown",
   "metadata": {},
   "source": [
    "\n",
    "---\n",
    "## Common String Methods\n",
    "\n",
    "### Explanation\n",
    "Python provides various built-in methods for string manipulation.\n",
    "- .upper()\n",
    "- .lower()\n",
    "- .find()\n",
    "- len()\n",
    "- .count()\n",
    "\n",
    "### Examples\n",
    "```python\n",
    "# Example 1: .upper() and .lower()\n",
    "text = \"Hello\"\n",
    "print(text.upper())  # Output: HELLO\n",
    "print(text.lower())  # Output: hello\n",
    "\n",
    "# Example 2: .strip()\n",
    "text = \"   Python   \"\n",
    "print(text.strip())  # Output: Python\n"
   ]
  },
  {
   "cell_type": "markdown",
   "metadata": {},
   "source": [
    "### Common Pitfalls\n",
    "- Methods like .strip() only remove whitespace by default but can take arguments.\n",
    "### Practice Problem\n",
    "Write a program that takes a string and returns it reversed using a string method.\n",
    "\n",
    "\n"
   ]
  },
  {
   "cell_type": "code",
   "execution_count": null,
   "metadata": {},
   "outputs": [],
   "source": [
    "#Your Code Here"
   ]
  }
 ],
 "metadata": {
  "kernelspec": {
   "display_name": "Python 3",
   "language": "python",
   "name": "python3"
  },
  "language_info": {
   "name": "python",
   "version": "3.11.8"
  }
 },
 "nbformat": 4,
 "nbformat_minor": 2
}
