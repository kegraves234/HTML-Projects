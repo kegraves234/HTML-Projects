{
 "cells": [
  {
   "cell_type": "markdown",
   "id": "2cf77f56",
   "metadata": {},
   "source": [
    "# Lab: Exploring Strings and Index Slicing\n",
    "\n",
    "## Objective\n",
    "In this lab, students will:\n",
    "- Work with string characters by index.\n",
    "- Slice strings into substrings using index slicing.\n",
    "- Iterate through string characters.\n",
    "- Apply various string methods to manipulate and analyze strings.\n",
    "\n",
    "---"
   ]
  },
  {
   "cell_type": "markdown",
   "id": "bca50a71",
   "metadata": {},
   "source": [
    "## Part 1: Accessing String Characters with Index\n",
    "### Task 1: Access Individual Characters\n",
    "Write a program that prompts the user to input their favorite word. Use indexing to:\n",
    "1. Print the first character of the word.\n",
    "2. Print the last character of the word.\n",
    "3. Print the third character of the word.\n",
    "\n",
    "#### Example Output:\n",
    "```\n",
    "Enter your favorite word: Python\n",
    "First character: P\n",
    "Last character: n\n",
    "Third character: t\n",
    "```\n",
    "python\n",
    "```\n",
    "\n",
    "word = [user input]\n",
    "print first character of word\n",
    "print last character of word\n",
    "print third character of word\n",
    "```"
   ]
  },
  {
   "cell_type": "code",
   "execution_count": null,
   "id": "ed19f112",
   "metadata": {},
   "outputs": [],
   "source": [
    "# Pseudocode for Task 1\n",
    "# Prompt user for a word\n",
    "# Access and print the first character (index 0)\n",
    "# Access and print the last character (index -1)\n",
    "# Access and print the third character (index 2)\n",
    "### Example of logic:\n"
   ]
  },
  {
   "cell_type": "markdown",
   "id": "abfb62db",
   "metadata": {},
   "source": [
    "## Part 2: Accessing Substrings with Index Slicing\n",
    "### Task 2: Extract Substrings\n",
    "Write a program that:\n",
    "1. Prompts the user to input a sentence.\n",
    "2. Prints the first 5 characters of the sentence.\n",
    "3. Prints the last 5 characters of the sentence.\n",
    "4. Prints the characters from index 2 to 7 (inclusive).\n",
    "\n",
    "#### Example Output:\n",
    "```\n",
    "Enter a sentence: Strings are fun to work with.\n",
    "First 5 characters: Strin\n",
    "Last 5 characters: with.\n",
    "Characters from index 2 to 7: rings\n",
    "```"
   ]
  },
  {
   "cell_type": "code",
   "execution_count": null,
   "id": "ee9e82be",
   "metadata": {},
   "outputs": [],
   "source": [
    "# Pseudocode for Task 2\n",
    "# Prompt user for a sentence\n",
    "# Extract and print the first 5 characters (slicing [:5])\n",
    "# Extract and print the last 5 characters (slicing [-5:])\n",
    "# Extract and print characters from index 2 to 7 (slicing [2:8])"
   ]
  },
  {
   "cell_type": "markdown",
   "id": "c8b3cb99",
   "metadata": {},
   "source": [
    "## Part 3: Iterating Through Characters of a String\n",
    "### Task 3: Iterate Through Characters\n",
    "Write a program that:\n",
    "1. Prompts the user to input a string.\n",
    "2. Iterates through each character of the string and prints each character on a new line.\n",
    "\n",
    "#### Example Output:\n",
    "```\n",
    "Enter a string: Hello\n",
    "H\n",
    "e\n",
    "l\n",
    "l\n",
    "o\n",
    "```"
   ]
  },
  {
   "cell_type": "code",
   "execution_count": 1,
   "id": "abbf0123",
   "metadata": {},
   "outputs": [
    {
     "name": "stdout",
     "output_type": "stream",
     "text": [
      "h\n",
      "e\n",
      "l\n",
      "l\n",
      "o\n"
     ]
    }
   ],
   "source": [
    "# Pseudocode for Task 3\n",
    "# Prompt user for a string\n",
    "# Use a loop to iterate over each character in the string\n",
    "# Print each character on a new line\n",
    "word = input(\"Input a word: \")\n",
    "num = 0\n",
    "\n",
    "for letter in word:\n",
    "    print(letter)\n"
   ]
  },
  {
   "cell_type": "markdown",
   "id": "e6884503",
   "metadata": {},
   "source": [
    "## Part 4: String Methods\n",
    "### Task 4: Experimenting with String Methods\n",
    "Write a program that:\n",
    "1. Prompts the user to input a sentence.\n",
    "2. Converts the sentence to all uppercase letters.\n",
    "3. Converts the sentence to all lowercase letters.\n",
    "4. Reverses the sentence.\n",
    "\n",
    "#### Example Output:\n",
    "```\n",
    "Enter a sentence: Python is amazing.\n",
    "Uppercase: PYTHON IS AMAZING.\n",
    "Lowercase: python is amazing.\n",
    "Reversed: .gnizama si nohtyP\n",
    "```"
   ]
  },
  {
   "cell_type": "code",
   "execution_count": null,
   "id": "bde7d222",
   "metadata": {},
   "outputs": [],
   "source": [
    "# Pseudocode for Task 4\n",
    "# Prompt user for a sentence\n",
    "# Convert the sentence to uppercase using a string method\n",
    "# Convert the sentence to lowercase using a string method\n",
    "# Reverse the sentence using slicing [::-1]\n",
    "# Print each result"
   ]
  },
  {
   "cell_type": "markdown",
   "id": "480db236",
   "metadata": {},
   "source": [
    "## Wrap-up Activity: Palindrome Checker\n",
    "Write a program that checks if a given string is a palindrome (a word that reads the same forwards and backwards).\n",
    "\n",
    "#### Example Output:\n",
    "```\n",
    "Enter a word: racecar\n",
    "'racecar' is a palindrome.\n",
    "\n",
    "Enter a word: hello\n",
    "'hello' is not a palindrome.\n",
    "```"
   ]
  },
  {
   "cell_type": "code",
   "execution_count": null,
   "id": "12cf6ce8",
   "metadata": {},
   "outputs": [],
   "source": [
    "# Pseudocode for Challenge Activity\n",
    "# Prompt user for a word\n",
    "# Reverse the word using slicing [::-1]\n",
    "# Compare the original word with the reversed word\n",
    "# If they are the same, print that the word is a palindrome\n",
    "# Otherwise, print that it is not a palindrome"
   ]
  }
 ],
 "metadata": {
  "kernelspec": {
   "display_name": "Python 3",
   "language": "python",
   "name": "python3"
  },
  "language_info": {
   "name": "python",
   "version": "3.11.8"
  }
 },
 "nbformat": 4,
 "nbformat_minor": 5
}
