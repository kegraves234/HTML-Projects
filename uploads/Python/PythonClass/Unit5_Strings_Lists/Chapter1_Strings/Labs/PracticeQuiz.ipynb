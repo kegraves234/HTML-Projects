{
 "cells": [
  {
   "cell_type": "markdown",
   "metadata": {},
   "source": [
    "# String Indexing"
   ]
  },
  {
   "cell_type": "markdown",
   "metadata": {},
   "source": [
    "Which of the following is correct syntax for string indexing?\n",
    "<dl>\n",
    "    <dd>a)working_string(index)</dd>\n",
    "    <dd>b)working_string{index}</dd>\n",
    "    <dd>c)working_string.index</dd>\n",
    "    <dd>d)working_string[index]</dd>\n",
    "</dl>"
   ]
  },
  {
   "cell_type": "markdown",
   "metadata": {},
   "source": [
    "### Practice Problems"
   ]
  },
  {
   "cell_type": "code",
   "execution_count": null,
   "metadata": {},
   "outputs": [],
   "source": [
    "# [ ] access and print the first and last characters from planet_name\n",
    "planet_name = \"Jupiter\""
   ]
  },
  {
   "cell_type": "code",
   "execution_count": null,
   "metadata": {},
   "outputs": [],
   "source": [
    "# [ ] using a negative index access and print the first character from planet_name: \"J\"\n",
    "planet_name = \"Jupiter\""
   ]
  },
  {
   "cell_type": "markdown",
   "metadata": {},
   "source": [
    "# Index Slicing"
   ]
  },
  {
   "cell_type": "markdown",
   "metadata": {},
   "source": [
    "Which of the following is the proper syntax for index slicing?\n",
    "<dl>\n",
    "    <dd>a)working_string[stop:start:step]</dd>\n",
    "    <dd>b)working_string[start:stop:step]</dd>\n",
    "    <dd>c)working_string[step:start:stop]</dd>\n",
    "    <dd>d)working_string[start:step:stop]</dd>\n",
    "</dl>"
   ]
  },
  {
   "cell_type": "markdown",
   "metadata": {},
   "source": [
    "### Practice Problem"
   ]
  },
  {
   "cell_type": "code",
   "execution_count": null,
   "metadata": {},
   "outputs": [],
   "source": [
    "# [ ] print 1st char and then every 3rd char of wise_words\n",
    "# use string slice with a step\n",
    "wise_words = 'Play it who opens'"
   ]
  },
  {
   "cell_type": "markdown",
   "metadata": {},
   "source": [
    "# Iterating Strings\n"
   ]
  },
  {
   "cell_type": "markdown",
   "metadata": {},
   "source": [
    "What is the correct syntax for iterating over each character in a string s?\n",
    "<dl>\n",
    "    <dd>a)foreach char in s:</dd>\n",
    "    <dd>b)for char of s:</dd>\n",
    "    <dd>c)for char in s:</dd>\n",
    "    <dd>d)for s in char:</dd>\n",
    "</dl>\n"
   ]
  },
  {
   "cell_type": "markdown",
   "metadata": {},
   "source": [
    "### Practice Problem\n"
   ]
  },
  {
   "cell_type": "code",
   "execution_count": null,
   "metadata": {},
   "outputs": [],
   "source": [
    "# [ ] Get user input for 1 fav_food\n",
    "# [ ] iterate through letters in fav_food \n",
    "#    - print each letter on a new line"
   ]
  },
  {
   "cell_type": "markdown",
   "metadata": {},
   "source": [
    "# String Methods"
   ]
  },
  {
   "cell_type": "markdown",
   "metadata": {},
   "source": [
    "Which of the following is FALSE about using the .find() method in Python?\n",
    "\n",
    "<dl>\n",
    "    <dd>A) .find() returns the index of the first occurrence of the substring.</dd>\n",
    "    <dd>B) If the substring is not found, .find() raises a ValueError.</dd>\n",
    "    <dd>C) .find() can accept optional start and end parameters to limit the search range.</dd>\n",
    "    <dd>D) .find() returns -1 if the substring is not found.</dd>\n",
    "</dl>\n",
    "\n",
    "\n",
    "\n"
   ]
  },
  {
   "cell_type": "markdown",
   "metadata": {},
   "source": [
    "### Practice Problems"
   ]
  },
  {
   "cell_type": "code",
   "execution_count": null,
   "metadata": {},
   "outputs": [],
   "source": [
    "# [ ] use len() to find the midpoint of the string \n",
    "# [ ] print the halves on separate lines\n",
    "random_tip = \"wear a hat when it rains\""
   ]
  },
  {
   "cell_type": "code",
   "execution_count": null,
   "metadata": {},
   "outputs": [],
   "source": [
    "# for letters: \"e\" and \"a\" in random_tip\n",
    "# [ ] print letter counts \n",
    "# [ ] BONUS: print which letter is most frequent\n",
    "random_tip = \"wear a hat when it rains\""
   ]
  },
  {
   "cell_type": "code",
   "execution_count": null,
   "metadata": {},
   "outputs": [],
   "source": [
    "# use .find() to output the starting index position of the word 'code' in the string work_tip\n",
    "\n",
    "work_tip = \"good code has meaningful variable names\""
   ]
  }
 ],
 "metadata": {
  "language_info": {
   "name": "python"
  }
 },
 "nbformat": 4,
 "nbformat_minor": 2
}
