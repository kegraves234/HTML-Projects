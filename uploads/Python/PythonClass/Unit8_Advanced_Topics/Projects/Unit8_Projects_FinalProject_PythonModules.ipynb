{
  "nbformat": 4,
  "nbformat_minor": 0,
  "metadata": {
    "colab": {
      "name": "Python Modules_Unit_Project.ipynb",
      "provenance": [],
      "collapsed_sections": []
    },
    "kernelspec": {
      "name": "python3",
      "display_name": "Python 3"
    },
    "language_info": {
      "name": "python"
    }
  },
  "cells": [
    {
      "cell_type": "markdown",
      "source": [
        "# Python Module Project\n",
        "\n",
        "Have you seen how your computer generates a crazy, random password and asks you if you want to use it.\n",
        "\n",
        "We are going to do just that!\n",
        "\n",
        "Your task is to create a program that asks the user how many characters they want their password to be and generates a random password the length of that number.\n",
        "\n",
        "The random character options should include all lower and uppercase letters, numbers, and the following special characters: !@#$%*?\n",
        "\n",
        "Hint - you will need import, join, input, casting and the sample() function from the random module would work well here!\n"
      ],
      "metadata": {
        "id": "Ay_Im88lElvc"
      }
    },
    {
      "cell_type": "code",
      "source": [
        ""
      ],
      "metadata": {
        "id": "IL841kFLC7Kv"
      },
      "execution_count": null,
      "outputs": []
    }
  ]
}