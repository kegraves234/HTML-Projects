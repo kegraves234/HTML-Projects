{
 "cells": [
  {
   "cell_type": "markdown",
   "metadata": {
    "cell_id": "aaef14b1-43ca-473a-831e-0712fc7680ab",
    "deepnote_cell_type": "markdown",
    "deletable": true,
    "editable": true
   },
   "source": [
    "# Section 2.3: Containment, Identity, and Operator Precedence\n",
    "* Containment (in, not in)\n",
    "* Identity (is, is not)\n",
    "* Operator precedence\n",
    "\n",
    "### Students will be able to: \n",
    "* Test whether a list contains a certain element\n",
    "* Test whether a string is contained in another string\n",
    "* Test the identity of objects (i.e. int, float, lists, string)\n",
    "* Recognize the effects of operator precedence (including assignment (=), relational (<, >=,...), Boolean (and, or, not), arithmetic (/ // % * + -), identity (is), and containment (in))\n",
    "* use a method you learned previously to add comments to the top of the assignment to include your name, date, assignment name and something you learned while completing the assignment\n"
   ]
  },
  {
   "cell_type": "markdown",
   "metadata": {
    "cell_id": "00001-486b4edb-79f7-406e-973f-10238cb271fc",
    "deepnote_cell_type": "markdown",
    "deletable": true,
    "editable": true
   },
   "source": [
    "---\n",
    "<font size=\"6\" color=\"#00A0B2\"  face=\"verdana\"> <B>Concepts</B></font>  \n",
    "\n",
    "\n",
    "## Containment (`in`, `not in`)\n",
    "[![view video](https://iajupyterprodblobs.blob.core.windows.net/imagecontainer/common/play_video.png)](http://edxinteractivepage.blob.core.windows.net/edxpages/f7cff1a7-5601-48a1-95a6-fd1fdfabd20e.html?details=[{\"src\":\"http://jupyternootbookwams.streaming.mediaservices.windows.net/2326044b-af10-484c-92e2-9d030651b532/DEV330x-2_3a_containment.ism/manifest\",\"type\":\"application/vnd.ms-sstr+xml\"}],[{\"src\":\"http://jupyternootbookwams.streaming.mediaservices.windows.net/247ee553-c187-4afa-b711-1f7a4dcaf578/DEV330x-2_3a_containment.vtt\",\"srclang\":\"en\",\"kind\":\"subtitles\",\"label\":\"english\"}])\n",
    "\n",
    "You will commonly encounter the need to test whether an element is contained in another container (i.e. list, tuple, string, etc.). For example, you might want to test whether `5` is an element of the list `[4, 8, 5, 6]`, or you might need to know if a substring `\"or\"` is contained within another string `\"Hello World\"`. It is possible to perform these tests by iterating over the elements of the container (list) and comparing them one by one to the element of interest. However, because this procedure is commonly used, Python has a containment operator (`in`), which can perform this procedure much more efficiently.\n",
    "\n",
    "NOTE: You can test if an element is NOT contained in another container by using the (`not in`) operator."
   ]
  },
  {
   "cell_type": "markdown",
   "metadata": {
    "cell_id": "00002-feb1233d-d4e6-4485-ad46-380dfd6d5729",
    "deepnote_cell_type": "markdown",
    "deletable": true,
    "editable": true
   },
   "source": [
    "---\n",
    "<font size=\"6\" color=\"#00A0B2\"  face=\"verdana\"> <B>Examples</B></font>\n"
   ]
  },
  {
   "cell_type": "markdown",
   "metadata": {
    "cell_id": "00003-e9bddf9a-a077-4805-9990-5d348a91e7f5",
    "deepnote_cell_type": "markdown",
    "deletable": true,
    "editable": true
   },
   "source": [
    "### List containment\n",
    "\n",
    "#### Is a number contained in a list?\n",
    "In this example, you will see how to test if a number is contained in another list of numbers"
   ]
  },
  {
   "cell_type": "code",
   "execution_count": null,
   "metadata": {
    "cell_id": "00004-b333e520-a7a4-450a-8974-b45d20d5f8e7",
    "collapsed": true,
    "deepnote_cell_type": "code",
    "deletable": true,
    "editable": true
   },
   "outputs": [],
   "source": [
    "lst_container = [4, 8, 5, 6]\n",
    "\n",
    "x = 5\n",
    "if (x in lst_container):\n",
    "    print(x, \"is contained in list\")\n",
    "else:\n",
    "    print(x, \"is NOT contained in list\")\n",
    "    \n",
    "\n",
    "x = 10\n",
    "if (x in lst_container):\n",
    "    print(x, \"is contained in list\")\n",
    "else:\n",
    "    print(x, \"is NOT contained in list\")"
   ]
  },
  {
   "cell_type": "markdown",
   "metadata": {
    "cell_id": "00005-b4a8fd2b-bd69-418a-a96e-973cbef8d5a4",
    "deepnote_cell_type": "markdown",
    "deletable": true,
    "editable": true
   },
   "source": [
    "#### Is an element contained in a list?\n",
    "A Python list can contain elements of different types. In this example, you will test if an element is contained in a list containing a: number, list, string."
   ]
  },
  {
   "cell_type": "code",
   "execution_count": null,
   "metadata": {
    "cell_id": "00006-337ebaa6-6e8c-4227-bc5a-cef382994160",
    "collapsed": true,
    "deepnote_cell_type": "code",
    "deletable": true,
    "editable": true
   },
   "outputs": [],
   "source": [
    "lst_container = [4, [7, 3], 'string element']\n",
    "\n",
    "# 4 is an element in lst_container\n",
    "x = 4\n",
    "print(x, \"contained in lst_container:\", x in lst_container)\n",
    "\n",
    "# 7 is an element of a list inside lst_container, but it is NOT an element of the lst_container\n",
    "x = 7\n",
    "print(x, \"contained in lst_container:\", x in lst_container)\n",
    "\n",
    "# [7, 3] is an element of lst_container\n",
    "x = [7, 3]\n",
    "print(x, \"contained in lst_container:\", x in lst_container)\n"
   ]
  },
  {
   "cell_type": "markdown",
   "metadata": {
    "cell_id": "00007-1e54a154-ec31-4f15-b72e-8a4735eb5773",
    "deepnote_cell_type": "markdown",
    "deletable": true,
    "editable": true
   },
   "source": [
    "### String containment\n",
    "\n",
    "You can test if a substring is contained in another larger string."
   ]
  },
  {
   "cell_type": "code",
   "execution_count": null,
   "metadata": {
    "cell_id": "00008-6b47290e-a9d7-4a7d-82d9-af92494df512",
    "collapsed": true,
    "deepnote_cell_type": "code",
    "deletable": true,
    "editable": true
   },
   "outputs": [],
   "source": [
    "sentence = \"This is a test sentence\"\n",
    "word1 = \"test\"\n",
    "word2 = \"something\"\n",
    "\n",
    "# testing if word1 is a substring of sentence\n",
    "if (word1 in sentence):\n",
    "    print(word1, \"is contained in:\", sentence)\n",
    "else:\n",
    "    print(word1, \"is not contained in:\", sentence)\n",
    "    \n",
    "# testing if word2 is a substring of sentence\n",
    "if (word2 in sentence):\n",
    "    print(word2, \"is contained in:\", sentence)\n",
    "else:\n",
    "    print(word2, \"is not contained in:\", sentence)\n",
    "    \n",
    "# another method to test if word2 is a substring of sentence\n",
    "# using the not operator\n",
    "if (word2 not in sentence):\n",
    "    print(word2, \"is not contained in:\", sentence)\n",
    "else:\n",
    "    print(word2, \"is contained in:\", sentence)"
   ]
  },
  {
   "cell_type": "markdown",
   "metadata": {
    "cell_id": "00009-a4418f2e-0c2d-434c-a785-8ce09caf826b",
    "deepnote_cell_type": "markdown",
    "deletable": true,
    "editable": true
   },
   "source": [
    "---\n",
    "<font size=\"6\" color=\"#B24C00\"  face=\"verdana\"> <B>Task 1</B></font>\n",
    "\n",
    "## Containment (`in`, `not in`)"
   ]
  },
  {
   "cell_type": "markdown",
   "metadata": {
    "cell_id": "00010-3309274f-0528-4904-82c3-1c71b0e266bc",
    "deepnote_cell_type": "markdown",
    "deletable": true,
    "editable": true
   },
   "source": [
    "### Number containment"
   ]
  },
  {
   "cell_type": "code",
   "execution_count": null,
   "metadata": {
    "cell_id": "00011-b45bed06-0f33-4e3a-abac-546eaaa95d67",
    "collapsed": true,
    "deepnote_cell_type": "code",
    "deletable": true,
    "editable": true
   },
   "outputs": [],
   "source": [
    "# [ ] Write a program to prompt the user for an integer input between 0 and 100\n",
    "# then print if the number is contained in `lst`\n",
    "\n",
    "lst = [22, 89, 69, 78, 58, 22, 56, 13, 74, 8, 32, 58, 8, 63, 46, 79, 9, 38, 25, 96]\n"
   ]
  },
  {
   "cell_type": "markdown",
   "metadata": {
    "cell_id": "00012-e71f8659-14bd-4fc0-944a-9fb4ac5f835d",
    "deepnote_cell_type": "markdown",
    "deletable": true,
    "editable": true
   },
   "source": [
    "### List containment"
   ]
  },
  {
   "cell_type": "code",
   "execution_count": null,
   "metadata": {
    "cell_id": "00013-8b3e8f59-25f9-4b3b-b062-56ab41e5f19f",
    "collapsed": true,
    "deepnote_cell_type": "code",
    "deletable": true,
    "editable": true
   },
   "outputs": [],
   "source": [
    "# [ ] The `records` list contains information about a company's employees\n",
    "# each of the elements in `records` is a list containing the name and ID of an employee.\n",
    "# Write a program to test if `applicant` is contained in `records` and display an appropriate message\n",
    "\n",
    "# Records of names and IDs\n",
    "records = [['Colette', 22347], ['Skye', 35803], ['Alton', 45825], ['Jin', 24213]]\n",
    "\n",
    "applicant = ['Joana', 20294]\n",
    "\n"
   ]
  },
  {
   "cell_type": "markdown",
   "metadata": {
    "cell_id": "00014-3f3564fd-32a7-4ed8-870c-8397ace5883f",
    "deepnote_cell_type": "markdown",
    "deletable": true,
    "editable": true
   },
   "source": [
    "### String containment"
   ]
  },
  {
   "cell_type": "code",
   "execution_count": null,
   "metadata": {
    "cell_id": "00015-a514a805-517d-4d4a-9b37-5bf8cf36a878",
    "collapsed": true,
    "deepnote_cell_type": "code",
    "deletable": true,
    "editable": true
   },
   "outputs": [],
   "source": [
    "# [ ] Write a program to prompt the user for a letter (capital or small) then print if the letter is a vowel\n",
    "# HINT: Use a string containing all the vowels and the `in` or `not in` operator\n",
    "\n",
    "# --Completed--\n",
    "\n",
    "# prompt user for a character\n",
    "c = input(\"Enter a letter: \")\n",
    "\n",
    "if c in \"aeiouAEIOU\":\n",
    "    print(c, \"is a vowel\")\n",
    "else:\n",
    "    print(c, \"is NOT a vowel\")"
   ]
  },
  {
   "cell_type": "markdown",
   "metadata": {
    "cell_id": "00016-5c66e3c0-f20a-4925-8966-9be76955cb8c",
    "deepnote_cell_type": "markdown",
    "deletable": true,
    "editable": true
   },
   "source": [
    "---\n",
    "<font size=\"6\" color=\"#00A0B2\"  face=\"verdana\"> <B>Concepts</B></font>  \n",
    "\n",
    "\n",
    "## Identity (`is`, `is not`)\n",
    "[![view video](https://iajupyterprodblobs.blob.core.windows.net/imagecontainer/common/play_video.png)](http://edxinteractivepage.blob.core.windows.net/edxpages/f7cff1a7-5601-48a1-95a6-fd1fdfabd20e.html?details=[{\"src\":\"http://jupyternootbookwams.streaming.mediaservices.windows.net/a15e74d8-691d-4c4b-8629-ec176f7ee4e7/DEV330x-2_3b_identity.ism/manifest\",\"type\":\"application/vnd.ms-sstr+xml\"}],[{\"src\":\"http://jupyternootbookwams.streaming.mediaservices.windows.net/df49ad45-b704-4f36-b744-6bee05f147c5/DEV330x-2_3b_identity.vtt\",\"srclang\":\"en\",\"kind\":\"subtitles\",\"label\":\"english\"}])\n",
    "\n",
    "Python is an object-oriented programming language that utilizes objects. You have been using objects; however, you have called them variables and lists. Python saves objects in certain memory locations, knowing the locations is of little importance; however, knowing if two seemingly different objects are at the same memory location is important. This will be critically important when dealing with sequences such as list, tuples, strings, and dictionaries.\n",
    "\n",
    "In Python, the concepts of identity and equality are related but not the same, for example:\n",
    "* When two objects are saved in the same memory location, they are equal and identical\n",
    "* When two objects are saved in different memory locations and contain the same information, they are equal but not identical\n",
    "* When two objects are saved in different memory locations and contain different information, they are not equal nor identical\n",
    "\n",
    "You can test whether two objects contain the same information using the equality operators `==` or `!=`. To test whether two objects are identical, you need to use the identity operators `is` or `is not`.\n"
   ]
  },
  {
   "cell_type": "markdown",
   "metadata": {
    "cell_id": "00017-9ef12add-b20e-4354-bfc6-9a8df258bc8a",
    "deepnote_cell_type": "markdown",
    "deletable": true,
    "editable": true
   },
   "source": [
    "---\n",
    "<font size=\"6\" color=\"#00A0B2\"  face=\"verdana\"> <B>Examples</B></font>\n",
    "\n",
    "In the following examples, when objects are identical, it is implied they are saved in the same memory location."
   ]
  },
  {
   "cell_type": "markdown",
   "metadata": {
    "cell_id": "00018-db1f984f-6705-4c8e-bb45-53cbc943c132",
    "deepnote_cell_type": "markdown",
    "deletable": true,
    "editable": true
   },
   "source": [
    "### Identity of variables containing numerical literals\n",
    "\n",
    "#### `int` literals\n",
    "Equal `int` literals are saved in the same memory location"
   ]
  },
  {
   "cell_type": "code",
   "execution_count": null,
   "metadata": {
    "cell_id": "00019-7ca14e37-8572-4c22-9ff3-fa8bd9a90aa7",
    "collapsed": true,
    "deepnote_cell_type": "code",
    "deletable": true,
    "editable": true
   },
   "outputs": [],
   "source": [
    "# x, y: equal, identical \n",
    "x = 5\n",
    "y = 5\n",
    "print(\"x equal y ? \", x == y)\n",
    "print(\"x is identical to y ?\", x is y)"
   ]
  },
  {
   "cell_type": "code",
   "execution_count": null,
   "metadata": {
    "cell_id": "00020-6dc0263c-684c-4405-b32a-97c54f5ef49c",
    "collapsed": true,
    "deepnote_cell_type": "code",
    "deletable": true,
    "editable": true
   },
   "outputs": [],
   "source": [
    "# x, y: not equal, not identical\n",
    "x = 5\n",
    "y = 6\n",
    "print(\"x equal y ? \", x == y)\n",
    "print(\"x is identical to y ?\", x is y)"
   ]
  },
  {
   "cell_type": "markdown",
   "metadata": {
    "cell_id": "00021-b5c99c10-e8cc-4e8a-819c-4fdf707b8837",
    "deepnote_cell_type": "markdown",
    "deletable": true,
    "editable": true
   },
   "source": [
    "#### `float` literals\n",
    "\n",
    "Equal `float` literals are not identical. In other words, equal `float` literals are saved in different memory locations."
   ]
  },
  {
   "cell_type": "code",
   "execution_count": null,
   "metadata": {
    "cell_id": "00022-c2e3df2c-65a3-4567-9307-972422d34786",
    "collapsed": true,
    "deepnote_cell_type": "code",
    "deletable": true,
    "editable": true
   },
   "outputs": [],
   "source": [
    "# x, y: equal, not identical \n",
    "x = 5.6\n",
    "y = 5.6\n",
    "print(\"x equal y ? \", x == y)\n",
    "print(\"x is identical to y ?\", x is y)"
   ]
  },
  {
   "cell_type": "code",
   "execution_count": null,
   "metadata": {
    "cell_id": "00023-06aab3d2-f483-4110-9640-79ba66732a03",
    "collapsed": true,
    "deepnote_cell_type": "code",
    "deletable": true,
    "editable": true
   },
   "outputs": [],
   "source": [
    "# x, y: not equal, not identical \n",
    "x = 5.6\n",
    "y = 10.6\n",
    "print(\"x equal y ? \", x == y)\n",
    "print(\"x is identical to y ?\", x is y)"
   ]
  },
  {
   "cell_type": "markdown",
   "metadata": {
    "cell_id": "00024-0bfae35a-9bc5-4c8c-b9c1-0b913d328aad",
    "deepnote_cell_type": "markdown",
    "deletable": true,
    "editable": true
   },
   "source": [
    "### Identity of variables containing lists\n",
    "\n",
    "The following examples are particularly important to understanding the concept of identity and equality. You will see how you can create two equal but not identical lists, then you will see how to create two identical (and equal) lists and the effect of changing one on the other."
   ]
  },
  {
   "cell_type": "markdown",
   "metadata": {
    "cell_id": "00025-25f1f7d2-7670-431f-9e3b-95761b7c12b7",
    "deepnote_cell_type": "markdown",
    "deletable": true,
    "editable": true
   },
   "source": [
    "#### Equal but not identical lists\n",
    "You can create two equal but not identical lists, by assigning the same list literal to two different variables. A change in one of the list does not have any effect on the content of the other."
   ]
  },
  {
   "cell_type": "code",
   "execution_count": null,
   "metadata": {
    "cell_id": "00026-8ee3d6b8-ee2b-4b12-8c10-8cb54687bd07",
    "collapsed": true,
    "deepnote_cell_type": "code",
    "deletable": true,
    "editable": true
   },
   "outputs": [],
   "source": [
    "# Different lists containing the same data\n",
    "x = [4, 9, 8]\n",
    "y = [4, 9, 8]\n",
    "\n",
    "# x and y are equal, because they contain the same data\n",
    "# x and y are NOT identical, because they are saved in different memory locations\n",
    "print(\"x equal y ? \", x == y)\n",
    "print(\"x is identical to y ?\", x is y)\n",
    "\n",
    "# Because they are not identical, changing x does not affect y\n",
    "x[1] = 5\n",
    "\n",
    "print()\n",
    "print(\"After changing x[1]\")\n",
    "print(\"x =\", x)\n",
    "print(\"y =\", y)\n",
    "print(\"x equal y ? \", x == y)\n",
    "print(\"x is identical to y ?\", x is y)"
   ]
  },
  {
   "cell_type": "markdown",
   "metadata": {
    "cell_id": "00027-250e565a-5a9c-4f27-b239-3f426cf8e040",
    "deepnote_cell_type": "markdown",
    "deletable": true,
    "editable": true
   },
   "source": [
    "#### Equal and identical lists\n",
    "Two variables referring to the same list are called identical variables. They can be treated as two names for the same list; in other words, both of the variables refer to the same memory location and a change in one is reflected as the same change in the other. You can simply create an identical variable by assigning it the variable of interest. The following example illustrates this idea."
   ]
  },
  {
   "cell_type": "code",
   "execution_count": null,
   "metadata": {
    "cell_id": "00028-073fb9eb-ee52-410c-902c-958331c76c78",
    "collapsed": true,
    "deepnote_cell_type": "code",
    "deletable": true,
    "editable": true
   },
   "outputs": [],
   "source": [
    "# Identical list\n",
    "x = [4, 9, 8]\n",
    "y = x\n",
    "\n",
    "# x and y are equal, because they contain the same data\n",
    "# x and y are identical, because they are saved in the same memory location\n",
    "print(\"x equal y ? \", x == y)\n",
    "print(\"x is identical to y ?\", x is y)\n",
    "\n",
    "# Because they are identical, changing x also changes y\n",
    "x[1] = 5\n",
    "\n",
    "print()\n",
    "print(\"After changing x[1]\")\n",
    "print(\"x =\", x)\n",
    "print(\"y =\", y)\n",
    "print(\"x equal y ? \", x == y)\n",
    "print(\"x is identical to y ?\", x is y)"
   ]
  },
  {
   "cell_type": "markdown",
   "metadata": {
    "cell_id": "00029-ae6847d1-2e4e-407e-9795-a8d8af44eba6",
    "deepnote_cell_type": "markdown",
    "deletable": true,
    "editable": true
   },
   "source": [
    "### Identity of variables containing string literals\n",
    "\n",
    "String identity and equality is very similar to that of lists. However, when you assign equal strings to different variables, the interpreter might detect this and optimize the code by making the variables identical."
   ]
  },
  {
   "cell_type": "code",
   "execution_count": null,
   "metadata": {
    "cell_id": "00030-34347c7c-4990-403e-ad9d-793b3f8b0667",
    "collapsed": true,
    "deepnote_cell_type": "code",
    "deletable": true,
    "editable": true
   },
   "outputs": [],
   "source": [
    "# s1, s2: equal, not identical\n",
    "s1 = 'whole milk'\n",
    "s2 = 'whole milk'\n",
    "print(\"s1 equal s2 ? \", s1 == s2)\n",
    "print(\"s1 is identical to s2 ?\", s1 is s2)\n",
    "print(\"s1 is not identical to s2 ?\", s1 is not s2)"
   ]
  },
  {
   "cell_type": "code",
   "execution_count": null,
   "metadata": {
    "cell_id": "00031-3c3de39d-f70d-4ab5-b674-3e2835d8df72",
    "collapsed": true,
    "deepnote_cell_type": "code",
    "deletable": true,
    "editable": true
   },
   "outputs": [],
   "source": [
    "# s1, s2: equal, identical\n",
    "s1 = 'whole milk'\n",
    "s2 = s1\n",
    "print(\"s1 equal s2 ? \", s1 == s2)\n",
    "print(\"s1 is identical to s2 ?\", s1 is s2)\n",
    "print(\"s1 is not identical to s2 ?\", s1 is not s2)"
   ]
  },
  {
   "cell_type": "code",
   "execution_count": null,
   "metadata": {
    "cell_id": "00032-b51f77a8-28ef-4d48-9ea3-45673d8f4785",
    "collapsed": true,
    "deepnote_cell_type": "code",
    "deletable": true,
    "editable": true
   },
   "outputs": [],
   "source": [
    "# s1, s2: equal, identical (after interpreter optimization)\n",
    "s1 = 'python'\n",
    "s2 = 'python'\n",
    "print(\"s1 equal s2 ? \", s1 == s2)\n",
    "print(\"s1 is identical to s2 ?\", s1 is s2)\n",
    "print(\"s1 is not identical to s2 ?\", s1 is not s2)"
   ]
  },
  {
   "cell_type": "code",
   "execution_count": null,
   "metadata": {
    "cell_id": "00033-5728a006-a2ff-47b6-bc77-217b80f19786",
    "collapsed": true,
    "deepnote_cell_type": "code",
    "deletable": true,
    "editable": true
   },
   "outputs": [],
   "source": [
    "# s1, s2: not equal, not identical \n",
    "s1 = 'python'\n",
    "s2 = 'java'\n",
    "print(\"s1 equal s2 ? \", s1 == s2)\n",
    "print(\"s1 is identical to s2 ?\", s1 is s2)\n",
    "print(\"s1 is not identical to s2 ?\", s1 is not s2)"
   ]
  },
  {
   "cell_type": "markdown",
   "metadata": {
    "cell_id": "00034-4734e1ed-991b-44ad-b1d5-c88e3ef5f0fb",
    "deepnote_cell_type": "markdown",
    "deletable": true,
    "editable": true
   },
   "source": [
    "---\n",
    "<font size=\"6\" color=\"#B24C00\"  face=\"verdana\"> <B>Task 2</B></font>\n",
    "\n",
    "## Identity (`is`, `is not`)"
   ]
  },
  {
   "cell_type": "markdown",
   "metadata": {
    "cell_id": "00035-6f75abfe-7875-4481-a0d2-54216c444155",
    "deepnote_cell_type": "markdown",
    "deletable": true,
    "editable": true
   },
   "source": [
    "### Identity of variables containing strings"
   ]
  },
  {
   "cell_type": "code",
   "execution_count": null,
   "metadata": {
    "cell_id": "00036-40356fce-846d-4b63-b58f-ba0705cada88",
    "collapsed": true,
    "deepnote_cell_type": "code",
    "deletable": true,
    "editable": true
   },
   "outputs": [],
   "source": [
    "# [ ] Write a program to:\n",
    "# 1) Create a variable `e` that is equal but NOT identical to `s`\n",
    "# 2) Test the equality and identity of `s` and `e` and print the results\n",
    "# 3) Create a variable `i` that is equal and identical to `s`\n",
    "# 4) Test the equality and identity of `s` and `i` and print the results\n",
    "# 5) Test the equality and identity of `e` and `i` and print the results\n",
    "\n",
    "s = \"Whole Wheat Bread\"\n",
    "#TODO\n"
   ]
  },
  {
   "cell_type": "markdown",
   "metadata": {
    "cell_id": "00037-f3841598-84d9-477b-9dc1-4f696650a9cf",
    "deepnote_cell_type": "markdown",
    "deletable": true,
    "editable": true
   },
   "source": [
    "### Identity of variables containing lists"
   ]
  },
  {
   "cell_type": "code",
   "execution_count": null,
   "metadata": {
    "cell_id": "00038-725000fb-cf70-4975-81fb-a01b27bc7d77",
    "collapsed": true,
    "deepnote_cell_type": "code",
    "deletable": true,
    "editable": true
   },
   "outputs": [],
   "source": [
    "# [ ] Write a program to:\n",
    "# 1) Create a variable `e` that is equal but NOT identical to `x`\n",
    "# 2) Test the equality and identity of `x` and `e` and print the results\n",
    "# 3) Create a variable `i` that is equal and identical to `x`\n",
    "# 4) Test the equality and identity of `x` and `i` and print the results\n",
    "# 5) Test the equality and identity of `e` and `i` and print the results\n",
    "\n",
    "x = [[-1, 2],[3, 4],[-5, 6]]\n",
    "#TODO\n",
    "\n"
   ]
  },
  {
   "cell_type": "markdown",
   "metadata": {
    "cell_id": "00039-37c19f72-9548-434f-bb06-29a88a4b6d8e",
    "deepnote_cell_type": "markdown",
    "deletable": true,
    "editable": true
   },
   "source": [
    "---\n",
    "<font size=\"6\" color=\"#00A0B2\"  face=\"verdana\"> <B>Concepts</B></font>  \n",
    "\n",
    "\n",
    "## Operator Precedence\n",
    "[![view video](https://iajupyterprodblobs.blob.core.windows.net/imagecontainer/common/play_video.png)](http://edxinteractivepage.blob.core.windows.net/edxpages/f7cff1a7-5601-48a1-95a6-fd1fdfabd20e.html?details=[{\"src\":\"http://jupyternootbookwams.streaming.mediaservices.windows.net/38d94845-3999-49d3-91a7-0f049921bb73/DEV330x-2_3c_operator_precedence.ism/manifest\",\"type\":\"application/vnd.ms-sstr+xml\"}],[{\"src\":\"http://jupyternootbookwams.streaming.mediaservices.windows.net/c0b27a76-d780-4f44-9219-5bbc3d408978/DEV330x-2_3c_operator_precedence.vtt\",\"srclang\":\"en\",\"kind\":\"subtitles\",\"label\":\"english\"}])\n",
    "\n",
    "You have seen that the Boolean operator `not` has a higher precedence than the Boolean operators `and` and `or`. You also know that in arithmetic expressions, multiplication has a higher precedence than addition and subtraction. In Python, you can combine different operator types in the same expression (`3 + 1 > 5`); when you do, operator precedence still applies. The following table summarizes operator precedence from lowest precedence to highest precedence. Operators in the same row have the same precedence, and the precedence is resolved from left to right, for example in (`3 * 6 / 9`), `*` and `/` have the same precedence, and Python will perform the multiplication first (`18 / 9`) followed by the division (`2`).\n",
    "\n",
    "|Operator| Short Description|\n",
    "|--------|------------------|\n",
    "|or| Boolean or|\n",
    "|and| Boolean and|\n",
    "|not| Boolean not|\n",
    "|in, not in, is , is not, <, <=, >, >=, !=, ==| Containment and identity test, relational comparison|\n",
    "|+, -| Arithmetic addition and subtraction|\n",
    "|\\*, /, //, % | Arithmetic, multiplication, division, int division, modulo|\n",
    "|\\*\\* | Exponentiation|\n",
    "|(), [], {}| Parentheses, brackets|\n",
    "\n",
    "NOTE: When in doubt, use the parentheses operator to control the precedence in an expression"
   ]
  },
  {
   "cell_type": "markdown",
   "metadata": {
    "cell_id": "00040-e36e8ee9-7abe-459c-8257-98e64ec12efc",
    "deepnote_cell_type": "markdown",
    "deletable": true,
    "editable": true
   },
   "source": [
    "---\n",
    "<font size=\"6\" color=\"#00A0B2\"  face=\"verdana\"> <B>Examples</B></font>\n",
    "\n",
    "Use the operator precedence table to predict the outcome of these examples before looking at the answers."
   ]
  },
  {
   "cell_type": "markdown",
   "metadata": {
    "cell_id": "00041-36f7b760-14fe-4e78-b3bc-3331c8ddf049",
    "deepnote_cell_type": "markdown",
    "deletable": true,
    "editable": true
   },
   "source": [
    "### Arithmetic operations"
   ]
  },
  {
   "cell_type": "code",
   "execution_count": null,
   "metadata": {
    "cell_id": "00042-27332ba4-6e12-4302-8832-0e66a366fb5a",
    "collapsed": true,
    "deepnote_cell_type": "code",
    "deletable": true,
    "editable": true
   },
   "outputs": [],
   "source": [
    "# * has higher precedence\n",
    "2 + 3 * 6"
   ]
  },
  {
   "cell_type": "code",
   "execution_count": null,
   "metadata": {
    "cell_id": "00043-a61489c0-6134-4696-abe4-8caee76b645b",
    "collapsed": true,
    "deepnote_cell_type": "code",
    "deletable": true,
    "editable": true
   },
   "outputs": [],
   "source": [
    "# To change precedence, we add ( )\n",
    "(2 + 3) * 6"
   ]
  },
  {
   "cell_type": "markdown",
   "metadata": {
    "cell_id": "00044-dff85343-4120-4438-a01c-a1789aea5aa9",
    "deepnote_cell_type": "markdown",
    "deletable": true,
    "editable": true
   },
   "source": [
    "### Combined operations"
   ]
  },
  {
   "cell_type": "code",
   "execution_count": null,
   "metadata": {
    "cell_id": "00045-cd18a286-7ad7-4656-a380-6950eb511012",
    "collapsed": true,
    "deepnote_cell_type": "code",
    "deletable": true,
    "editable": true
   },
   "outputs": [],
   "source": [
    "# Arithmetic and relational operations\n",
    "3 * 2 < 10"
   ]
  },
  {
   "cell_type": "code",
   "execution_count": null,
   "metadata": {
    "cell_id": "00046-8d114f55-a134-40ee-b16b-134d6426914a",
    "collapsed": true,
    "deepnote_cell_type": "code",
    "deletable": true,
    "editable": true
   },
   "outputs": [],
   "source": [
    "# Exponentiation has a higher precedence\n",
    "2**3 + 1 == 16"
   ]
  },
  {
   "cell_type": "code",
   "execution_count": null,
   "metadata": {
    "cell_id": "00047-80e93904-51dc-4860-b546-319894a43715",
    "collapsed": true,
    "deepnote_cell_type": "code",
    "deletable": true,
    "editable": true
   },
   "outputs": [],
   "source": [
    "# Adding () changes the precedence of 3 + 1 and the exponentiation operator\n",
    "2 ** (3 + 1) == 16"
   ]
  },
  {
   "cell_type": "code",
   "execution_count": null,
   "metadata": {
    "cell_id": "00048-aa9f4819-6360-4045-8b68-9c91c836c4ac",
    "collapsed": true,
    "deepnote_cell_type": "code",
    "deletable": true,
    "editable": true
   },
   "outputs": [],
   "source": [
    "# Arithmetic, relational, and Boolean operators\n",
    "2 ** (3 + 1) == 16 and 3 * 2 < 10"
   ]
  },
  {
   "cell_type": "code",
   "execution_count": null,
   "metadata": {
    "cell_id": "00049-f9453942-2e63-4d5f-8186-580abba5fe88",
    "collapsed": true,
    "deepnote_cell_type": "code",
    "deletable": true,
    "editable": true
   },
   "outputs": [],
   "source": [
    "# Arithmetic, relational, Boolean, and containment operators\n",
    "2 ** (3 + 1) != 16 or 3 * 2 in [5, 6, 3]"
   ]
  },
  {
   "cell_type": "markdown",
   "metadata": {
    "cell_id": "00050-4f6e9687-12ad-4ad8-b8a9-f331715a2eb3",
    "deepnote_cell_type": "markdown",
    "deletable": true,
    "editable": true
   },
   "source": [
    "### Unexpected outcome!\n",
    "The following 2 examples generate unexpected outcomes!"
   ]
  },
  {
   "cell_type": "code",
   "execution_count": null,
   "metadata": {
    "cell_id": "00051-df318b2a-6cc1-4a10-bd31-5dc0da065dc3",
    "collapsed": true,
    "deepnote_cell_type": "code",
    "deletable": true,
    "editable": true
   },
   "outputs": [],
   "source": [
    "# Unexpected outcome!\n",
    "6 < 10 != True"
   ]
  },
  {
   "cell_type": "code",
   "execution_count": null,
   "metadata": {
    "cell_id": "00052-3fdb28c0-9e3a-4bc3-8dc0-323a42fbef51",
    "collapsed": true,
    "deepnote_cell_type": "code",
    "deletable": true,
    "editable": true
   },
   "outputs": [],
   "source": [
    "# Unexpected outcome!\n",
    "6 < 10 != False"
   ]
  },
  {
   "cell_type": "markdown",
   "metadata": {
    "cell_id": "00053-72a7559b-6bb1-4831-a50d-bf27aa843c59",
    "deepnote_cell_type": "markdown",
    "deletable": true,
    "editable": true
   },
   "source": [
    "What is actually being evaluated is:\n",
    "\n",
    "First case:\n",
    "```python\n",
    "(6 < 10) and (10 != True)\n",
    "```\n",
    "\n",
    "Second case:\n",
    "```python\n",
    "(6 < 10) and (10 != False)\n",
    "```\n",
    "\n",
    "In both cases, 10 is not logical and doesn't equal `True` or `False`. Therefore, both expressions are evaluated as (`True and True`) which is `True`. \n",
    "\n",
    "You might face similar confusing cases. It is highly recommended that you use `()` to fix and debug such cases."
   ]
  },
  {
   "cell_type": "code",
   "execution_count": null,
   "metadata": {
    "cell_id": "00054-03f1db75-aec1-497e-9e95-569128fc722c",
    "collapsed": true,
    "deepnote_cell_type": "code",
    "deletable": true,
    "editable": true
   },
   "outputs": [],
   "source": [
    "# Expected outcome after adding ()\n",
    "(6 < 10) != True"
   ]
  },
  {
   "cell_type": "markdown",
   "metadata": {
    "cell_id": "00055-b99fab2b-f9fe-4f4a-88d2-4fe5d060b332",
    "deepnote_cell_type": "markdown",
    "deletable": true,
    "editable": true
   },
   "source": [
    "---\n",
    "<font size=\"6\" color=\"#B24C00\"  face=\"verdana\"> <B>Task 3</B></font>\n",
    "\n",
    "## Operator Precedence"
   ]
  },
  {
   "cell_type": "code",
   "execution_count": null,
   "metadata": {
    "cell_id": "00056-f83a0981-a06b-4838-b148-b4784dd3c840",
    "collapsed": true,
    "deepnote_cell_type": "code",
    "deletable": true,
    "editable": true
   },
   "outputs": [],
   "source": [
    "# [ ] Correct the following expression so the answer is `True`\n",
    "\n",
    "6 + 2 < 9 == True\n"
   ]
  },
  {
   "cell_type": "code",
   "execution_count": null,
   "metadata": {
    "cell_id": "00057-d4a6a349-a86b-47c8-8b5b-349082079d99",
    "collapsed": true,
    "deepnote_cell_type": "code",
    "deletable": true,
    "editable": true
   },
   "outputs": [],
   "source": [
    "# [ ] Correct the following expression so the answer is `True`\n",
    "\n",
    "3 ** 2 + 1 >= 3 * 8 + 1\n",
    "\n"
   ]
  },
  {
   "cell_type": "code",
   "execution_count": null,
   "metadata": {
    "cell_id": "00058-52753e8d-23fe-426b-a6a6-7b7b94ae5152",
    "collapsed": true,
    "deepnote_cell_type": "code",
    "deletable": true,
    "editable": true
   },
   "outputs": [],
   "source": [
    "# [ ] Correct the following expression so the answer is `True`\n",
    "\n",
    "5 + 3 * 2 == 16\n"
   ]
  },
  {
   "cell_type": "code",
   "execution_count": null,
   "metadata": {
    "cell_id": "00059-339900c8-5385-464c-a836-3b821cdcd36c",
    "collapsed": true,
    "deepnote_cell_type": "code",
    "deletable": true,
    "editable": true
   },
   "outputs": [],
   "source": [
    "# [ ] Correct the following expression so the answer is `True`\n",
    "\n",
    "4 > 3 and 5 + 6 > 7 == True\n",
    "\n"
   ]
  },
  {
   "cell_type": "markdown",
   "metadata": {
    "created_in_deepnote_cell": true,
    "deepnote_cell_type": "markdown",
    "tags": []
   },
   "source": [
    "<a style='text-decoration:none;line-height:16px;display:flex;color:#5B5B62;padding:10px;justify-content:end;' href='https://deepnote.com?utm_source=created-in-deepnote-cell&projectId=fb9de268-90df-4121-a130-d4d911b04871' target=\"_blank\">\n",
    "<img alt='Created in deepnote.com' style='display:inline;max-height:16px;margin:0px;margin-right:7.5px;' src='data:image/svg+xml;base64,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' > </img>\n",
    "Created in <span style='font-weight:600;margin-left:4px;'>Deepnote</span></a>"
   ]
  }
 ],
 "metadata": {
  "deepnote": {},
  "deepnote_execution_queue": [],
  "deepnote_notebook_id": "044c4c42-8fed-48b4-b890-27f349ee06e1",
  "kernelspec": {
   "display_name": "Python 3",
   "language": "python",
   "name": "python3"
  },
  "language_info": {
   "codemirror_mode": {
    "name": "ipython",
    "version": 3
   },
   "file_extension": ".py",
   "mimetype": "text/x-python",
   "name": "python",
   "nbconvert_exporter": "python",
   "pygments_lexer": "ipython3",
   "version": "3.6.3"
  }
 },
 "nbformat": 4,
 "nbformat_minor": 2
}
