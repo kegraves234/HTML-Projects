{
 "cells": [
  {
   "cell_type": "markdown",
   "source": "# Section 2.2: Advanced Loop Structures\n* pass\n* while, for: break, continue\n* Nested loops\n* Loops containing compound conditional expressions\n\n### Students will be able to:\n* Recognize the purpose of a `pass` statement\n* Differentiate between `break` and `continue` statements\n* Control loop iteration using `break` or `continue` \n* Use nested loops to iterate over the elements of a table\n* Employ compound conditional expressions in a loop structure\n* use a method you learned previously to add comments to the top of the assignment to include your name, date, assignment name and something you learned while completing the assignment",
   "metadata": {
    "cell_id": "a94d8630-811c-4413-b7e2-b7c5e2873cfa",
    "deepnote_cell_type": "markdown"
   }
  },
  {
   "cell_type": "markdown",
   "source": "---\n<font size=\"6\" color=\"#00A0B2\"  face=\"verdana\"> <B>Concepts</B></font>  \n\n\n## `pass` statements\n[![view video](https://iajupyterprodblobs.blob.core.windows.net/imagecontainer/common/play_video.png)](http://edxinteractivepage.blob.core.windows.net/edxpages/f7cff1a7-5601-48a1-95a6-fd1fdfabd20e.html?details=[{\"src\":\"http://jupyternootbookwams.streaming.mediaservices.windows.net/5155a699-1c10-4769-9f20-646bc569f62a/DEV330x-2_2a_pass.ism/manifest\",\"type\":\"application/vnd.ms-sstr+xml\"}],[{\"src\":\"http://jupyternootbookwams.streaming.mediaservices.windows.net/c47b51bb-9f15-4dea-9a42-b11856121e9d/DEV330x-2_2a_pass.vtt\",\"srclang\":\"en\",\"kind\":\"subtitles\",\"label\":\"english\"}])\n\nThe `pass` statement does nothing; however, it still has useful applications. It is typically used as a placeholder, indicating that it will be replaced by valid functioning code. For example, say you are developing a function but you are not ready to write its code; you can use `pass` as a placeholder to make your code syntactically correct and avoid any interpreter errors.",
   "metadata": {
    "cell_id": "00001-e0e7181d-7850-4287-b784-1dd7421aba07",
    "deepnote_cell_type": "markdown"
   }
  },
  {
   "cell_type": "markdown",
   "source": "---\n<font size=\"6\" color=\"#00A0B2\"  face=\"verdana\"> <B>Examples</B></font>\n",
   "metadata": {
    "cell_id": "00002-a21abbbb-6fbd-48e0-84c9-1b586697f1d7",
    "deepnote_cell_type": "markdown"
   }
  },
  {
   "cell_type": "code",
   "metadata": {
    "collapsed": true,
    "cell_id": "00003-578a15a7-8d0f-4208-957a-7699fef96921",
    "deepnote_cell_type": "code"
   },
   "source": "# Does nothing, but syntactically valid\ndef useless_function():\n    pass",
   "execution_count": null,
   "outputs": []
  },
  {
   "cell_type": "code",
   "metadata": {
    "collapsed": true,
    "cell_id": "00004-78d3b0d5-c0e5-41b0-b9b7-20ba01cd1f35",
    "deepnote_cell_type": "code"
   },
   "source": "# Does nothing, but syntactically valid\nfor i in range(10):\n    pass",
   "execution_count": null,
   "outputs": []
  },
  {
   "cell_type": "code",
   "metadata": {
    "collapsed": true,
    "cell_id": "00005-a481c455-42e8-452a-93bf-919259f84c2f",
    "deepnote_cell_type": "code"
   },
   "source": "# Does nothing, but syntactically valid\nif (5 < 6):\n    pass",
   "execution_count": null,
   "outputs": []
  },
  {
   "cell_type": "markdown",
   "source": "---\n<font size=\"6\" color=\"#00A0B2\"  face=\"verdana\"> <B>Concepts</B></font>  \n\n\n## Changing Loop Iterations\n[![view video](https://iajupyterprodblobs.blob.core.windows.net/imagecontainer/common/play_video.png)](http://edxinteractivepage.blob.core.windows.net/edxpages/f7cff1a7-5601-48a1-95a6-fd1fdfabd20e.html?details=[{\"src\":\"http://jupyternootbookwams.streaming.mediaservices.windows.net/06d815de-86da-49c0-9e98-da56934d8d1f/DEV330x-2_2b_changing_loop_itera.ism/manifest\",\"type\":\"application/vnd.ms-sstr+xml\"}],[{\"src\":\"http://jupyternootbookwams.streaming.mediaservices.windows.net/d3e85125-08ca-4fa9-b063-48e992bd6fab/DEV330x-2_2b_changing_loop_iteration.vtt\",\"srclang\":\"en\",\"kind\":\"subtitles\",\"label\":\"english\"}])\n\n### `break` statements\nIt is sometimes useful to stop a loop and then resume executing the code that follows. This process is called breaking a loop and can be achieved in Python using a `break` statement. A `break` statement can be used with `while` or `for` loops and it breaks the innermost loop of nested loops. \n\nA `break` statement is useful for improving the efficiency of your code. For example, assume you are looping over the elements of an unsorted list looking for the first occurrence of a 0. If a 0 is encountered earlier in the search, there is no need to continue the search and a loop break would be very desirable. `break` statements can also be used to break out of infinite loops.\n\n### `continue` statements\nSometimes you do not need to break out of a loop, but you want to skip an iteration and jump to the next one. This can be done in Python using the `continue` statement. A `continue` statement can be used with `while` or `for` loops, and it applies to the innermost loop of nested loops. A `continue` statement is used to improve the efficiency of code by skipping unnecessary iterations.",
   "metadata": {
    "cell_id": "00006-d73ff71e-bc5e-4a16-be3c-3e1e015a6325",
    "deepnote_cell_type": "markdown"
   }
  },
  {
   "cell_type": "markdown",
   "source": "---\n<font size=\"6\" color=\"#00A0B2\"  face=\"verdana\"> <B>Examples</B></font>\n\n### `break` statements\n\n#### Breaking loops to improve efficiency",
   "metadata": {
    "cell_id": "00007-b6caf1d8-1107-4c8e-b121-c3be5f8c58fc",
    "deepnote_cell_type": "markdown"
   }
  },
  {
   "cell_type": "code",
   "metadata": {
    "cell_id": "00008-47f06bd8-01ae-49ce-8a29-de40fffa28a4",
    "deepnote_cell_type": "code"
   },
   "source": "# Find the index of the first occurrence of 611 in an arbitrarily long list\n\n# Define a long list\nlst = [976, 618, 812, 898, 804, 689, 611, 630, 467, 411, 648, 931, 618, 425, 328, 196, 56, 615, 458, 166, 115, 118, 22, 585, 213, 855, 615, 478, 234, 360, 981, 174, 993, 627, 911, 385, 219, 577, 540, 49, 164, 109, 893, 727, 687, 709, 971, 781, 802, 701, 789, 421, 863, 44, 573, 91, 140, 338, 36, 102, 502, 723, 134, 336, 940, 969, 649, 598, 413, 307, 929, 951, 993, 436, 149, 280, 907, 733, 713, 268, 29, 946, 102, 277, 352, 449, 527, 201, 566, 643, 118, 587, 717, 358, 542, 223, 846, 244, 83, 268]\n\n# Find the index (without break)\nindex = 0\niteration_count = 0\nfor num in lst:\n    if (num == 611):\n        found_at = index\n    index = index + 1\n    iteration_count = iteration_count + 1\n\nprint(\"Without using a break, 611 was found at index:\", found_at, \"using\", iteration_count, \"iterations\")\n\n\n\n# Find the index (with break)\nindex = 0\niteration_count = 0\nfor num in lst:\n    if (num == 611):\n        found_at = index\n        break # adding a break to improve efficiency\n    index = index + 1\n    iteration_count = iteration_count + 1\n\nprint(\"Using a break, 611 was found at index:\", found_at, \"using\", iteration_count, \"iterations\")",
   "execution_count": null,
   "outputs": []
  },
  {
   "cell_type": "markdown",
   "source": "#### Breaking infinite loops\nInfinite loops have some applications, and a `break` statement would be necessary to break such loops and continue executing the rest of a program. For example, infinite loops are useful for prompting the user for specific input, and should be broken when valid input is entered.",
   "metadata": {
    "cell_id": "00009-dc171699-f081-4f14-a993-9261baf7fbc2",
    "deepnote_cell_type": "markdown"
   }
  },
  {
   "cell_type": "code",
   "metadata": {
    "cell_id": "00010-f42e63d7-8033-4f4a-897b-43a68d947af2",
    "deepnote_cell_type": "code"
   },
   "source": "# Prompt the user for a positive number\nwhile True:\n    x = int(input(\"Enter a positive number: \"))\n    if (x > 0):\n        break #x is positive, break the loop\n    ",
   "execution_count": null,
   "outputs": []
  },
  {
   "cell_type": "markdown",
   "source": "### `continue` statements",
   "metadata": {
    "cell_id": "00011-e01e8ec5-8c0f-4b29-9a19-8164ec6183fe",
    "deepnote_cell_type": "markdown"
   }
  },
  {
   "cell_type": "code",
   "metadata": {
    "cell_id": "00012-40fafc33-c88f-440f-8cbd-eede243867ed",
    "deepnote_cell_type": "code"
   },
   "source": "# Print the odd elements in a list\nlst = [14, 6, 5, 10, 6, 9, 33, 103, 21, 55]\n\nfor num in lst:\n    # Skip all even numbers\n    if (num % 2 == 0):\n        continue\n    print(num)",
   "execution_count": null,
   "outputs": []
  },
  {
   "cell_type": "markdown",
   "source": "---\n<font size=\"6\" color=\"#B24C00\"  face=\"verdana\"> <B>Task 1</B></font>\n\n## Changing Loop Iterations",
   "metadata": {
    "cell_id": "00013-77847157-4228-4418-90f8-3e60fa8d804a",
    "deepnote_cell_type": "markdown"
   }
  },
  {
   "cell_type": "markdown",
   "source": "### Prime numbers\nA prime number is a number greater than 1 that is divisible only by 1 and itself. Prime numbers play an important role in several cryptographic algorithms that we use every day, and it is very useful to build a program to test whether a number is prime.",
   "metadata": {
    "cell_id": "00014-6c5ab89b-9dbe-4d9a-9e2f-41439a9b13c1",
    "deepnote_cell_type": "markdown"
   }
  },
  {
   "cell_type": "code",
   "metadata": {
    "cell_id": "00015-f6f2c89e-d0ea-4ea3-abac-e5b6e05312bc",
    "deepnote_cell_type": "code"
   },
   "source": "# [ ] The following program tests if `num` is prime or not, use a `break` statement to improve its efficiency\n# and reduce the number of necessary iterations\n\n# Compare the number of necessary iterations with and without the `break` statement\n# Use the following numbers for the comparison: \n\nnum = 45345\n#num = 11579\n#num = 948240\n#num = 128093\n#num = 519937\n#num = 694394\n\nprime = True # assume num is prime unless proven otherwise\n\niteration_count = 0\n\nfor i in range(2, num):\n    if num % i == 0:\n        prime = False;\n    iteration_count = iteration_count + 1\n\n# Display results\nif prime:\n    print(num, \"is prime\")\nelse:\n    print(num, \"is NOT prime\")\n\nprint(\"Total number of iterations:\", iteration_count)\n",
   "execution_count": null,
   "outputs": []
  },
  {
   "cell_type": "markdown",
   "source": "### User input",
   "metadata": {
    "cell_id": "00016-8803564e-17f4-4c04-be99-d40e833c5f38",
    "deepnote_cell_type": "markdown"
   }
  },
  {
   "cell_type": "code",
   "metadata": {
    "cell_id": "00017-d0e5e12e-821c-4a35-9df9-8b017e6011e7",
    "deepnote_cell_type": "code"
   },
   "source": "# [ ] Write a program to prompt the user for an odd number; use an infinite loop and a `break` statement.\n",
   "execution_count": null,
   "outputs": []
  },
  {
   "cell_type": "markdown",
   "source": "### `continue`",
   "metadata": {
    "cell_id": "00018-504d5026-9c47-461f-b7eb-acee56540a3b",
    "deepnote_cell_type": "markdown"
   }
  },
  {
   "cell_type": "code",
   "metadata": {
    "cell_id": "00019-66c688f5-c510-491d-82b9-c6d4aeb51d58",
    "deepnote_cell_type": "code"
   },
   "source": "# [ ] Modify the following program to display numbers that are divisible by 7 along with their square roots.\n# HINT: Use a `continue` statement in the loop\n\nfrom math import sqrt\n\nfor num in range(1, 100):\n    #TODO\n    print(num)\n    ",
   "execution_count": null,
   "outputs": []
  },
  {
   "cell_type": "markdown",
   "source": "---\n<font size=\"6\" color=\"#00A0B2\"  face=\"verdana\"> <B>Concepts</B></font>  \n\n\n## Nested loops\n[![view video](https://iajupyterprodblobs.blob.core.windows.net/imagecontainer/common/play_video.png)](http://edxinteractivepage.blob.core.windows.net/edxpages/f7cff1a7-5601-48a1-95a6-fd1fdfabd20e.html?details=[{\"src\":\"http://jupyternootbookwams.streaming.mediaservices.windows.net/85528e5f-0e46-4493-b997-b7b1cf504c6a/DEV330x-2_2c_nested_loops.ism/manifest\",\"type\":\"application/vnd.ms-sstr+xml\"}],[{\"src\":\"http://jupyternootbookwams.streaming.mediaservices.windows.net/1c4cc361-3603-45d5-9d59-be7ff9846d7b/DEV330x-2_2c_nested_loops.vtt\",\"srclang\":\"en\",\"kind\":\"subtitles\",\"label\":\"english\"}])\n\nYou can use a loop inside another loop, this concept is known as nested loops. Nested loops have many applications, but they are especially useful for iterating over the elements of a table. A table can be represented in Python as a 2 dimensional list, which is a list containing other lists. You will need two loops to iterate over all the elements of a table, the outer loop iterates over the rows of the table, while the inner loop iterates over the columns in each row.\n",
   "metadata": {
    "cell_id": "00020-0dd84463-a2cd-4f5c-9598-2e9392d9a71f",
    "deepnote_cell_type": "markdown"
   }
  },
  {
   "cell_type": "markdown",
   "source": "---\n<font size=\"6\" color=\"#00A0B2\"  face=\"verdana\"> <B>Examples</B></font>\n\n### Displaying a table\nIn this example, you will print the elements of a 2 dimensional list as a table:\n\n| \n|---|---|---|\n| 5 | 2 | 6 |\n| 4 | 6 | 0 |\n| 9 | 1 | 8 |\n| 7 | 3 | 8 |\n\nNOTE: `print` statements end with a new line character. You can change this behavior by using an optional argument `end`. By default `end` is set to a new line. You can set it to the empty string to suppress the new line behavior. In this example, you will set `end` to `\\t`, which replaces the new line with a tab.\n",
   "metadata": {
    "cell_id": "00021-28a99a58-c019-4dc0-a057-ea517dcdcc43",
    "deepnote_cell_type": "markdown"
   }
  },
  {
   "cell_type": "code",
   "metadata": {
    "cell_id": "00022-1345211a-d2f8-4caa-8c11-0c9dcbfc5603",
    "deepnote_cell_type": "code"
   },
   "source": "# list of lists\ntable = [[5, 2, 6], [4, 6, 0], [9, 1, 8], [7, 3, 8]]\n\nfor row in table:\n    for col in row:\n        # print the value col followed by a tab\n        print(col, end = \"\\t\")\n\n    # Print a new line\n    print()",
   "execution_count": null,
   "outputs": []
  },
  {
   "cell_type": "markdown",
   "source": "### Character art\nIn this example you will see how you can generate an interesting two dimensional character art",
   "metadata": {
    "cell_id": "00023-8dea0161-328f-41cd-b70a-c8695469944a",
    "deepnote_cell_type": "markdown"
   }
  },
  {
   "cell_type": "code",
   "metadata": {
    "cell_id": "00024-7a37edc1-48a8-4e8a-8e77-cca093245a21",
    "deepnote_cell_type": "code"
   },
   "source": "# Generate a staircase character art\n# Size controls the number of steps\ndef char_art(steps):\n    for row in range(steps):\n        for col in range(steps):\n            if(col <= row):\n                print(\"[]\", end = \"\")\n        print()\n\n# Generate a staircase with 6 steps                \nchar_art(6)",
   "execution_count": null,
   "outputs": []
  },
  {
   "cell_type": "markdown",
   "source": "---\n<font size=\"6\" color=\"#B24C00\"  face=\"verdana\"> <B>Task 2</B></font>\n\n## Nested Loops",
   "metadata": {
    "cell_id": "00025-946da553-2ea7-4e27-8cb4-3f14351afa6f",
    "deepnote_cell_type": "markdown"
   }
  },
  {
   "cell_type": "markdown",
   "source": "### Sum of rows",
   "metadata": {
    "cell_id": "00026-e5e92686-0d45-47bc-a851-8fb9447b299f",
    "deepnote_cell_type": "markdown"
   }
  },
  {
   "cell_type": "code",
   "metadata": {
    "cell_id": "00027-3cd9b8e4-355c-465a-b5a0-e583b2b3a2a1",
    "deepnote_cell_type": "code"
   },
   "source": "# [ ] Write a program to display the sum of each row in table\ntable = [[5, 2, 6], [4, 6, 0], [9, 1, 8], [7, 3, 8]]",
   "execution_count": null,
   "outputs": []
  },
  {
   "cell_type": "markdown",
   "source": "### Character art",
   "metadata": {
    "cell_id": "00028-6d3d2c61-0e90-4b83-8c6c-abce11ccd767",
    "deepnote_cell_type": "markdown"
   }
  },
  {
   "cell_type": "code",
   "metadata": {
    "cell_id": "00029-ff14a86c-3e87-488b-b354-7711656bc925",
    "deepnote_cell_type": "code"
   },
   "source": "# [ ] Complete the function `generate_star` so it displays a star of variable `size` using \"*\"\n# For size = 5 the star should look like:\n# *   *\n#  * * \n#   *  \n#  * * \n# *   *\n\ndef generate_star(size):\n    #TODO\n    pass\n\n\n# Display star\ngenerate_star(5)\n",
   "execution_count": null,
   "outputs": []
  },
  {
   "cell_type": "markdown",
   "source": "---\n<font size=\"6\" color=\"#00A0B2\"  face=\"verdana\"> <B>Concepts</B></font>  \n\n\n## Loops Containing Compound Conditional Expressions\n[![view video](https://iajupyterprodblobs.blob.core.windows.net/imagecontainer/common/play_video.png)](http://edxinteractivepage.blob.core.windows.net/edxpages/f7cff1a7-5601-48a1-95a6-fd1fdfabd20e.html?details=[{\"src\":\"http://jupyternootbookwams.streaming.mediaservices.windows.net/102371db-78c6-4f00-8f6c-06ee99f88a01/DEV330x-2_2d_conditionals_in_loo.ism/manifest\",\"type\":\"application/vnd.ms-sstr+xml\"}],[{\"src\":\"http://jupyternootbookwams.streaming.mediaservices.windows.net/d295efa9-b1cf-4516-879c-603d2d44251f/DEV330x-2_2d_conditionals_in_loops.vtt\",\"srclang\":\"en\",\"kind\":\"subtitles\",\"label\":\"english\"}])\n\nCompound conditional expressions utilizing Boolean logic can be nested within loops. This will allow you to write versatile and flexible code. You can also use the `break` and `continue` statements within nested compound conditionals.",
   "metadata": {
    "cell_id": "00030-3df53460-34a7-4aac-bef6-b62385aaeede",
    "deepnote_cell_type": "markdown"
   }
  },
  {
   "cell_type": "markdown",
   "source": "---\n<font size=\"6\" color=\"#00A0B2\"  face=\"verdana\"> <B>Examples</B></font>\n\nIn the following examples, you will explore the versatility of using compound conditionals inside loops.",
   "metadata": {
    "cell_id": "00031-7edfc3aa-fcaa-42e0-a27f-8292077bf488",
    "deepnote_cell_type": "markdown"
   }
  },
  {
   "cell_type": "markdown",
   "source": "### Finding the largest even number in a list",
   "metadata": {
    "cell_id": "00032-25b6fab1-9f59-446f-8bad-942e7add4fb0",
    "deepnote_cell_type": "markdown"
   }
  },
  {
   "cell_type": "code",
   "metadata": {
    "cell_id": "00033-feba424a-17b4-4c5b-a203-8d45d5b472fb",
    "deepnote_cell_type": "code"
   },
   "source": "lst = [102, 34, 55, 166, 20, 67, 305]\n\n# Nesting a compound conditional in a for loop\n\nlargest = 0\n\nfor num in lst:\n    # test if num is even and greater than largest\n    if((largest < num) and (num % 2 == 0)):\n        largest = num\n\nprint(\"Largest even number in the list is: \", largest)",
   "execution_count": null,
   "outputs": []
  },
  {
   "cell_type": "markdown",
   "source": "### Counting within ranges\nIn this example, you are given a list containing ages of 100 people. The code will count the number of children (younger than 13), the number of teenagers (from 13 through 19), the number of young adults (from 20 through 30), and the number of adults (older than 30).",
   "metadata": {
    "cell_id": "00034-95721b07-518e-48d2-a78b-fd949567e3a0",
    "deepnote_cell_type": "markdown"
   }
  },
  {
   "cell_type": "code",
   "metadata": {
    "cell_id": "00035-9066c524-52e6-4db3-86f8-c04e78a0414a",
    "deepnote_cell_type": "code"
   },
   "source": "# Ages of 100 people\nages = [86, 38, 30, 19, 29, 6, 95, 22, 23, 82, 39, 73, 30, 98, 5, 68, 57, 34, 35, 81, 54, 77, 29, 75, 83, 14, 88, 7, 8, 32, 93, 76, 42, 1, 32, 70, 70, 3, 34, 52, 44, 41, 7, 77, 73, 97, 34, 13, 33, 54, 8, 82, 21, 55, 72, 41, 34, 98, 72, 73, 24, 55, 50, 63, 38, 92, 43, 68, 52, 68, 69, 51, 19, 24, 35, 55, 74, 47, 8, 19, 69, 12, 96, 96, 11, 30, 97, 73, 22, 25, 19, 85, 37, 68, 39, 76, 73, 18, 45, 42]\n\n# Initial count\nchildren = 0\nteens = 0\nyoung_adults = 0\nadults = 0\n\n# Nesting compound conditionals within a for loop\nfor age in ages:\n    if(age <= 12):\n        children = children + 1\n    elif((age >= 13) and (age <= 19)):\n         teens = teens + 1\n    elif((age >= 20) and (age <= 30)):\n         young_adults = young_adults + 1\n    elif(age > 30):\n         adults = adults + 1\n            \nprint(\"Number of children: \", children)\nprint(\"Number of teens: \", teens)\nprint(\"Number of young_adults: \", young_adults)\nprint(\"Number of adults: \", adults)",
   "execution_count": null,
   "outputs": []
  },
  {
   "cell_type": "markdown",
   "source": "### Prompting for specific input\nYou can use compound conditionals to test whether user input is valid. The compound conditional statement can be nested within a loop to continuously prompt for input until a valid entry is provided.",
   "metadata": {
    "cell_id": "00036-add2d3b0-5685-4d10-ba93-35040844c1ea",
    "deepnote_cell_type": "markdown"
   }
  },
  {
   "cell_type": "code",
   "metadata": {
    "cell_id": "00037-2cf597df-e9f0-475d-9964-42156b4bcf2f",
    "deepnote_cell_type": "code"
   },
   "source": "# Prompt the user for a number between 50 and 60\n\n# Using infinite loop and break\nwhile True:\n    x = int(input(\"Enter a number between 50 and 60: \"))\n    if ((x >= 50) and (x <= 60)):\n        print(\"Thank you!\")\n        break\n    ",
   "execution_count": null,
   "outputs": []
  },
  {
   "cell_type": "markdown",
   "source": "---\n<font size=\"6\" color=\"#B24C00\"  face=\"verdana\"> <B>Task 3</B></font>\n\n## Loops Containing Compound Conditional Expressions\n",
   "metadata": {
    "cell_id": "00038-6eef22bb-ee97-4e16-8c63-d4f8b446ba9c",
    "deepnote_cell_type": "markdown"
   }
  },
  {
   "cell_type": "markdown",
   "source": "### Counting specific numbers",
   "metadata": {
    "cell_id": "00039-437692d5-df81-4397-acfc-202d6b39ed60",
    "deepnote_cell_type": "markdown"
   }
  },
  {
   "cell_type": "code",
   "metadata": {
    "scrolled": true,
    "cell_id": "00040-8c3c2bec-5d73-4c9d-8c3a-5620ffa36c11",
    "deepnote_cell_type": "code"
   },
   "source": "# [ ] Complete the following program to count the number of even positive numbers, odd negative numbers, and zeros in `lst`\n\nlst = [9, 0, -2, -4, -5, 2, -15, 6, -65, -7]\n\neven_positives = 0\nodd_negatives = 0\nzeros = 0\n\n#TODO: Count even_positives, odd_negatives, and zeros\n            \nprint(\"Number of even positives:\", even_positives)\nprint(\"Number of odd negatives:\", odd_negatives)\nprint(\"Number of zeros:\", zeros)\n",
   "execution_count": null,
   "outputs": []
  },
  {
   "cell_type": "markdown",
   "source": "### Counting characters",
   "metadata": {
    "cell_id": "00041-9f85ab49-55e7-4b84-a078-0b8ba2be4763",
    "deepnote_cell_type": "markdown"
   }
  },
  {
   "cell_type": "code",
   "metadata": {
    "cell_id": "00042-3e25e0a5-9d23-4727-9e1c-1eceb68ee18a",
    "deepnote_cell_type": "code"
   },
   "source": "# [ ] Write a program to count the number of punctuation marks (. , ? ! ' \" : ;) in `s`\n\ns = \"Once you eliminate the impossible, whatever remains, no matter how improbable, must be the truth.\" # Sherlock Holmes (by Sir Arthur Conan Doyle, 1859-1930)\n",
   "execution_count": null,
   "outputs": []
  },
  {
   "cell_type": "markdown",
   "source": "### User input",
   "metadata": {
    "cell_id": "00043-7c9d4ec7-97ba-4992-8706-55a0d2c4baa5",
    "deepnote_cell_type": "markdown"
   }
  },
  {
   "cell_type": "code",
   "metadata": {
    "cell_id": "00044-ec47fa4a-c9b8-4a46-9424-4513a776b5bc",
    "deepnote_cell_type": "code"
   },
   "source": "# [ ] Write a program to prompt the user for an odd positive number; use an infinite  loop and a `break` statement.\n\n# --Completed--\nwhile True:\n    x = int(input(\"Enter an odd positive number: \"))\n    if ((x > 0) and (x % 2 != 0)):\n        break #x is odd and positive, break the loop\n\nprint(\"Do something useful with\", x)\n",
   "execution_count": null,
   "outputs": []
  },
  {
   "cell_type": "markdown",
   "source": "<a style='text-decoration:none;line-height:16px;display:flex;color:#5B5B62;padding:10px;justify-content:end;' href='https://deepnote.com?utm_source=created-in-deepnote-cell&projectId=229001b3-1979-4a72-8edc-580826642f3e' target=\"_blank\">\n<img alt='Created in deepnote.com' style='display:inline;max-height:16px;margin:0px;margin-right:7.5px;' src='data:image/svg+xml;base64,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' > </img>\nCreated in <span style='font-weight:600;margin-left:4px;'>Deepnote</span></a>",
   "metadata": {
    "tags": [],
    "created_in_deepnote_cell": true,
    "deepnote_cell_type": "markdown"
   }
  }
 ],
 "nbformat": 4,
 "nbformat_minor": 2,
 "metadata": {
  "kernelspec": {
   "display_name": "Python 3",
   "language": "python",
   "name": "python3"
  },
  "language_info": {
   "codemirror_mode": {
    "name": "ipython",
    "version": 3
   },
   "file_extension": ".py",
   "mimetype": "text/x-python",
   "name": "python",
   "nbconvert_exporter": "python",
   "pygments_lexer": "ipython3",
   "version": "3.5.4"
  },
  "deepnote_notebook_id": "e82d1ae4-89ad-44a4-8d8d-aa2f06f597b8",
  "deepnote": {},
  "deepnote_execution_queue": []
 }
}