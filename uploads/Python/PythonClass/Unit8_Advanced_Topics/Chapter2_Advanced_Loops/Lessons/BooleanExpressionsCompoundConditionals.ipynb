{
 "cells": [
  {
   "cell_type": "markdown",
   "source": "# Section 2.1: Boolean Expressions and Compound Conditionals\n* and, or, not\n* if\n\n### Students will be able to: \n* Describe the fundamental Boolean operators (and, or, not)\n* Use Boolean operators to combine comparisons\n* Recognize that different Boolean expressions can yield equal results\n* Employ combined comparisons to control program flow (i.e. `if` statements)\n* use a method you learned previously to add comments to the top of the assignment to include your name, date, assignment name and something you learned while completing the assignment\n",
   "metadata": {
    "deletable": true,
    "editable": true,
    "cell_id": "30aa1cbf-8b27-4b18-8875-f2af5e12d2bd",
    "deepnote_cell_type": "markdown"
   }
  },
  {
   "cell_type": "markdown",
   "source": "---\n<font size=\"6\" color=\"#00A0B2\"  face=\"verdana\"> <B>Concepts</B></font>  \n\n\n## Boolean Operators\n[![view video](https://iajupyterprodblobs.blob.core.windows.net/imagecontainer/common/play_video.png)](http://edxinteractivepage.blob.core.windows.net/edxpages/f7cff1a7-5601-48a1-95a6-fd1fdfabd20e.html?details=[{\"src\":\"http://jupyternootbookwams.streaming.mediaservices.windows.net/3fbe7bdc-1d33-47c8-b8dd-74251ab74143/DEV330x-2_1a_boolean_operators.ism/manifest\",\"type\":\"application/vnd.ms-sstr+xml\"}],[{\"src\":\"http://jupyternootbookwams.streaming.mediaservices.windows.net/30bf5f02-eda6-406f-a255-14d74d15ca76/DEV330x-2_1a_boolean_operators.vtt\",\"srclang\":\"en\",\"kind\":\"subtitles\",\"label\":\"english\"}])\n\n#### `bool` data type\nAdding two numbers in Python results in another number; however, if two numbers were compared (i.e. to test for equality), the result would be of Boolean (`bool`) type. Unlike `int` and `float`, which can take many values, `bool` has only two values `True` and `False`. \n\n```python\nIn [1]: 5 == 6\nOut[1]: False\n\nIn [2]: 5 <= 6\nOut[2]: True\n```\n\nComparing `string` variables or numerical variables is performed using relational operators, the following table lists the relational operators supported in Python\n\n| Operator | Description |\n|----------|-------------|\n| < | Less than|\n| <=| Less than or equal to|\n| > | Greater than|\n| >= | Greater than or equal to|\n| == | Equal to|\n|!= | Not equal to|\n\n#### Fundamental `bool` operators\nIn addition to supporting numerical operators (+, -, &times; ...), Python also supports Boolean operators. The three basic Boolean operators are: `not`, `and`, `or`.\n\n##### `not`\nIs a unary operator; it operates on one variable (operand) by negating it. The following truth table shows the result of negating a `bool` variable `B`.\n\n|`B`|`not B`|\n|---|-------|\n|False| True|\n|True|False|\n\n##### `and`\nIs a binary operator; it operates on two variables (operands). It produces `True` when both variables are `True` and produces `False` otherwise. The following truth table shows the effect of the `and` operator on combining `A` and `B`.\n\n|`A`|`B`|`A and B`|\n|---|---|---------|\n|False|False|False|\n|False|True|False|\n|True|False|False|\n|True|True|True|\n\n##### `or`\nIs a binary operator; it operates on two variables (operands). It produces `True` if either (or both) of the variables is `True` and produces `False` otherwise. The following truth table shows the effect of `or` on combining `A` and `B`.\n\n|`A`|`B`|`A or B`|\n|---|---|---------|\n|False|False|False|\n|False|True|True|\n|True|False|True|\n|True|True|True|\n\nThese operators are typically used to combine relational expressions rather than the constants `True` and `False`. This will allow you to construct more powerful conditional statements (i.e. `if` statements).\n\nNOTE: `not` has the highest precedence, followed by `and`, then `or`. Similar to arithmetic operators, you can control the precedence using the parentheses operator `()` to group relational expressions.",
   "metadata": {
    "deletable": true,
    "editable": true,
    "cell_id": "00001-5538687c-4177-4235-81ef-fc8fec2cec75",
    "deepnote_cell_type": "markdown"
   }
  },
  {
   "cell_type": "markdown",
   "source": "---\n<font size=\"6\" color=\"#00A0B2\"  face=\"verdana\"> <B>Examples</B></font>\n\n### not",
   "metadata": {
    "deletable": true,
    "editable": true,
    "cell_id": "00002-f072837c-20cd-4439-b28e-24cce386df7b",
    "deepnote_cell_type": "markdown"
   }
  },
  {
   "cell_type": "code",
   "metadata": {
    "collapsed": true,
    "deletable": true,
    "editable": true,
    "cell_id": "00003-4351c434-6a3b-42d7-9eaa-0a79a1418473",
    "deepnote_cell_type": "code"
   },
   "source": "# not operator\nprint(\"not True = \", not True)\nprint(\"not False = \", not False)",
   "execution_count": null,
   "outputs": []
  },
  {
   "cell_type": "markdown",
   "source": "### `and`",
   "metadata": {
    "deletable": true,
    "editable": true,
    "cell_id": "00004-f5684529-b14e-4a7a-99ac-049f60d7b869",
    "deepnote_cell_type": "markdown"
   }
  },
  {
   "cell_type": "code",
   "metadata": {
    "collapsed": true,
    "deletable": true,
    "editable": true,
    "cell_id": "00005-9d21917f-c267-4d70-9a2a-25a98590bbd6",
    "deepnote_cell_type": "code"
   },
   "source": "# and operator\nprint(\"False and False = \", False and False)\nprint(\"False and True = \", False and True)\nprint(\"True and False = \", True and False)\nprint(\"True and True = \", True and True)",
   "execution_count": null,
   "outputs": []
  },
  {
   "cell_type": "markdown",
   "source": "### `or`",
   "metadata": {
    "deletable": true,
    "editable": true,
    "cell_id": "00006-3bf6cd2f-00aa-4083-8441-4d2cea7282c2",
    "deepnote_cell_type": "markdown"
   }
  },
  {
   "cell_type": "code",
   "metadata": {
    "collapsed": true,
    "deletable": true,
    "editable": true,
    "cell_id": "00007-9eff94e4-ea29-4f15-8dca-a33670406231",
    "deepnote_cell_type": "code"
   },
   "source": "# or operator\nprint(\"False or False = \", False or False)\nprint(\"False or True = \", False or True)\nprint(\"True or False = \", True or False)\nprint(\"True or True = \", True or True)",
   "execution_count": null,
   "outputs": []
  },
  {
   "cell_type": "markdown",
   "source": "### Combining operators",
   "metadata": {
    "deletable": true,
    "editable": true,
    "cell_id": "00008-b62e7681-4f24-41f3-92f2-ddd2ebf57239",
    "deepnote_cell_type": "markdown"
   }
  },
  {
   "cell_type": "code",
   "metadata": {
    "collapsed": true,
    "deletable": true,
    "editable": true,
    "cell_id": "00009-3bd6bc11-f33f-46f0-8fb6-70518a9cfa8a",
    "deepnote_cell_type": "code"
   },
   "source": "print(\"True and not False =\", True and not False)\nprint(\"False or not True = \", False or not True)",
   "execution_count": null,
   "outputs": []
  },
  {
   "cell_type": "markdown",
   "source": "---\n<font size=\"6\" color=\"#B24C00\"  face=\"verdana\"> <B>Task 1</B></font>\n\n## Boolean Operators",
   "metadata": {
    "deletable": true,
    "editable": true,
    "cell_id": "00010-00f4b841-c39b-4c6e-b3ef-6c4da74bf338",
    "deepnote_cell_type": "markdown"
   }
  },
  {
   "cell_type": "markdown",
   "source": "### Boolean values (`True`, `False`)",
   "metadata": {
    "deletable": true,
    "editable": true,
    "cell_id": "00011-cbe7bb03-e5dc-469e-944a-23575086d73e",
    "deepnote_cell_type": "markdown"
   }
  },
  {
   "cell_type": "code",
   "metadata": {
    "collapsed": true,
    "deletable": true,
    "editable": true,
    "cell_id": "00012-d09f92d5-2048-44a3-9fff-b9a518b7663f",
    "deepnote_cell_type": "code"
   },
   "source": "# [ ] Use relational and/or arithmetic operators with the variables x and y to write:\n# 3 expressions that evaluate to True (i.e. x >= y)\n# 3 expressions that evaluate to False (i.e. x <= y)\n\nx = 84\ny = 17",
   "execution_count": null,
   "outputs": []
  },
  {
   "cell_type": "markdown",
   "source": "### Boolean operators (`not`, `and`, `or`)",
   "metadata": {
    "deletable": true,
    "editable": true,
    "cell_id": "00013-9a880cc7-315b-481a-808b-19dbc7eaa31b",
    "deepnote_cell_type": "markdown"
   }
  },
  {
   "cell_type": "code",
   "metadata": {
    "collapsed": true,
    "deletable": true,
    "editable": true,
    "cell_id": "00014-e1475080-1e39-41e8-9068-e38f6411aa40",
    "deepnote_cell_type": "code"
   },
   "source": "# [ ] Use the basic Boolean operators with the variables x and y to write:\n# 3 expressions that evaluate to True (i.e. not y)\n# 3 expressions that evaluate to False (i.e. x and y)\n\nx = True\ny = False",
   "execution_count": null,
   "outputs": []
  },
  {
   "cell_type": "markdown",
   "source": "---\n<font size=\"6\" color=\"#00A0B2\"  face=\"verdana\"> <B>Concepts</B></font>  \n\n\n## Combining Comparisons\n[![view video](https://iajupyterprodblobs.blob.core.windows.net/imagecontainer/common/play_video.png)](http://edxinteractivepage.blob.core.windows.net/edxpages/f7cff1a7-5601-48a1-95a6-fd1fdfabd20e.html?details=[{\"src\":\"http://jupyternootbookwams.streaming.mediaservices.windows.net/58c04190-4f7f-4587-b4e2-71366d93a8c1/DEV330x-2_1b_combining_compariso.ism/manifest\",\"type\":\"application/vnd.ms-sstr+xml\"}],[{\"src\":\"http://jupyternootbookwams.streaming.mediaservices.windows.net/ca4da009-b4b9-486a-a4dd-58b58817c325/DEV330x-2_1b_combining_comparisons.vtt\",\"srclang\":\"en\",\"kind\":\"subtitles\",\"label\":\"english\"}])\n\nThe basic `bool` operators can be used to combine multiple relational tests. For example, say you want to test whether a variable `x` contains a number within a certain range (i.e. 10 &leq; x &leq; 20). You can perform this test, by checking whether the number is greater than or equal to 10 and whether the number is less than or equal to 20.\n\n```python\nIn [1]: x = 11\nIn [2]: (x >= 10) and (x <= 20)\nOut[2]: True\n\nIn [3]: x = 9\nIn [4]: (x >= 10) and (x <= 20)\nOut[4]: False\n```\n\nThe relational tests need not be numerical. For example, you can test whether a variable `c` contains a capital letter (i.e. 'A' &leq; c &leq; 'Z').\n\n```python\nIn [1]: c = 'N'\nIn [2]: (c >= 'A') and (c <= 'Z')\nOut[2]: True\n\nIn [3]: c = 'n'\nIn [4]: (c >= 'A') and (c <= 'Z')\nOut[4]: False\n```",
   "metadata": {
    "deletable": true,
    "editable": true,
    "cell_id": "00015-f6d563eb-a295-459b-ad8d-b5f0533546c7",
    "deepnote_cell_type": "markdown"
   }
  },
  {
   "cell_type": "markdown",
   "source": "---\n<font size=\"6\" color=\"#00A0B2\"  face=\"verdana\"> <B>Examples</B></font>\n\n### Testing whether a number is outside a range\n",
   "metadata": {
    "deletable": true,
    "editable": true,
    "cell_id": "00016-52698b21-b4da-4208-b827-3a0ae01a1505",
    "deepnote_cell_type": "markdown"
   }
  },
  {
   "cell_type": "code",
   "metadata": {
    "collapsed": true,
    "deletable": true,
    "editable": true,
    "cell_id": "00017-70e641aa-c849-4744-9818-2eaf2817a980",
    "deepnote_cell_type": "code"
   },
   "source": "# Testing if x is outside the range [10, 20]\n\nx = 11\n(x < 10) or (x > 20)\n",
   "execution_count": null,
   "outputs": []
  },
  {
   "cell_type": "code",
   "metadata": {
    "collapsed": true,
    "deletable": true,
    "editable": true,
    "cell_id": "00018-619bc11a-a109-4152-8451-8f34429d7847",
    "deepnote_cell_type": "code"
   },
   "source": "# Testing if x is outside the range [10, 20]\n\nx = 50\n(x < 10) or (x > 20)\n",
   "execution_count": null,
   "outputs": []
  },
  {
   "cell_type": "markdown",
   "source": "### Testing whether a number is positive and odd\nYou can combine relational operators, arithmetic operators, and Boolean operators to generate powerful Boolean expressions. In this example, you will test whether a number is both positive and odd.",
   "metadata": {
    "deletable": true,
    "editable": true,
    "cell_id": "00019-1d2d0320-2849-4116-966f-deb0c5fe1e32",
    "deepnote_cell_type": "markdown"
   }
  },
  {
   "cell_type": "code",
   "metadata": {
    "collapsed": true,
    "deletable": true,
    "editable": true,
    "cell_id": "00020-422c0f86-33fd-4c51-a1f5-4c2d1217a341",
    "deepnote_cell_type": "code"
   },
   "source": "# Testing if x is a positive and odd number\n\nx = 11\n(x > 0) and (x % 2 != 0)",
   "execution_count": null,
   "outputs": []
  },
  {
   "cell_type": "code",
   "metadata": {
    "collapsed": true,
    "deletable": true,
    "editable": true,
    "cell_id": "00021-3564bc14-23ed-44c1-b376-995ef075407a",
    "deepnote_cell_type": "code"
   },
   "source": "# Testing if x is a positive and odd number\n\nx = -11\n(x > 0) and (x % 2 != 0)",
   "execution_count": null,
   "outputs": []
  },
  {
   "cell_type": "code",
   "metadata": {
    "collapsed": true,
    "deletable": true,
    "editable": true,
    "cell_id": "00022-603c88bf-8b5e-46b9-8c28-2683c6a8b017",
    "deepnote_cell_type": "code"
   },
   "source": "# Testing if x is a positive and odd number\n\nx = 22\n(x > 0) and (x % 2 != 0)",
   "execution_count": null,
   "outputs": []
  },
  {
   "cell_type": "markdown",
   "source": "### Testing using 2 different variables\nYou can combine Boolean expressions of different variables. In this example, you will test whether a driver's name starts with the letter `C` and she is 18 years or younger.",
   "metadata": {
    "deletable": true,
    "editable": true,
    "cell_id": "00023-ab23511c-8676-4e23-84bf-ccb75786e4be",
    "deepnote_cell_type": "markdown"
   }
  },
  {
   "cell_type": "code",
   "metadata": {
    "collapsed": true,
    "deletable": true,
    "editable": true,
    "cell_id": "00024-31d154b7-4db0-49b1-9de9-3d15e8c55b87",
    "deepnote_cell_type": "code"
   },
   "source": "# Driver information\nname = 'Colette'\nage = 17\n\n# Testing if name starts with `C` and the age is 18 or less\n(name.startswith('C')) and (age <= 18)",
   "execution_count": null,
   "outputs": []
  },
  {
   "cell_type": "code",
   "metadata": {
    "collapsed": true,
    "deletable": true,
    "editable": true,
    "cell_id": "00025-2f6a2c69-ed75-426d-b1d0-8d4b73604b75",
    "deepnote_cell_type": "code"
   },
   "source": "# Driver information\nname = 'John'\nage = 17\n\n# Testing if name starts with `C` and the age is 18 or less\n(name.startswith('C')) and (age <= 18)",
   "execution_count": null,
   "outputs": []
  },
  {
   "cell_type": "markdown",
   "source": "---\n<font size=\"6\" color=\"#B24C00\"  face=\"verdana\"> <B>Task 2</B></font>\n\n## Combining Comparisons",
   "metadata": {
    "deletable": true,
    "editable": true,
    "cell_id": "00026-deee5380-5680-4687-b5e9-bacfa9f1aeb3",
    "deepnote_cell_type": "markdown"
   }
  },
  {
   "cell_type": "code",
   "metadata": {
    "collapsed": true,
    "deletable": true,
    "editable": true,
    "cell_id": "00027-2860f1d3-a471-48e7-b1fc-395b8894d018",
    "deepnote_cell_type": "code"
   },
   "source": "# [ ] Write an expression to test if x is an even number outside the range [-100, 100]\n\n# Test your expression with:\n# x = 104 (True)\n# x = 115 (False)\n# x = -106 (True)\n# x = -99 (False)",
   "execution_count": null,
   "outputs": []
  },
  {
   "cell_type": "code",
   "metadata": {
    "collapsed": true,
    "deletable": true,
    "editable": true,
    "cell_id": "00028-e277fec7-178e-4976-865f-8c1757c965d7",
    "deepnote_cell_type": "code"
   },
   "source": "# [ ] Write an expression to test if a string s starts and ends with a capital letter\n# HINT: You might find the function `str.isupper()` useful\n\n# Test your expression with\n# s = \"CapitaL\" (True)\n# s = \"Not Capital\" (False)",
   "execution_count": null,
   "outputs": []
  },
  {
   "cell_type": "code",
   "metadata": {
    "collapsed": true,
    "deletable": true,
    "editable": true,
    "cell_id": "00029-b6c25382-ec28-49f2-8881-96294325cf72",
    "deepnote_cell_type": "code"
   },
   "source": "# [ ] Write an expression to test if a string s contains a numerical value\n# then test if the value is greater than the value stored in x\n# HINT: Use the functions `s.isnumeric()` and `float(s)`\n\n# Test your expression with\n# s = \"39\"\n# x = 24\n# Expression should yield True\n\n# s = \"a39\"\n# x = 24\n# Expression should yield False",
   "execution_count": null,
   "outputs": []
  },
  {
   "cell_type": "markdown",
   "source": "---\n<font size=\"6\" color=\"#00A0B2\"  face=\"verdana\"> <B>Concepts</B></font>  \n\n\n## Boolean Expressions Equality\n[![view video](https://iajupyterprodblobs.blob.core.windows.net/imagecontainer/common/play_video.png)](http://edxinteractivepage.blob.core.windows.net/edxpages/f7cff1a7-5601-48a1-95a6-fd1fdfabd20e.html?details=[{\"src\":\"http://jupyternootbookwams.streaming.mediaservices.windows.net/8bc3d44c-4851-496d-a33d-855c77f4adaf/DEV330x-2_1c_boolean_expressions.ism/manifest\",\"type\":\"application/vnd.ms-sstr+xml\"}],[{\"src\":\"http://jupyternootbookwams.streaming.mediaservices.windows.net/b08216e6-86f6-4f4b-af71-42eb0239db3c/DEV330x-2_1c_boolean_expressions_equality.vtt\",\"srclang\":\"en\",\"kind\":\"subtitles\",\"label\":\"english\"}])\n\nIt is possible to write two (or more) different Boolean expressions that yield the same results. Let's revisit the example testing whether x is within the range [10, 20].",
   "metadata": {
    "deletable": true,
    "editable": true,
    "cell_id": "00030-1d24aaa8-a329-4438-a0a3-82f7b392bd2b",
    "deepnote_cell_type": "markdown"
   }
  },
  {
   "cell_type": "markdown",
   "source": "---\n<font size=\"6\" color=\"#00A0B2\"  face=\"verdana\"> <B>Examples</B></font>\n\n### Expression 1: Test whether `x` is within [10, 20]",
   "metadata": {
    "deletable": true,
    "editable": true,
    "cell_id": "00031-affde6a5-8a7d-4f7f-bd73-d9829b729a33",
    "deepnote_cell_type": "markdown"
   }
  },
  {
   "cell_type": "code",
   "metadata": {
    "collapsed": true,
    "deletable": true,
    "editable": true,
    "cell_id": "00032-99d71777-60c9-4afd-8b18-10a8c42cf4df",
    "deepnote_cell_type": "code"
   },
   "source": "x = 11\n(x >= 10) and (x <= 20)",
   "execution_count": null,
   "outputs": []
  },
  {
   "cell_type": "code",
   "metadata": {
    "collapsed": true,
    "deletable": true,
    "editable": true,
    "cell_id": "00033-23c2f111-b36d-4fae-a364-4efd73afb17b",
    "deepnote_cell_type": "code"
   },
   "source": "x = 30\n(x >= 10) and (x <= 20)",
   "execution_count": null,
   "outputs": []
  },
  {
   "cell_type": "markdown",
   "source": "### Expression 2: Test whether `x` is within [10, 20]",
   "metadata": {
    "deletable": true,
    "editable": true,
    "cell_id": "00034-1fbc9cae-58f4-49b4-a3f8-110ac41bf14e",
    "deepnote_cell_type": "markdown"
   }
  },
  {
   "cell_type": "code",
   "metadata": {
    "collapsed": true,
    "deletable": true,
    "editable": true,
    "cell_id": "00035-d5d36f9f-21f1-494a-bd8f-c802503622af",
    "deepnote_cell_type": "code"
   },
   "source": "x = 11\nnot((x < 10) or (x > 20))",
   "execution_count": null,
   "outputs": []
  },
  {
   "cell_type": "code",
   "metadata": {
    "collapsed": true,
    "deletable": true,
    "editable": true,
    "cell_id": "00036-a42cc032-51be-48bb-8950-6ebe5f9c3b12",
    "deepnote_cell_type": "code"
   },
   "source": "x = 30\nnot((x < 10) or (x > 20))",
   "execution_count": null,
   "outputs": []
  },
  {
   "cell_type": "markdown",
   "source": "---\n<font size=\"6\" color=\"#B24C00\"  face=\"verdana\"> <B>Task 3</B></font>\n\n## Boolean Expressions Equality",
   "metadata": {
    "deletable": true,
    "editable": true,
    "cell_id": "00037-31d45921-7749-4829-bce6-d94f2999f87b",
    "deepnote_cell_type": "markdown"
   }
  },
  {
   "cell_type": "code",
   "metadata": {
    "collapsed": true,
    "deletable": true,
    "editable": true,
    "cell_id": "00038-94d88a92-6729-4fc2-840c-10c539d31aa9",
    "deepnote_cell_type": "code"
   },
   "source": "# [ ] Write an expression equivalent to the one below \n# to test if x is outside the range [10, 20] (seen in a previous example)\n\n# (x < 10) or (x > 20)\n\n# Test your expression with \n# x = 11 (False)\n# x = 50 (True)\n",
   "execution_count": null,
   "outputs": []
  },
  {
   "cell_type": "code",
   "metadata": {
    "collapsed": true,
    "deletable": true,
    "editable": true,
    "cell_id": "00039-9725e44d-d7e6-436c-b4bf-38e4d95175a9",
    "deepnote_cell_type": "code"
   },
   "source": "# [ ] Write a second expression to test if x is an even number outside the range [-100, 100]\n# Do NOT use the expression you wrote for a previous exercise\n\n# Test your expression with:\n# x = 104 (True)\n# x = 115 (False)\n# x = -106 (True)\n# x = -99 (False)\n",
   "execution_count": null,
   "outputs": []
  },
  {
   "cell_type": "markdown",
   "source": "---\n<font size=\"6\" color=\"#00A0B2\"  face=\"verdana\"> <B>Concepts</B></font>  \n\n\n## Compound Conditionals\n[![view video](https://iajupyterprodblobs.blob.core.windows.net/imagecontainer/common/play_video.png)](http://edxinteractivepage.blob.core.windows.net/edxpages/f7cff1a7-5601-48a1-95a6-fd1fdfabd20e.html?details=[{\"src\":\"http://jupyternootbookwams.streaming.mediaservices.windows.net/aa343ee6-2e23-4d66-a56f-d6db613941bc/DEV330x-2_1d_compound_conditiona.ism/manifest\",\"type\":\"application/vnd.ms-sstr+xml\"}],[{\"src\":\"http://jupyternootbookwams.streaming.mediaservices.windows.net/d896e0b0-5483-4971-9a94-8e60f31b7cc6/DEV330x-2_1d_compound_conditionals.vtt\",\"srclang\":\"en\",\"kind\":\"subtitles\",\"label\":\"english\"}])\n\n\nCombined Boolean expressions can be used within the testing conditions of `if` and `elif` statements. This will let you write compound conditionals and give you fine control over the program flow. For example, you can test the validity of user input against several combined conditions. Similarly, you can also check the content of a variable against multiple ranges.",
   "metadata": {
    "deletable": true,
    "editable": true,
    "cell_id": "00040-edcb9bc9-744d-4c10-b993-8b34bdf9d93b",
    "deepnote_cell_type": "markdown"
   }
  },
  {
   "cell_type": "markdown",
   "source": "---\n<font size=\"6\" color=\"#00A0B2\"  face=\"verdana\"> <B>Examples</B></font>\n\n### Testing validity of user input",
   "metadata": {
    "deletable": true,
    "editable": true,
    "cell_id": "00041-9183cf4a-2948-42fc-921c-dbe104322ce8",
    "deepnote_cell_type": "markdown"
   }
  },
  {
   "cell_type": "code",
   "metadata": {
    "collapsed": true,
    "deletable": true,
    "editable": true,
    "cell_id": "00042-f6de5501-22f4-487f-8369-ba08f203d0e0",
    "deepnote_cell_type": "code"
   },
   "source": "# Solicit user input\nx = input(\"Enter an odd positive number: \")\n\n# Convert the string input into int\nx = int(x)\n\n# Test number for validity\nif ((x > 0) and (x % 2 != 0)):\n    print(x, \"is a valid number\")\nelse:\n    print(x, \"is NOT a valid number\")",
   "execution_count": null,
   "outputs": []
  },
  {
   "cell_type": "markdown",
   "source": "### Testing inclusion in a range",
   "metadata": {
    "deletable": true,
    "editable": true,
    "cell_id": "00043-ac78e3df-afb1-4e17-867c-c7d9ba380226",
    "deepnote_cell_type": "markdown"
   }
  },
  {
   "cell_type": "code",
   "metadata": {
    "collapsed": true,
    "deletable": true,
    "editable": true,
    "cell_id": "00044-0c187732-d669-4888-840e-328b2c5890c9",
    "deepnote_cell_type": "code"
   },
   "source": "# Solicit user input\ny = input(\"Enter your birth year: \")\n\n# Convert the string input into int\ny = int(y)\n\n# Check the decade membership\nif (y < 1970):\n    print(\"You were born before 1970!\")\nelif (y >= 1970 and y < 1980):\n    print(\"You were born in the 70s!\")\nelif (y >= 1980 and y < 1990):\n    print(\"You were born in the 80s!\")\nelif (y >= 1990 and y < 2000):\n    print(\"You were born in the 90s!\")\nelif (y >= 2000 and y < 2010):\n    print(\"You were born in early 2000s!\")\nelse:\n    print(\"You were born in the current decade!\")",
   "execution_count": null,
   "outputs": []
  },
  {
   "cell_type": "markdown",
   "source": "---\n<font size=\"6\" color=\"#B24C00\"  face=\"verdana\"> <B>Task 4</B></font>\n\n## Compound Conditionals",
   "metadata": {
    "deletable": true,
    "editable": true,
    "cell_id": "00045-42d73f0c-c001-46fb-84b8-97d35237b86a",
    "deepnote_cell_type": "markdown"
   }
  },
  {
   "cell_type": "code",
   "metadata": {
    "collapsed": true,
    "deletable": true,
    "editable": true,
    "cell_id": "00046-463fd87a-b1e0-4420-95ea-941dbf33a264",
    "deepnote_cell_type": "code"
   },
   "source": "# [ ] Write a program to validate that user input is outside the range [0, 100]\n",
   "execution_count": null,
   "outputs": []
  },
  {
   "cell_type": "markdown",
   "source": "### BMI category \nThe Body Mass Index (BMI) measures the body fat using the weight and height of a person. The BMI is used to classify adults into categories as in the following table.\n\n|Category|BMI range|\n|--------|---------|\n|Underweight| < 18.5|\n|Normal Weight| 18.5 - 24.9|\n|Overweight|25 - 29.9|\n|Obese| &geq; 30|\n",
   "metadata": {
    "deletable": true,
    "editable": true,
    "cell_id": "00047-8460269c-f7a2-4f20-affe-b466ed2ff14c",
    "deepnote_cell_type": "markdown"
   }
  },
  {
   "cell_type": "code",
   "metadata": {
    "collapsed": true,
    "deletable": true,
    "editable": true,
    "cell_id": "00048-b82d9a4c-d916-40be-bb6b-c54f3a8d5359",
    "deepnote_cell_type": "code"
   },
   "source": "# [ ] Write a program to ask a user for her/his BMI index, then display the user's BMI category\n",
   "execution_count": null,
   "outputs": []
  },
  {
   "cell_type": "markdown",
   "source": "<a style='text-decoration:none;line-height:16px;display:flex;color:#5B5B62;padding:10px;justify-content:end;' href='https://deepnote.com?utm_source=created-in-deepnote-cell&projectId=23435efd-69aa-41bf-9ec9-6a9cfd498d64' target=\"_blank\">\n<img alt='Created in deepnote.com' style='display:inline;max-height:16px;margin:0px;margin-right:7.5px;' src='data:image/svg+xml;base64,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' > </img>\nCreated in <span style='font-weight:600;margin-left:4px;'>Deepnote</span></a>",
   "metadata": {
    "tags": [],
    "created_in_deepnote_cell": true,
    "deepnote_cell_type": "markdown"
   }
  }
 ],
 "nbformat": 4,
 "nbformat_minor": 2,
 "metadata": {
  "kernelspec": {
   "display_name": "Python 3",
   "language": "python",
   "name": "python3"
  },
  "language_info": {
   "codemirror_mode": {
    "name": "ipython",
    "version": 3
   },
   "file_extension": ".py",
   "mimetype": "text/x-python",
   "name": "python",
   "nbconvert_exporter": "python",
   "pygments_lexer": "ipython3",
   "version": "3.6.3"
  },
  "deepnote_notebook_id": "29f07557-93bf-4145-bad3-85fe62ccd32b",
  "deepnote": {},
  "deepnote_execution_queue": []
 }
}