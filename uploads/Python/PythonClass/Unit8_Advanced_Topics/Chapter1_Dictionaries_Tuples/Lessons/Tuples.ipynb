{
 "cells": [
  {
   "cell_type": "markdown",
   "source": "# Section 3.3: Tuples\n* ()\n* +, in, not in, len, min, max\n\n### Students will be able to:\n* Differentiate between tuples and lists\n* Create tuples\n* Access tuple elements\n* Convert lists into tuples and tuples into lists\n* Delete, slice, and unpack tuples\n* Use basic tuple operations and functions\n* use a method you learned previously to add comments to the top of the assignment to include your name, date, assignment name and something you learned while completing the assignment",
   "metadata": {
    "cell_id": "b670a835-7f38-4a72-a3f0-69a84efc9bab",
    "deepnote_cell_type": "markdown"
   }
  },
  {
   "cell_type": "markdown",
   "source": "---\n<font size=\"6\" color=\"#00A0B2\"  face=\"verdana\"> <B>Concepts</B></font>  \n\n## Tuple Basics\n[![view video](https://iajupyterprodblobs.blob.core.windows.net/imagecontainer/common/play_video.png)](http://edxinteractivepage.blob.core.windows.net/edxpages/f7cff1a7-5601-48a1-95a6-fd1fdfabd20e.html?details=[{\"src\":\"http://jupyternootbookwams.streaming.mediaservices.windows.net/eb39ccda-fe20-47a7-a796-99d7fdb4773c/DEV330x-3_3a_tuple_basics.ism/manifest\",\"type\":\"application/vnd.ms-sstr+xml\"}],[{\"src\":\"http://jupyternootbookwams.streaming.mediaservices.windows.net/a85717a5-4fa1-402b-9b23-575570d88b0c/DEV330x-3_3a_tuple_basics.vtt\",\"srclang\":\"en\",\"kind\":\"subtitles\",\"label\":\"english\"}])\n\nA list is a very useful data structure that can manipulate a sequence of elements. A tuple is another data structure type that can also store and manipulate a sequence of elements. Like lists, the elements of a tuple can be of any type (i.e. `int`, `float`, `string`, `list`, another `tuple`). However, unlike lists, a tuple is an immutable data structure, which means that after you define a tuple, you are not allowed to change it. In other words, you cannot reorder the elements of a tuple, cannot append additional elements, and cannot delete elements.\n\nYou might be wondering, if tuples are like restricted lists, when and why should I use them? The importance of tuples is most obvious when passing to and returning from a function. They are also important to communicate to people reading your code that you do not intend for the content of the tuple to be mutated (changed).\n\n#### Creating a tuple\nYou can create a tuple by enclosing its elements within parentheses, for example the following is a tuple containing 3 elements `(13, 5, 92)`. Note that a list was defined using square brackets `[13, 5, 92]`.\n\n```python\n>>> T = (13, 5, 92)\n>>> type(T)\n<class 'tuple'>\n\n>>> L = [13, 5, 92]\n>>> type(L)\n<class 'list'>\n```\n#### Creating an empty tuple\nYou can create an empty tuple using empty parentheses. \n\n```python\n>>> T = ()\n>>> type(T)\n<class 'tuple'>\n```\n\n#### Creating a tuple with a single element\nWhen creating a tuple with a single element, you have to add a comma `,` after the single element. Otherwise, Python will assume you are using the parentheses as part of an expression rather than to create a tuple.\n\n```python\n>>> T1 = (5)\n>>> type(T1)\n<class 'int'>\n\n>>> T2 = (5,) # note the comma after 5\n>>> type(T2)\n<class 'tuple'>\n```\n\n#### Accessing elements of a tuple\nYou can access the individual elements of a tuple in the same way you access the elements of a list or a string, by using the index of the element of interest.\n\n```python\n>>> T = (13, 5, 92)\n>>> T[0]\n13\n>>> T[-1]\n92\n```\n\n#### Converting a list into a tuple \nYou can convert a list into a tuple by passing it into the `tuple` function.\n\n```python\n>>> L = [4, 5.3, 'name'] #list\n>>> T = tuple(L) #tuple\n>>> print(T)\n(4, 5.3, 'name')\n>>> type(T)\n<class 'tuple'>\n```\n\n#### Converting a tuple into a list\nYou can convert a tuple into a list by passing it into the `list` function.\n\n```python\n>>> T = ('name', [2, 4], 5.3, 19) #tuple\n>>> L = list(T) #list\n>>> print(L)\n['name', [2, 4], 5.3, 19]\n>>> type(L)\n<class 'list'>\n```\n\n#### Changing a tuple element\nTuples are immutable objects and cannot be changed. If you try to change the content of a tuple, a `TypeError` exception will be raised.\n\n```python\n>>> T = (13, 5, 92)\n>>> T[0] = 5\nTraceback (most recent call last):\n  File \"<stdin>\", line 1, in <module>\nTypeError: 'tuple' object does not support item assignment\n\n```\n\nA list can be one of the elements of a tuple; the tuple doesn't store the whole list, but stores a reference to the storage location of the list in memory. Therefore, if the memory location storing the list is changed, the tuple references the changed list.\n\nIn the following example, the second element in the tuple `T` is a list `[2, 4]`. `T[1]` stores the location of the list rather than the list itself; therefore, if you change the content of the list, (i.e. change `2` to a `5`), the tuple `T` now references the new list `[5, 4]`. Technically speaking, the tuple did not change; it still references the same memory location. However, the memory location changed. This concept will be more relevant when you use tuples with functions or copy tuples.\n\n```python\n>>> T = ('name', [2, 4], 5.3, 19)\n>>> T[1][0] = 5\n>>> T\n('name', [5, 4], 5.3, 19)\n```\n\n#### Deleting a tuple\nLike any other variable, a tuple can be deleted by using the `del()` function.\n\n```python\n>>> del(T)\n>>> type(T)\nTraceback (most recent call last):\n  File \"<stdin>\", line 1, in <module>\nNameError: name 'T' is not defined\n```",
   "metadata": {
    "cell_id": "00001-eba1c36d-6290-4316-be73-f85bcb39e6f6",
    "deepnote_cell_type": "markdown"
   }
  },
  {
   "cell_type": "markdown",
   "source": "---\n<font size=\"6\" color=\"#00A0B2\"  face=\"verdana\"> <B>Examples</B></font>\n\n",
   "metadata": {
    "cell_id": "00002-745a3a38-2595-42c3-aa68-7ec76b2ec78d",
    "deepnote_cell_type": "markdown"
   }
  },
  {
   "cell_type": "markdown",
   "source": "## Creating Tuples",
   "metadata": {
    "cell_id": "00003-cb3e3dc9-012b-4c08-9d58-838f5b1b7291",
    "deepnote_cell_type": "markdown"
   }
  },
  {
   "cell_type": "markdown",
   "source": "### Creating homogeneous tuples\nHomogeneous tuples contain elements of the same type; in the following example, you will see how to create a tuple of `int` values and another tuple of `string` values.",
   "metadata": {
    "cell_id": "00004-b7e600f5-8495-4eab-ab86-0b112e4cf653",
    "deepnote_cell_type": "markdown"
   }
  },
  {
   "cell_type": "code",
   "metadata": {
    "collapsed": true,
    "cell_id": "00005-eab4c28c-ea06-4522-b043-1a5ecf8daeff",
    "deepnote_cell_type": "code"
   },
   "source": "# Create a homogeneous int tuple\nT_int = (10, -4, 59, 58, 23, 50)\ntype(T_int)\n",
   "execution_count": null,
   "outputs": []
  },
  {
   "cell_type": "code",
   "metadata": {
    "collapsed": true,
    "cell_id": "00006-26814ac7-f7ac-4a37-acf5-d0ef51f3e271",
    "deepnote_cell_type": "code"
   },
   "source": "# Create a homogeneous string tuple\nT_string = (\"word\", \"letter\", \"vowel\", \"spell\", \"book\", \"write\", \"read\")\ntype(T_string)",
   "execution_count": null,
   "outputs": []
  },
  {
   "cell_type": "markdown",
   "source": "### Creating heterogeneous tuples\nTuples can contain elements of different types. In the following example, you will see how to create tuples containing different types.",
   "metadata": {
    "cell_id": "00007-c57603e4-819c-4715-b7f5-d6e91b423751",
    "deepnote_cell_type": "markdown"
   }
  },
  {
   "cell_type": "code",
   "metadata": {
    "collapsed": true,
    "cell_id": "00008-4cb0c1c5-4480-44bd-83e6-c7a81eff6c8b",
    "deepnote_cell_type": "code"
   },
   "source": "# Create heterogeneous tuples\nT = (\"Tobias\", 23, 25.3, [])\ntype(T)",
   "execution_count": null,
   "outputs": []
  },
  {
   "cell_type": "code",
   "metadata": {
    "collapsed": true,
    "cell_id": "00009-98085609-0c5b-4cdc-85e6-bfa5ee21fb7f",
    "deepnote_cell_type": "code"
   },
   "source": "# Create heterogeneous tuples\n\n# A datetime object can be a tuple element\nfrom datetime import datetime\nnow = datetime.today() \n\nT = ((1.5,2.6), \"home\", now)\ntype(T)",
   "execution_count": null,
   "outputs": []
  },
  {
   "cell_type": "markdown",
   "source": "### Creating single-element tuples",
   "metadata": {
    "cell_id": "00010-73158979-2669-4bb2-91c8-76a7993e97a1",
    "deepnote_cell_type": "markdown"
   }
  },
  {
   "cell_type": "code",
   "metadata": {
    "collapsed": true,
    "cell_id": "00011-796137e6-8415-42a1-b113-a5a2daeefdc5",
    "deepnote_cell_type": "code"
   },
   "source": "T = (\"switch\") # This is not a tuple\ntype(T)\n",
   "execution_count": null,
   "outputs": []
  },
  {
   "cell_type": "code",
   "metadata": {
    "collapsed": true,
    "cell_id": "00012-2e4a25d9-f0ea-495f-8b48-57b23879a241",
    "deepnote_cell_type": "code"
   },
   "source": "T = (\"switch\",) # Note the comma after the string makes T a tuple\ntype(T)",
   "execution_count": null,
   "outputs": []
  },
  {
   "cell_type": "markdown",
   "source": "### Converting lists to/from tuples",
   "metadata": {
    "cell_id": "00013-8af70494-8956-47a5-8b1d-f190dd181ee1",
    "deepnote_cell_type": "markdown"
   }
  },
  {
   "cell_type": "code",
   "metadata": {
    "collapsed": true,
    "cell_id": "00014-814c1755-c739-43cf-8bc2-44f8934c1df6",
    "deepnote_cell_type": "code"
   },
   "source": "# List of employee names\nnames_list = [\"Suresh\", \"Colette\", \"Skye\", \"Hiroto\", \"Tobias\", \"Tamara\", \"Jin\", \"Joana\", \"Alton\"]\n\n# Sort the names alphabetically\nsorted_list = sorted(names_list)\n\n# Convert list into tuple\nnames_tuple = tuple(sorted_list)\n\n# List converted into a tuple\nprint(type(names_tuple))\n\n# Print the first and last name in the tuple\nprint(\"First name is: {:s}\".format(names_tuple[0]))\nprint(\"Last name is: {:s}\".format(names_tuple[-1]))",
   "execution_count": null,
   "outputs": []
  },
  {
   "cell_type": "markdown",
   "source": "## Creating Tuples from User Input\nIn this example, the user is asked to enter 3 integers, the program then saves the squares of these integers into a tuple and print its content.",
   "metadata": {
    "cell_id": "00015-3228b2e4-3c6d-4453-989a-2005a454baf9",
    "deepnote_cell_type": "markdown"
   }
  },
  {
   "cell_type": "code",
   "metadata": {
    "collapsed": true,
    "cell_id": "00016-b2daa652-0b64-42df-b8b4-8835af7b4b6a",
    "deepnote_cell_type": "code"
   },
   "source": "# Collect 3 int numbers from a user\nL = []\nfor i in range(3):\n    tmp = int(input(\"Enter an int {:d}/3: \".format(i)))\n    L.append(tmp ** 2)\n\n# Convert the list into a tuple\nT = tuple(L)\n\n# Print the content of the tuple\nprint(\"Tuple of squares is:\", T)\n\n# Print each of the tuple elements on a new line\nfor i in range(3):\n    print(\"T[{0:d}] = {1:d}\".format(i, T[i]))\n",
   "execution_count": null,
   "outputs": []
  },
  {
   "cell_type": "markdown",
   "source": "## Changing Tuple Elements",
   "metadata": {
    "cell_id": "00017-02c8c9e5-be44-4b70-81c7-def0b1e36872",
    "deepnote_cell_type": "markdown"
   }
  },
  {
   "cell_type": "code",
   "metadata": {
    "collapsed": true,
    "cell_id": "00018-d4224dab-cdf4-455a-b56c-19d50aebd577",
    "deepnote_cell_type": "code"
   },
   "source": "T = (\"Tobias\", 23, 25.3, [])\n\n# Tuples are immutable and cannot be changed\nT[0] = \"hello\"",
   "execution_count": null,
   "outputs": []
  },
  {
   "cell_type": "code",
   "metadata": {
    "collapsed": true,
    "cell_id": "00019-cdff45ab-3d62-487b-8b08-25d5aabf5405",
    "deepnote_cell_type": "code"
   },
   "source": "T = (\"Tobias\", 23, 25.3, [])\n\n# A list inside a tuple can change\nT[-1].append(44)\n\n# The tuple did NOT change, it still refers to the same list; only the list was changed\nprint(T)",
   "execution_count": null,
   "outputs": []
  },
  {
   "cell_type": "markdown",
   "source": "---\n<font size=\"6\" color=\"#B24C00\"  face=\"verdana\"> <B>Task 1</B></font>\n\n## Tuple Basics",
   "metadata": {
    "cell_id": "00020-d95eeabd-da05-4da4-95c5-c22b43f23200",
    "deepnote_cell_type": "markdown"
   }
  },
  {
   "cell_type": "markdown",
   "source": "### Creating tuples",
   "metadata": {
    "cell_id": "00021-a7dd4791-ac5d-4da6-b487-3fe45babe1d7",
    "deepnote_cell_type": "markdown"
   }
  },
  {
   "cell_type": "code",
   "metadata": {
    "collapsed": true,
    "cell_id": "00022-d919a8be-a310-4982-bee1-a6734454662c",
    "deepnote_cell_type": "code"
   },
   "source": "# [ ] Create a tuple that consists of the following variables\n\nx = 5\nl = [4.4, 5.3]\ns = \"something\"\nt = (9, 0)\n",
   "execution_count": null,
   "outputs": []
  },
  {
   "cell_type": "markdown",
   "source": "### Modifying tuples",
   "metadata": {
    "cell_id": "00023-31965eda-2efe-48eb-b818-2c327837be61",
    "deepnote_cell_type": "markdown"
   }
  },
  {
   "cell_type": "code",
   "metadata": {
    "collapsed": true,
    "cell_id": "00024-4ea8e9b6-9f33-45f5-afd5-cd76ecb696ab",
    "deepnote_cell_type": "code"
   },
   "source": "# [ ] Change the third element of T to [59, 20.4]\n\nT = ([43.6, 34], [49, 59], [50, 34.6], [39, 49])\n",
   "execution_count": null,
   "outputs": []
  },
  {
   "cell_type": "markdown",
   "source": "### Merging tuples",
   "metadata": {
    "cell_id": "00025-200ad89c-0f75-42e6-bcfd-b9aedbb8403a",
    "deepnote_cell_type": "markdown"
   }
  },
  {
   "cell_type": "code",
   "metadata": {
    "collapsed": true,
    "cell_id": "00026-59c60534-cf8e-4cdf-bc19-fa416b6439a3",
    "deepnote_cell_type": "code"
   },
   "source": "# [ ] Write a program to merge the content of T1 and T2 into one tuple T\n# Correct output should be T = (5, 4, 3, 9, 2, 12)\n# T = ((5, 4, 3), (9, 2, 12)) is an incorrect output\n\n# Hint: Use list to/from tuple conversion\n\nT1 = (5, 4, 3)\nT2 = (9, 2, 12)\n\n\n#",
   "execution_count": null,
   "outputs": []
  },
  {
   "cell_type": "markdown",
   "source": "---\n<font size=\"6\" color=\"#00A0B2\"  face=\"verdana\"> <B>Concepts</B></font>  \n\n\n## Slicing and Unpacking Tuples\n[![view video](https://iajupyterprodblobs.blob.core.windows.net/imagecontainer/common/play_video.png)](http://edxinteractivepage.blob.core.windows.net/edxpages/f7cff1a7-5601-48a1-95a6-fd1fdfabd20e.html?details=[{\"src\":\"http://jupyternootbookwams.streaming.mediaservices.windows.net/93221e6c-bc59-4602-8356-2cdb560d2b98/DEV330x-3_3b_slicing_unpacking.ism/manifest\",\"type\":\"application/vnd.ms-sstr+xml\"}],[{\"src\":\"http://jupyternootbookwams.streaming.mediaservices.windows.net/2b7f9853-805b-4a18-b1b3-5e00c486758a/DEV330x-3_3b_slicing_unpacking.vtt\",\"srclang\":\"en\",\"kind\":\"subtitles\",\"label\":\"english\"}])\n\n#### Slicing tuples\nSlicing a tuple (or a list) lets you access a subset of a tuple. You can then assign this subset as a new tuple, pass it to a function, or do anything you would do with the full tuple.\n\nYou can slice a tuple using the following syntax `T[initial_index:final_index]`:\n* The `initial_index` is optional; if left empty, slicing starts from 0\n* The `final_index` is optional; if left empty, slicing goes to the last element of the tuple\n* The `T[initial_index]` element is included in the sliced tuple; the `T[final_index]` is excluded\n* You can use negative numbers for both indices, where the final tuple element has index -1, the preceding has index -2, and so on\n* Whether you use negative or positive indices you should always keep `initial_index < final_index`\n\n```python\n>>> T = ('name', [2, 4], 5.3, 19)\n>>> T[1:2] # from index 1 (included) to index 2 (excluded)\n([2, 4],)\n>>> T[1:] # from index 1 (included) to the last element\n([2, 4], 5.3, 19)\n>>> T[:2] # from the start of a tuple to index 2 (excluded)\n('name', [2, 4])\n>>> T[-3:-1] # from  index -3 (included) to index -1 (excluded)\n([2, 4], 5.3)\n>>> T[-3:] # from index -3 to the last element\n([2, 4], 5.3, 19)\n>>> T[:] # all elements\n('name', [2, 4], 5.3, 19)\n\n```\n\n#### Unpacking tuples\nA tuple can be unpacked and its values can be assigned to multiple variables at the same time. This is especially useful when a function returns a single tuple containing all the returned variables.\n\n```python\n>>> (a, b) = (4, 5)\n>>> print(a)\n4\n>>> print(b)\n5\n>>> \n```\nThe parentheses can be left off when unpacking tuples.\n\n```python\n>>> x, y, z = 1, 2, 3\n>>> x\n1\n>>> y\n2\n>>> z\n3\n```",
   "metadata": {
    "cell_id": "00027-66dea2d3-4674-4c96-a0ca-91fd05d5a0d3",
    "deepnote_cell_type": "markdown"
   }
  },
  {
   "cell_type": "markdown",
   "source": "---\n<font size=\"6\" color=\"#00A0B2\"  face=\"verdana\"> <B>Examples</B></font>",
   "metadata": {
    "cell_id": "00028-00fdd4c1-b6a1-4532-9776-26902c3f11dc",
    "deepnote_cell_type": "markdown"
   }
  },
  {
   "cell_type": "markdown",
   "source": "### Slicing tuples",
   "metadata": {
    "cell_id": "00029-95eccd4f-8ca8-4f00-aa33-a82cdd58ff3f",
    "deepnote_cell_type": "markdown"
   }
  },
  {
   "cell_type": "code",
   "metadata": {
    "collapsed": true,
    "cell_id": "00030-e33e5569-1d0e-4282-9dbe-677a9c67e82f",
    "deepnote_cell_type": "code"
   },
   "source": "T = (12, 24, 'name', 'city')\n\n# Slice the tuple into numerical and textual tuples\nnumerical_tuple = T[0:2]\nprint(numerical_tuple)\n\ntextual_tuple = T[-2:]\nprint(textual_tuple)",
   "execution_count": null,
   "outputs": []
  },
  {
   "cell_type": "markdown",
   "source": "### Unpacking tuples",
   "metadata": {
    "cell_id": "00031-af298a05-fa61-4376-90df-91a177b63dc9",
    "deepnote_cell_type": "markdown"
   }
  },
  {
   "cell_type": "code",
   "metadata": {
    "collapsed": true,
    "cell_id": "00032-8ce42a97-07bf-411f-8535-da51c550cb3a",
    "deepnote_cell_type": "code"
   },
   "source": "# Swap variables using tuple unpacking\n\ne1 = 5\ne2 = 109\nprint(\"\\nBefore swapping:\")\nprint(\"e1 = {:3d}\\t e2 = {:3d}\".format(e1, e2))\n\ne1, e2 = e2, e1\n\nprint(\"\\nAfter swapping:\")\nprint(\"e1 = {:3d}\\t e2 = {:3d}\".format(e1, e2))",
   "execution_count": null,
   "outputs": []
  },
  {
   "cell_type": "markdown",
   "source": "### Returning function values\nTuples can be used in functions to return multiple values. In this example, you will see the function `split_name` splits a full name then returns the first and last names as a packed tuple. You can then unpack the returned tuple and use its content as separate variables.",
   "metadata": {
    "cell_id": "00033-8e77e573-d52f-4c50-99e0-5592eae3b058",
    "deepnote_cell_type": "markdown"
   }
  },
  {
   "cell_type": "code",
   "metadata": {
    "collapsed": true,
    "cell_id": "00034-21e506ba-1abd-4804-a05c-eada96714fa3",
    "deepnote_cell_type": "code"
   },
   "source": "# Split a full name into the first and last names\ndef split_name(name):\n    names = name.split(\" \")\n    first_name = names[0]\n    last_name = names[-1]\n    # pack the variables into a tuple, then return the tuple\n    return (first_name, last_name)\n\n# Ask user for input\nname = input(\"Enter your full name: \")\n\n# Unpack the returned tuples into first, last variables\n# looks like the function returns 2 variables\nfirst, last = split_name(name)\n\n# Unpacked variables can be used separately\nprint(\"First name: {:s}\".format(first))\nprint(\"Last name: {:s}\".format(last))",
   "execution_count": null,
   "outputs": []
  },
  {
   "cell_type": "markdown",
   "source": "---\n<font size=\"6\" color=\"#B24C00\"  face=\"verdana\"> <B>Task 2</B></font>\n\n## Slicing and Unpacking Tuples",
   "metadata": {
    "cell_id": "00035-72f46283-fe85-4a34-a530-03e5548b0499",
    "deepnote_cell_type": "markdown"
   }
  },
  {
   "cell_type": "markdown",
   "source": "### Slicing tuples",
   "metadata": {
    "cell_id": "00036-89f5abe5-0c02-46eb-9c95-5e2897e60dc0",
    "deepnote_cell_type": "markdown"
   }
  },
  {
   "cell_type": "code",
   "metadata": {
    "collapsed": true,
    "cell_id": "00037-7bec9fb1-72b3-4e96-855a-1f9c78509501",
    "deepnote_cell_type": "code"
   },
   "source": "# [ ] Write a program to split the content of T into T1 and T2\n# T1 = (5, 4, 3)\n# T2 = (9, 2, 12)\n\nT = (5, 4, 3, 9, 2, 12)\n",
   "execution_count": null,
   "outputs": []
  },
  {
   "cell_type": "markdown",
   "source": "### Unpacking tuples",
   "metadata": {
    "cell_id": "00038-133f1945-8b98-440f-a14b-b2215ba9a47b",
    "deepnote_cell_type": "markdown"
   }
  },
  {
   "cell_type": "code",
   "metadata": {
    "collapsed": true,
    "cell_id": "00039-6e82c729-69f5-480e-b245-220542177daa",
    "deepnote_cell_type": "code"
   },
   "source": "# [ ] Write an expression to unpack `T` into:\n# 1) x = 5\n# 2) l = [3, 5.3]\n# 3) s = 'something\n# 4) t = (9, 0)\n\nT = (5, [3, 5.3], 'something', (9, 0))\n\n#TODO: Your code goes here\n\nprint(\"After unpacking the tuple:\", T)\nprint(\"x =\", x)\nprint(\"l =\", l)\nprint(\"s =\", s)\nprint(\"t =\", t)",
   "execution_count": null,
   "outputs": []
  },
  {
   "cell_type": "code",
   "metadata": {
    "collapsed": true,
    "cell_id": "00040-a76335c0-a106-4eb4-bdd1-61abb07fb263",
    "deepnote_cell_type": "code"
   },
   "source": "# [ ] Complete the function `current_date` to return today's month, day, and year\n# Hint: Use an appropriate function from the datetime module\n\ndef current_date():\n    pass\n    #TODO return month, day, year\n\nm, d, y = current_date()\nprint(\"Today's date is: {:2d}/{:2d}/{:4d}\".format(m, d, y))\n",
   "execution_count": null,
   "outputs": []
  },
  {
   "cell_type": "markdown",
   "source": "---\n<font size=\"6\" color=\"#00A0B2\"  face=\"verdana\"> <B>Concepts</B></font>  \n\n## Tuple Operations and Functions\n[![view video](https://iajupyterprodblobs.blob.core.windows.net/imagecontainer/common/play_video.png)](http://edxinteractivepage.blob.core.windows.net/edxpages/f7cff1a7-5601-48a1-95a6-fd1fdfabd20e.html?details=[{\"src\":\"http://jupyternootbookwams.streaming.mediaservices.windows.net/1b1a7dca-d734-4a7b-b3a0-2e260c627a70/DEV330x-3_3c_tuple_operations_an.ism/manifest\",\"type\":\"application/vnd.ms-sstr+xml\"}],[{\"src\":\"http://jupyternootbookwams.streaming.mediaservices.windows.net/33e8ee17-647b-4e61-8e98-d556cb79a6fd/DEV330x-3_3c_tuple_operations_and_functions.vtt\",\"srclang\":\"en\",\"kind\":\"subtitles\",\"label\":\"english\"}])\n\nPython support several tuple operations, such as containment, identity, and concatenation. In the following examples, you will explore a few of the tuple operations.",
   "metadata": {
    "cell_id": "00041-9d572623-bea1-4a4d-a2c5-4f07e79520a7",
    "deepnote_cell_type": "markdown"
   }
  },
  {
   "cell_type": "markdown",
   "source": "---\n<font size=\"6\" color=\"#00A0B2\"  face=\"verdana\"> <B>Examples</B></font>",
   "metadata": {
    "cell_id": "00042-55148dcc-82ee-4f36-9fb3-9caf95000039",
    "deepnote_cell_type": "markdown"
   }
  },
  {
   "cell_type": "markdown",
   "source": "### Containment (`in`, `not in`)\n\nYou can test whether an object is contained in a tuple.",
   "metadata": {
    "cell_id": "00043-56978995-30aa-4619-a3c6-bf3cebe06e8a",
    "deepnote_cell_type": "markdown"
   }
  },
  {
   "cell_type": "code",
   "metadata": {
    "collapsed": true,
    "cell_id": "00044-9ecc8594-a4e2-478f-bd96-8f03ebf96f4c",
    "deepnote_cell_type": "code"
   },
   "source": "T = (4, [5, 6], 'name', 3.5, True)\n\nprint(\"4 contained in T?\", 4 in T)\nprint(\"5 not contained in T?\", 5 not in T )\nprint(\"False contained in T?\", False in T)",
   "execution_count": null,
   "outputs": []
  },
  {
   "cell_type": "markdown",
   "source": "### Identity (`is`) and equality (`==`)\nYou can test whether two tuples contain equal elements by using the identity `==` operator. Similarly, you can test whether tuples are identical by using the `is` operator. Remember, if two tuples (and lists) are identical, changing an element in one will generate the same change in the other.",
   "metadata": {
    "cell_id": "00045-5f72668b-c118-4d09-bd4d-762c668aed1b",
    "deepnote_cell_type": "markdown"
   }
  },
  {
   "cell_type": "code",
   "metadata": {
    "collapsed": true,
    "cell_id": "00046-a2e46326-3c45-49b5-b4f2-d636620b50f1",
    "deepnote_cell_type": "code"
   },
   "source": "# Equivalent tuples, not identical\nT1 = (10, [2, 4], 59)\nT2 = (10, [2, 4], 59)\n\nif (T1 == T2):\n    print(\"Equal tuples\")\nelse:\n    print(\"Not equal tuples\")\n\nif (T1 is T2):\n    print(\"Identical tuples\")\nelse:\n    print(\"Not identical tuples\")",
   "execution_count": null,
   "outputs": []
  },
  {
   "cell_type": "code",
   "metadata": {
    "collapsed": true,
    "cell_id": "00047-84d1298e-17ad-4431-b219-8115eb353806",
    "deepnote_cell_type": "code"
   },
   "source": "# Identical tuples (also equivalent)\nT1 = (10, [2, 4], 59)\nT2 = T1\n\nif (T1 == T2):\n    print(\"Equal tuples\")\nelse:\n    print(\"Not equal tuples\")\n\nif (T1 is T2):\n    print(\"Identical tuples\")\nelse:\n    print(\"Not identical tuples\")",
   "execution_count": null,
   "outputs": []
  },
  {
   "cell_type": "code",
   "metadata": {
    "collapsed": true,
    "cell_id": "00048-e72d8540-611a-4dff-9110-c97c292af444",
    "deepnote_cell_type": "code"
   },
   "source": "# Changing one of 2 identical tuples\nT1 = (10, [2, 4], 59)\nT2 = T1\n\n# A change in T1 is a change in T2\nT1[1][0] = 20\n\nprint(\"T1 = \", T1)\nprint(\"T2 = \", T2)",
   "execution_count": null,
   "outputs": []
  },
  {
   "cell_type": "markdown",
   "source": "### Concatenation (`+`)\n\nYou can concatenate two tuples and save the result in a new tuple.",
   "metadata": {
    "cell_id": "00049-e16e7be4-2eb9-4452-8fa6-263dcbf85fa9",
    "deepnote_cell_type": "markdown"
   }
  },
  {
   "cell_type": "code",
   "metadata": {
    "collapsed": true,
    "cell_id": "00050-2e92b41a-d737-4d48-a1ab-19de32cfa69c",
    "deepnote_cell_type": "code"
   },
   "source": "T1 = (\"First\", \"Last\")\nT2 = (\"Middle\",) # single element tuple\n\n# Concatenate two tuples\nT = T1 + T2\nprint(T)",
   "execution_count": null,
   "outputs": []
  },
  {
   "cell_type": "markdown",
   "source": "You can also concatenate sliced tuples",
   "metadata": {
    "cell_id": "00051-d6d966b0-3e15-40cb-9b42-72116c51a891",
    "deepnote_cell_type": "markdown"
   }
  },
  {
   "cell_type": "code",
   "metadata": {
    "collapsed": true,
    "cell_id": "00052-c1fa39e1-19b7-4de6-84b5-bbf919bc7296",
    "deepnote_cell_type": "code"
   },
   "source": "T1 = (10, [2, 4], 59)\nT2 = (59, [2, 4], 'name', 3.5, True)\n\n# Concatenate sliced tuples\nT = T1[1:] + T2[0:2]\nprint(T)",
   "execution_count": null,
   "outputs": []
  },
  {
   "cell_type": "markdown",
   "source": "### Length of a tuple (`len`)\nThe length of a tuple is the number of elements in it. If a list (or another tuple) is an element of the tuple, it is counted as 1 regardless of how many subelements it actually contains. \n\nKnowing the length of a tuple might be helpful when iterating over the elements of the tuple.",
   "metadata": {
    "cell_id": "00053-9ad289f9-91d4-46bb-881f-5f72530b99d1",
    "deepnote_cell_type": "markdown"
   }
  },
  {
   "cell_type": "code",
   "metadata": {
    "collapsed": true,
    "cell_id": "00054-106119c6-9537-41d0-a3e5-d6bfdd407310",
    "deepnote_cell_type": "code"
   },
   "source": "# length of tuple\nT1 = (10, [2, 4], 59)\nprint(len(T1))",
   "execution_count": null,
   "outputs": []
  },
  {
   "cell_type": "code",
   "metadata": {
    "collapsed": true,
    "cell_id": "00055-a22fa7d3-947a-4b5f-8077-74ef66837f99",
    "deepnote_cell_type": "code"
   },
   "source": "# Iterate over elements of a tuple\nT1 = (10, [2,4], 59)\n\nfor i in range(len(T1)):\n    print(\"T1[{:d}] = {}\".format(i, T1[i]))",
   "execution_count": null,
   "outputs": []
  },
  {
   "cell_type": "markdown",
   "source": "---\n<font size=\"6\" color=\"#B24C00\"  face=\"verdana\"> <B>Task 3</B></font>\n\n## Tuple Operations and Functions",
   "metadata": {
    "cell_id": "00056-7d555a79-74a2-49dc-bf45-8d6ff4fa626e",
    "deepnote_cell_type": "markdown"
   }
  },
  {
   "cell_type": "code",
   "metadata": {
    "collapsed": true,
    "cell_id": "00057-e9eb90af-7037-4388-9303-ec59a1041602",
    "deepnote_cell_type": "code"
   },
   "source": "# [ ] Write a program to merge the content of T1 and T2 into one tuple T\n# Correct output should be T = (5, 4, 3, 9, 2, 12), \n# T = ((5, 4, 3), (9, 2, 12)) is an incorrect output\n\n# You should NOT use lists in your solution\n\nT1 = (5, 4, 3)\nT2 = (9, 2, 12)",
   "execution_count": null,
   "outputs": []
  },
  {
   "cell_type": "code",
   "metadata": {
    "collapsed": true,
    "cell_id": "00058-32e548b3-6ea7-4286-9564-611476c5d9a3",
    "deepnote_cell_type": "code"
   },
   "source": "# [ ] Write a program to prompt the user for a number, then test if the number is contained in T\n\nT = (23, 45, 93, 59, 35, 58, 19, 3)\n",
   "execution_count": null,
   "outputs": []
  },
  {
   "cell_type": "code",
   "metadata": {
    "collapsed": true,
    "cell_id": "00059-ff040824-264f-4670-883b-fb3067bbd77c",
    "deepnote_cell_type": "code"
   },
   "source": "# Write a function to return the largest element in a tuple T\n\nT = (23, 45, 93, 59, 35, 58, 19, 3)\n",
   "execution_count": null,
   "outputs": []
  },
  {
   "cell_type": "code",
   "metadata": {
    "collapsed": true,
    "cell_id": "00060-0fa53339-624e-44c3-8c06-017091d4daa4",
    "deepnote_cell_type": "code"
   },
   "source": "# [ ] Write a program to compute the average of the elements in T\n\nT = (23, 45, 93, 59, 35, 58, 19, 3)\n\n",
   "execution_count": null,
   "outputs": []
  },
  {
   "cell_type": "markdown",
   "source": "<a style='text-decoration:none;line-height:16px;display:flex;color:#5B5B62;padding:10px;justify-content:end;' href='https://deepnote.com?utm_source=created-in-deepnote-cell&projectId=f733783a-c385-4b8b-8ff6-441e6039f2f0' target=\"_blank\">\n<img alt='Created in deepnote.com' style='display:inline;max-height:16px;margin:0px;margin-right:7.5px;' src='data:image/svg+xml;base64,PD94bWwgdmVyc2lvbj0iMS4wIiBlbmNvZGluZz0iVVRGLTgiPz4KPHN2ZyB3aWR0aD0iODBweCIgaGVpZ2h0PSI4MHB4IiB2aWV3Qm94PSIwIDAgODAgODAiIHZlcnNpb249IjEuMSIgeG1sbnM9Imh0dHA6Ly93d3cudzMub3JnLzIwMDAvc3ZnIiB4bWxuczp4bGluaz0iaHR0cDovL3d3dy53My5vcmcvMTk5OS94bGluayI+CiAgICA8IS0tIEdlbmVyYXRvcjogU2tldGNoIDU0LjEgKDc2NDkwKSAtIGh0dHBzOi8vc2tldGNoYXBwLmNvbSAtLT4KICAgIDx0aXRsZT5Hcm91cCAzPC90aXRsZT4KICAgIDxkZXNjPkNyZWF0ZWQgd2l0aCBTa2V0Y2guPC9kZXNjPgogICAgPGcgaWQ9IkxhbmRpbmciIHN0cm9rZT0ibm9uZSIgc3Ryb2tlLXdpZHRoPSIxIiBmaWxsPSJub25lIiBmaWxsLXJ1bGU9ImV2ZW5vZGQiPgogICAgICAgIDxnIGlkPSJBcnRib2FyZCIgdHJhbnNmb3JtPSJ0cmFuc2xhdGUoLTEyMzUuMDAwMDAwLCAtNzkuMDAwMDAwKSI+CiAgICAgICAgICAgIDxnIGlkPSJHcm91cC0zIiB0cmFuc2Zvcm09InRyYW5zbGF0ZSgxMjM1LjAwMDAwMCwgNzkuMDAwMDAwKSI+CiAgICAgICAgICAgICAgICA8cG9seWdvbiBpZD0iUGF0aC0yMCIgZmlsbD0iIzAyNjVCNCIgcG9pbnRzPSIyLjM3NjIzNzYyIDgwIDM4LjA0NzY2NjcgODAgNTcuODIxNzgyMiA3My44MDU3NTkyIDU3LjgyMTc4MjIgMzIuNzU5MjczOSAzOS4xNDAyMjc4IDMxLjY4MzE2ODMiPjwvcG9seWdvbj4KICAgICAgICAgICAgICAgIDxwYXRoIGQ9Ik0zNS4wMDc3MTgsODAgQzQyLjkwNjIwMDcsNzYuNDU0OTM1OCA0Ny41NjQ5MTY3LDcxLjU0MjI2NzEgNDguOTgzODY2LDY1LjI2MTk5MzkgQzUxLjExMjI4OTksNTUuODQxNTg0MiA0MS42NzcxNzk1LDQ5LjIxMjIyODQgMjUuNjIzOTg0Niw0OS4yMTIyMjg0IEMyNS40ODQ5Mjg5LDQ5LjEyNjg0NDggMjkuODI2MTI5Niw0My4yODM4MjQ4IDM4LjY0NzU4NjksMzEuNjgzMTY4MyBMNzIuODcxMjg3MSwzMi41NTQ0MjUgTDY1LjI4MDk3Myw2Ny42NzYzNDIxIEw1MS4xMTIyODk5LDc3LjM3NjE0NCBMMzUuMDA3NzE4LDgwIFoiIGlkPSJQYXRoLTIyIiBmaWxsPSIjMDAyODY4Ij48L3BhdGg+CiAgICAgICAgICAgICAgICA8cGF0aCBkPSJNMCwzNy43MzA0NDA1IEwyNy4xMTQ1MzcsMC4yNTcxMTE0MzYgQzYyLjM3MTUxMjMsLTEuOTkwNzE3MDEgODAsMTAuNTAwMzkyNyA4MCwzNy43MzA0NDA1IEM4MCw2NC45NjA0ODgyIDY0Ljc3NjUwMzgsNzkuMDUwMzQxNCAzNC4zMjk1MTEzLDgwIEM0Ny4wNTUzNDg5LDc3LjU2NzA4MDggNTMuNDE4MjY3Nyw3MC4zMTM2MTAzIDUzLjQxODI2NzcsNTguMjM5NTg4NSBDNTMuNDE4MjY3Nyw0MC4xMjg1NTU3IDM2LjMwMzk1NDQsMzcuNzMwNDQwNSAyNS4yMjc0MTcsMzcuNzMwNDQwNSBDMTcuODQzMDU4NiwzNy43MzA0NDA1IDkuNDMzOTE5NjYsMzcuNzMwNDQwNSAwLDM3LjczMDQ0MDUgWiIgaWQ9IlBhdGgtMTkiIGZpbGw9IiMzNzkzRUYiPjwvcGF0aD4KICAgICAgICAgICAgPC9nPgogICAgICAgIDwvZz4KICAgIDwvZz4KPC9zdmc+' > </img>\nCreated in <span style='font-weight:600;margin-left:4px;'>Deepnote</span></a>",
   "metadata": {
    "tags": [],
    "created_in_deepnote_cell": true,
    "deepnote_cell_type": "markdown"
   }
  }
 ],
 "nbformat": 4,
 "nbformat_minor": 2,
 "metadata": {
  "kernelspec": {
   "display_name": "Python 3",
   "language": "python",
   "name": "python3"
  },
  "language_info": {
   "codemirror_mode": {
    "name": "ipython",
    "version": 3
   },
   "file_extension": ".py",
   "mimetype": "text/x-python",
   "name": "python",
   "nbconvert_exporter": "python",
   "pygments_lexer": "ipython3",
   "version": "3.6.3"
  },
  "deepnote_notebook_id": "782f339e-7dfa-4548-bfdb-438e4e6900c4",
  "deepnote": {},
  "deepnote_execution_queue": []
 }
}