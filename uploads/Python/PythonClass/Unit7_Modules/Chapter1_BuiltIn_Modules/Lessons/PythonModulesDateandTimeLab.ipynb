{
  "cells": [
    {
      "cell_type": "markdown",
      "metadata": {
        "id": "t16nUQyG8KJ4"
      },
      "source": [
        "# Module 1 Practice\n",
        "\n",
        "### Students will be able to:\n",
        "\n",
        "## 3-1.1 Using Python Modules\n",
        "* Import different Python modules\n",
        "* Compute mathematical expressions using functions from the math module\n",
        "* Recognize the effect of operator precedence\n",
        "* Round real numbers into the nearest integer\n",
        "* Generate (pseudo-)random integers\n",
        "* Select a random element from a list\n",
        "* Shuffle the elements of a list\n",
        "\n",
        "##  3-1.2 Working with Date and Time\n",
        "* Assign and modify a time object (variable)\n",
        "* Assign and modify a date object (variable)\n",
        "* Get the current local date\n",
        "* Assign and modify a datetime object (variable)\n",
        "* Split a datetime object into separate time and date objects\n",
        "* Combine time and date objects into datetime objects\n",
        "* Display a datetime object as a formatted string\n",
        "\n",
        "## 3-1.3 Date and Time Arithmetic\n",
        "\n",
        "* Create timedelta objects\n",
        "* Use timedelta objects to perform date arithmetic\n",
        "* Compare two datetime objects\n",
        "* Build a useful application using timedelta arithmetic\n",
        "\n"
      ]
    },
    {
      "cell_type": "markdown",
      "metadata": {
        "id": "WXdSsJBE8KJ8"
      },
      "source": [
        "---\n",
        "<font size=\"6\" color=\"#B24C00\"  face=\"verdana\"> <B>Task 1</B></font>\n",
        "\n",
        "## `math` module\n"
      ]
    },
    {
      "cell_type": "code",
      "execution_count": null,
      "metadata": {
        "collapsed": true,
        "id": "Tp3Relt-8KJ-"
      },
      "outputs": [],
      "source": [
        "# [ ] Use the math module to display an accurate value for pi\n",
        "\n"
      ]
    },
    {
      "cell_type": "code",
      "execution_count": null,
      "metadata": {
        "collapsed": true,
        "id": "OReoGmNO8KKA"
      },
      "outputs": [],
      "source": [
        "# [ ] Write a program to:\n",
        "# 1) find all the numbers in a list that are divisible by 3\n",
        "# 2) display the square root of these numbers\n",
        "# 3) use a rounding function to display the square roots while ignoring the decimal fraction\n",
        "\n",
        "lst = [23, 45, 65, 2345, 42, 76, 37, 87, 647, 35, 37 ,39, 898, 92, 18]\n",
        "\n"
      ]
    },
    {
      "cell_type": "markdown",
      "metadata": {
        "id": "E5yV552G8KKB"
      },
      "source": [
        "---\n",
        "<font size=\"6\" color=\"#B24C00\"  face=\"verdana\"> <B>Task 2</B></font>\n",
        "\n",
        "## Mathematical operators\n"
      ]
    },
    {
      "cell_type": "markdown",
      "metadata": {
        "id": "TGVsI-PC8KKC"
      },
      "source": [
        "### Coin calculators\n",
        "\n",
        "In the following exercises, you will develop functions to count the number of coins in a certain dollar amount. You will then use these functions to write a program that can calculate the change due to a customer in coins."
      ]
    },
    {
      "cell_type": "markdown",
      "metadata": {
        "id": "-uq60ggp8KKD"
      },
      "source": [
        "#### Quarters"
      ]
    },
    {
      "cell_type": "code",
      "execution_count": null,
      "metadata": {
        "collapsed": true,
        "id": "-gboKwhe8KKE"
      },
      "outputs": [],
      "source": [
        "# [ ] Complete the function `quarters_count` so it calculates and prints the number of quarters in `input_cents`\n",
        "# The function input `input_cents` should be in cents \n",
        "# The function should print the number of calculated quarters in `input_cents`\n",
        "# The function should return the number of remaining cents `remaining_cents` (which is less than 25, why?)\n",
        "# HINT: You might want to use % and // operators\n",
        "\n",
        "def quarters_count(input_cents):\n",
        "    #TODO\n",
        "\n",
        "# test with $2\n",
        "# Output should be: 8 quarter\\s\n",
        "dollars = 2\n",
        "total_cents = dollars * 100\n",
        "remaining_cents = quarters_count(total_cents)\n",
        "\n",
        "# test with $5.30\n",
        "# Output should be: 21.0 quarter\\s\n",
        "dollars = 5.30\n",
        "total_cents = dollars * 100\n",
        "remaining_cents = quarters_count(total_cents)\n",
        "\n",
        "# test with $9.49\n",
        "# Output should be: 37.0 quarter\\s\n",
        "dollars = 9.49\n",
        "total_cents = dollars * 100\n",
        "remaining_cents = quarters_count(total_cents)\n",
        "\n"
      ]
    },
    {
      "cell_type": "markdown",
      "metadata": {
        "id": "yF1D_ZBF8KKG"
      },
      "source": [
        "#### Dimes"
      ]
    },
    {
      "cell_type": "code",
      "execution_count": null,
      "metadata": {
        "collapsed": true,
        "id": "H8SwLpjq8KKH"
      },
      "outputs": [],
      "source": [
        "# [ ] Complete the function `dimes_count` so it calculates and prints the number of dimes in `input_cents`\n",
        "# The function input `input_cents` should be in cents \n",
        "# The function should print the number of calculated dimes in `input_cents`\n",
        "# The function should return the number of remaining cents `remaining_cents` (which is less than 10, why?)\n",
        "# HINT: You might want to use % and // operators\n",
        "\n",
        "def dimes_count(input_cents):\n",
        "    #TODO\n",
        "\n",
        "# test with $2\n",
        "# Output should be: 20 dime\\s\n",
        "dollars = 2\n",
        "total_cents = dollars * 100\n",
        "remaining_cents = dimes_count(total_cents)\n",
        "\n",
        "# test with $5.30\n",
        "# Output should be: 53.0 dime\\s\n",
        "dollars = 5.30\n",
        "total_cents = dollars * 100\n",
        "remaining_cents = dimes_count(total_cents)\n",
        "\n",
        "# test with $9.49\n",
        "# Output should be: 94.0 dime\\s\n",
        "dollars = 9.49\n",
        "total_cents = dollars * 100\n",
        "remaining_cents = dimes_count(total_cents)\n",
        "\n"
      ]
    },
    {
      "cell_type": "markdown",
      "metadata": {
        "id": "PGa0ECqk8KKI"
      },
      "source": [
        "#### Nickels"
      ]
    },
    {
      "cell_type": "code",
      "execution_count": null,
      "metadata": {
        "collapsed": true,
        "id": "UXTOtvbd8KKI"
      },
      "outputs": [],
      "source": [
        "# [ ] Complete the function `nickels_count` so it calculates and prints the number of nickels in `input_cents`\n",
        "# The function input `input_cents` should be in cents \n",
        "# The function should print the number of calculated nickels in `input_cents`\n",
        "# The function should return the number of remaining cents `remaining_cents` (which is less than 5, why?)\n",
        "# HINT: You might want to use % and // operators\n",
        "\n",
        "def nickels_count(input_cents):\n",
        "    #TODO\n",
        "\n",
        "# test with $2\n",
        "# Output should be: 40 nickel\\s\n",
        "dollars = 2\n",
        "total_cents = dollars * 100\n",
        "remaining_cents = nickels_count(total_cents)\n",
        "\n",
        "# test with $5.30\n",
        "# Output should be: 106.0 nickel\\s\n",
        "dollars = 5.30\n",
        "total_cents = dollars * 100\n",
        "remaining_cents = nickels_count(total_cents)\n",
        "\n",
        "# test with $9.49\n",
        "# Output should be: 189.0 nickel\\s\n",
        "dollars = 9.49\n",
        "total_cents = dollars * 100\n",
        "remaining_cents = nickels_count(total_cents)\n"
      ]
    },
    {
      "cell_type": "markdown",
      "metadata": {
        "id": "PBqTRYYW8KKJ"
      },
      "source": [
        "#### Change calculator"
      ]
    },
    {
      "cell_type": "code",
      "execution_count": null,
      "metadata": {
        "collapsed": true,
        "id": "o2RmYgT48KKJ"
      },
      "outputs": [],
      "source": [
        "# [ ] Complete the function `coins_due` to calculate and print the change due to a customer in coins\n",
        "#\n",
        "# The function `coins_due` has 2 inputs:\n",
        "#      - `amount_paid`: Amount paid by a customer (in cents)\n",
        "#      - `item_price`: Purchase price of an item\n",
        "#\n",
        "# The function should print:\n",
        "#      - The number of quarters due\n",
        "#      - The number of dimes due\n",
        "#      - The number of nickels due\n",
        "#      - The number of cents due\n",
        "#      \n",
        "# The function does not need to return anything\n",
        "#\n",
        "# HINT: Use the functions you developed before `quarters_count`, `dimes_count`, `nickels_count`\n",
        "\n",
        "\n",
        "def quarters_count(input_cents):\n",
        "    #TODO\n",
        "\n",
        "def dimes_count(input_cents):\n",
        "    #TODO\n",
        "\n",
        "def nickels_count(input_cents):\n",
        "    #TODO\n",
        "\n",
        "def coins_due(amount_paid, item_price):\n",
        "    print(\"Change due:\")\n",
        "    #TODO\n",
        "\n",
        "# Test case:\n",
        "# amount paid = $10, item price = $5.37\n",
        "# Output should be: \n",
        "#    Change due:\n",
        "#    18.0 quarter\\s\n",
        "#    1.0 dime\\s\n",
        "#    0.0 nickel\\s\n",
        "#    3.0 cent\\s\n",
        "\n",
        "amount_paid = 10 * 100 # in cents\n",
        "item_price = 5.37 * 100 # in cents\n",
        "coins_due(amount_paid, item_price)\n"
      ]
    },
    {
      "cell_type": "markdown",
      "metadata": {
        "id": "sdaIa2dw8KKK"
      },
      "source": [
        "---\n",
        "<font size=\"6\" color=\"#B24C00\"  face=\"verdana\"> <B>Task 3</B></font>\n",
        "\n",
        "## Random numbers\n"
      ]
    },
    {
      "cell_type": "markdown",
      "metadata": {
        "id": "Jr8KXcXa8KKL"
      },
      "source": [
        "### Probability of a die roll\n",
        "\n",
        "It is possible to mathematically predict the probability (or chance) of getting a certain die roll; however, in this exercise you will use Python to do it without math. The trick is to roll a die a large number of times and count how many times we get a certain roll. You can, then, divide the count by the large number to get the probability. For a fair 6-sided die, the chance of getting any of its faces is about 16.6%"
      ]
    },
    {
      "cell_type": "code",
      "execution_count": null,
      "metadata": {
        "collapsed": true,
        "id": "igi1DYks8KKL"
      },
      "outputs": [],
      "source": [
        "# [ ] Complete the following program to display the probability of a certain die roll\n",
        "\n",
        "from random import randint\n",
        "\n",
        "def die_roller ():\n",
        "    return(randint(1, 6))\n",
        "\n",
        "#TODO\n"
      ]
    },
    {
      "cell_type": "markdown",
      "metadata": {
        "id": "L39VRLTB8KKM"
      },
      "source": [
        "### Roll till you get 11\n",
        "\n",
        "In this exercise, you will count the number of times you need to roll a set of 2 dice till you get a roll sum of 11."
      ]
    },
    {
      "cell_type": "code",
      "execution_count": null,
      "metadata": {
        "collapsed": true,
        "id": "YNv2LnOI8KKM"
      },
      "outputs": [],
      "source": [
        "# [ ] Complete the following program so you can count the number of times needed to get a roll sum of 11\n",
        "\n",
        "from random import randint\n",
        "\n",
        "def die_roller():\n",
        "    return(randint(1, 6))\n",
        "\n",
        "def roll_sum():\n",
        "    return die_roller() + die_roller()\n",
        "\n",
        "#TODO\n"
      ]
    },
    {
      "cell_type": "markdown",
      "metadata": {
        "id": "gjCWBVcC8KKN"
      },
      "source": [
        "### Pick a candy\n",
        "\n",
        "In this exercise, you will write a program to randomly select a candy from a box."
      ]
    },
    {
      "cell_type": "code",
      "execution_count": null,
      "metadata": {
        "collapsed": true,
        "id": "zTXX36VL8KKN"
      },
      "outputs": [],
      "source": [
        "# [ ] Complete the function `pick_candy` so it returns a candy from box at random\n",
        "\n",
        "def pick_candy():\n",
        "    box = [\"Taffy\", \"Brownie\", \"Cookie\", \"Candy bar\", \"Chocolate\", \"Lollipop\", \"Gingerbread\", \"Marshmallow\"]\n",
        "    #TODO\n",
        "\n",
        "print(pick_candy())\n",
        "\n"
      ]
    },
    {
      "cell_type": "markdown",
      "metadata": {
        "id": "melj360n8KKO"
      },
      "source": [
        "### Shuffle a sorted list"
      ]
    },
    {
      "cell_type": "code",
      "execution_count": null,
      "metadata": {
        "collapsed": true,
        "id": "xmVQpYnw8KKO"
      },
      "outputs": [],
      "source": [
        "# [ ] Write a program to shuffle the following sorted list\n",
        "\n",
        "lst = [3, 5, 9, 29, 35, 59, 62, 69, 102, 394, 594, 1993]\n",
        "\n",
        "#TODO\n",
        "\n",
        "print(lst)\n"
      ]
    },
    {
      "cell_type": "markdown",
      "metadata": {
        "id": "_YtjoELx8KKP"
      },
      "source": [
        "---\n",
        "<font size=\"6\" color=\"#B24C00\"  face=\"verdana\"> <B>Task 4</B></font>\n",
        "\n",
        "## Working with date and time\n"
      ]
    },
    {
      "cell_type": "markdown",
      "metadata": {
        "id": "OPXCXQIt8KKP"
      },
      "source": [
        "### Current date and time"
      ]
    },
    {
      "cell_type": "code",
      "execution_count": null,
      "metadata": {
        "collapsed": true,
        "id": "JNgxTwvE8KKP"
      },
      "outputs": [],
      "source": [
        "# [ ] Write a program that displays the current time as (HH:MM AM/PM) (example 02:28 PM)\n",
        "\n"
      ]
    },
    {
      "cell_type": "code",
      "execution_count": null,
      "metadata": {
        "collapsed": true,
        "id": "WSEZT5II8KKQ"
      },
      "outputs": [],
      "source": [
        "# [ ] Write a program that displays the current time as (HH:MM:SS) (example 14:28:10)\n",
        "\n"
      ]
    },
    {
      "cell_type": "code",
      "execution_count": null,
      "metadata": {
        "collapsed": true,
        "id": "RdZOLsud8KKQ"
      },
      "outputs": [],
      "source": [
        "# [ ] Write a program that displays the current date as (Friday, December 15, 2017)\n",
        "\n"
      ]
    },
    {
      "cell_type": "markdown",
      "metadata": {
        "id": "YEEYPeRW8KKQ"
      },
      "source": [
        "### American VS European date format\n",
        "\n",
        "In the United States, the date is formatted as Month/Day/Year; whereas, in Europe the date is formatted as Day/Month/Year. In this exercise, you will write two functions that will display a `datetime` object in the American or European format."
      ]
    },
    {
      "cell_type": "code",
      "execution_count": null,
      "metadata": {
        "collapsed": true,
        "id": "jlfsp24Q8KKQ"
      },
      "outputs": [],
      "source": [
        "# [ ] Complete the functions `american_format(d)` and `european_format(d)` to display the datetime object d in the proper format\n",
        "\n",
        "from datetime import datetime\n",
        "\n",
        "def american_format(d):\n",
        "    #TODO\n",
        "    \n",
        "def european_format(d):\n",
        "    #TODO\n",
        "    \n",
        "# test\n",
        "d = datetime(month = 2, year = 2012, day = 13)\n",
        "\n",
        "print(\"American format:\", american_format(d))\n",
        "print(\"European format:\", european_format(d))\n"
      ]
    },
    {
      "cell_type": "markdown",
      "metadata": {
        "id": "P5PcX8E68KKR"
      },
      "source": [
        "### Birthday days"
      ]
    },
    {
      "cell_type": "code",
      "execution_count": null,
      "metadata": {
        "collapsed": true,
        "id": "Ip-A-wzi8KKR"
      },
      "outputs": [],
      "source": [
        "# [ ] Write a program to display a list of all your birthdays from the day you were born till 2025.\n",
        "# You should also show the weekdays so you can see which of them was (or will be) on a weekend\n"
      ]
    },
    {
      "cell_type": "markdown",
      "metadata": {
        "id": "WOV69m2j8KKR"
      },
      "source": [
        "---\n",
        "<font size=\"6\" color=\"#B24C00\"  face=\"verdana\"> <B>Task 5</B></font>\n",
        "\n",
        "## Date and Time Arithmetic\n"
      ]
    },
    {
      "cell_type": "markdown",
      "metadata": {
        "id": "Swn7ehfY8KKR"
      },
      "source": [
        "### `timedelta`"
      ]
    },
    {
      "cell_type": "code",
      "execution_count": null,
      "metadata": {
        "collapsed": true,
        "id": "DfpgBHX18KKR"
      },
      "outputs": [],
      "source": [
        "# Write a program to find out how many minutes are in a 4-week period\n",
        "# Hint: Use a timedelta object and the total_seconds() method\n"
      ]
    },
    {
      "cell_type": "markdown",
      "metadata": {
        "id": "vXclfzLQ8KKS"
      },
      "source": [
        "### Date arithmetic"
      ]
    },
    {
      "cell_type": "code",
      "execution_count": null,
      "metadata": {
        "collapsed": true,
        "id": "rY1KkvFx8KKS"
      },
      "outputs": [],
      "source": [
        "# [ ] Write a program to compute the number of days remaining in the current year\n",
        "\n"
      ]
    },
    {
      "cell_type": "markdown",
      "metadata": {
        "id": "jClGybH38KKS"
      },
      "source": [
        "### Comparing `datetime` objects"
      ]
    },
    {
      "cell_type": "code",
      "execution_count": null,
      "metadata": {
        "collapsed": true,
        "id": "wrpX85Ef8KKT"
      },
      "outputs": [],
      "source": [
        "# [ ] Complete the program below to find out if July 4th is within 10 days of today's date,\n",
        "# if it is, find out if has passed or not\n",
        "\n",
        "from datetime import datetime\n",
        "\n",
        "# get today's date\n",
        "todays_date = datetime.today()\n",
        "\n",
        "# 4th of July of current year\n",
        "july_4th = datetime(month = 7, day = 4, year = todays_date.year)\n",
        "\n",
        "days_difference = todays_date - july_4th\n",
        "\n",
        "#TODO\n",
        "    \n",
        "    \n"
      ]
    }
  ],
  "metadata": {
    "kernelspec": {
      "display_name": "Python 3.6",
      "language": "python",
      "name": "python36"
    },
    "language_info": {
      "codemirror_mode": {
        "name": "ipython",
        "version": 3
      },
      "file_extension": ".py",
      "mimetype": "text/x-python",
      "name": "python",
      "nbconvert_exporter": "python",
      "pygments_lexer": "ipython3",
      "version": "3.6.3"
    },
    "colab": {
      "name": "Updated Lab 3-1.5_Mod01_Practice.ipynb",
      "provenance": [],
      "collapsed_sections": []
    }
  },
  "nbformat": 4,
  "nbformat_minor": 0
}